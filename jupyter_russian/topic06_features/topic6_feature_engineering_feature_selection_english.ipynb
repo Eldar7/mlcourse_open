{
 "cells": [
  {
   "cell_type": "markdown",
   "metadata": {},
   "source": [
    "<center>\n",
    "<img src=\"../../img/ods_stickers.jpg\">\n",
    "## Open Machine Learning Course\n",
    "<center>\n",
    "Author: [Arseny Kravchenko](http://arseny.info/pages/about-me.html), Head of R&D at Wannaby <br>\n",
    "Translated and edited by [Christina Butsko](https://www.linkedin.com/in/christinabutsko/), [Egor Polusmak](https://www.linkedin.com/in/egor-polusmak/), [Anastasia Manokhina](https://www.linkedin.com/in/anastasiamanokhina/), [Anna Larionova](https://www.linkedin.com/in/anna-larionova-74434689/), [Evgeny Sushko](https://www.linkedin.com/in/evgenysushko/) and [Yuanyuan Pao](https://www.linkedin.com/in/yuanyuanpao/).\n",
    "\n",
    "This material is subject to the terms and conditions of the license [Creative Commons CC BY-NC-SA 4.0](https://creativecommons.org/licenses/by-nc-sa/4.0/). Free use is permitted for any non-comercial purpose with an obligatory indication of the names of the authors and of the source."
   ]
  },
  {
   "cell_type": "markdown",
   "metadata": {},
   "source": [
    "# <center> Topic 6. Feature Engineering and Feature Selection</center>\n",
    "In this course, we have already seen several key machine learning algorithms. However, before moving on to the more fancy ones, we’d like to take a small detour and talk about data preparation. The well-known concept of “garbage in — garbage out” applies 100% to any task in machine learning. Any experienced professional can recall numerous times when a simple model trained on high-quality data was proven to be better than a complicated multi-model ensemble built on data that wasn’t clean.\n",
    "\n",
    "To start, I wanted to review three similar but different tasks:\n",
    "* **feature extraction** and **feature engineering**: transformation of raw data into features suitable for modeling;\n",
    "* **feature transformation**: transformation of data to improve the accuracy of the algorithm;\n",
    "* **feature selection**: removing unnecessary features.\n",
    "\n",
    "This article will contain almost no math, but there will be a fair amount of code. Some examples will use the dataset from Renthop company, which is used in the [Two Sigma Connect: Rental Listing Inquiries Kaggle competition](https://www.kaggle.com/c/two-sigma-connect-rental-listing-inquiries). In this task, you need to predict the popularity of a new rental listing, i.e. classify the listing into three classes: `['low', 'medium' , 'high']`. To evaluate the solutions, we will use the log loss metric (the smaller, the better). Those who do not have a Kaggle account, will have to register; you will also need to accept the rules of the competition in order to download the data."
   ]
  },
  {
   "cell_type": "code",
   "execution_count": 56,
   "metadata": {
    "ExecuteTime": {
     "end_time": "2018-03-15T14:06:07.067528Z",
     "start_time": "2018-03-15T14:06:02.181930Z"
    }
   },
   "outputs": [],
   "source": [
    "import json\n",
    "import pandas as pd\n",
    "\n",
    "# Let's load the dataset from Renthop right away\n",
    "with open('../../data/train.json', 'r') as raw_data:\n",
    "    data = json.load(raw_data)\n",
    "    df = pd.DataFrame(data)"
   ]
  },
  {
   "cell_type": "markdown",
   "metadata": {},
   "source": [
    "## Article outline\n",
    "\n",
    "1. Feature Extraction\n",
    "        1. Texts\n",
    "        2. Images\n",
    "        3. Geospatial data\n",
    "        4. Date and time\n",
    "        5. Time series, web, etc.\n",
    "\n",
    "2. Feature transformations\n",
    "        1. Normalization and changing distribution\n",
    "        2. Interactions\n",
    "        3. Filling in the missing values\n",
    "\n",
    "3. Feature selection\n",
    "        1. Statistical approaches\n",
    "        2. Selection by modeling\n",
    "        3. Grid search"
   ]
  },
  {
   "cell_type": "markdown",
   "metadata": {},
   "source": [
    "## Feature Extraction\n",
    "\n",
    "In practice, data rarely comes in the form of ready-to-use matrices. That's why every task begins with feature extraction. Sometimes, it can be enough to read the csv file and convert it into `numpy.array`, but this is a rare exception. Let's look at some of the popular types of data from which features can be extracted."
   ]
  },
  {
   "cell_type": "markdown",
   "metadata": {},
   "source": [
    "### Texts\n",
    "\n",
    "Text is a type of data that can come in different formats; there are so many text processing methods that cannot fit in a single article. Nevertheless, we will review the most popular ones.\n",
    "\n",
    "Before working with text, one must tokenize it. Tokenization implies splitting the text into units (hence, tokens). Most simply, tokens are just the words. But splitting by word can lose some of the meaning -- \"Santa Barbara\" is one token, not two, but \"rock'n'roll\" should not be split into two tokens. There are ready-to-use tokenizers that take into account peculiarities of the language, but they make mistakes as well, especially when you work with specific sources of text (newspapers, slang, misspellings, typos).\n",
    "\n",
    "After tokenization, you will normalize the data. For text, this is about stemming and/or lemmatization; these are similar processes used to process different forms of a word. One can read about the difference between them [here](http://nlp.stanford.edu/IR-book/html/htmledition/stemming-and-lemmatization-1.html).\n",
    "\n",
    "So, now that we have turned the document into a sequence of words, we can represent it with vectors. The easiest approach is called Bag of Words: we create a vector with the length of the dictionary, compute the number of occurrences of each word in the text, and place that number of occurrences in the appropriate position in the vector. The process described looks simpler in code:"
   ]
  },
  {
   "cell_type": "code",
   "execution_count": 2,
   "metadata": {
    "ExecuteTime": {
     "end_time": "2018-03-15T14:06:07.087385Z",
     "start_time": "2018-03-15T14:06:07.068964Z"
    }
   },
   "outputs": [
    {
     "name": "stdout",
     "output_type": "stream",
     "text": [
      "[ 1.  1.  0.  1.  1.  0.  0.]\n",
      "[ 1.  0.  1.  1.  0.  0.  1.]\n",
      "[ 2.  1.  1.  1.  1.  2.  1.]\n"
     ]
    }
   ],
   "source": [
    "from functools import reduce \n",
    "import numpy as np\n",
    "\n",
    "texts = [['i', 'have', 'a', 'cat'], \n",
    "        ['he', 'have', 'a', 'dog'], \n",
    "        ['he', 'and', 'i', 'have', 'a', 'cat', 'and', 'a', 'dog']]\n",
    "\n",
    "dictionary = list(enumerate(set(list(reduce(lambda x, y: x + y, texts)))))\n",
    "\n",
    "def vectorize(text): \n",
    "    vector = np.zeros(len(dictionary)) \n",
    "    for i, word in dictionary: \n",
    "        num = 0 \n",
    "        for w in text: \n",
    "            if w == word: \n",
    "                num += 1 \n",
    "        if num: \n",
    "            vector[i] = num \n",
    "    return vector\n",
    "\n",
    "for t in texts: \n",
    "    print(vectorize(t))"
   ]
  },
  {
   "cell_type": "markdown",
   "metadata": {},
   "source": [
    "Here is an illustration of the process:\n",
    "\n",
    "![image](../../img/bag_of_words.png)\n",
    "\n",
    "This is an extremely naive implementation. In practice, you need to consider stop words, the maximum length of the dictionary, more efficient data structures (usually text data is converted to a sparse vector), etc.\n",
    "\n",
    "When using algorithms like Bag of Words, we lose the order of the words in the text, which means that the texts \"i have no cows\" and \"no, i have cows\" will appear identical after vectorization when, in fact, they have the opposite meaning. To avoid this problem, we can revisit our tokenization step and use N-grams (the *sequence* of N consecutive tokens) instead."
   ]
  },
  {
   "cell_type": "code",
   "execution_count": 3,
   "metadata": {
    "ExecuteTime": {
     "end_time": "2018-03-15T14:06:08.998673Z",
     "start_time": "2018-03-15T14:06:07.088376Z"
    }
   },
   "outputs": [
    {
     "data": {
      "text/plain": [
       "array([[1, 1, 1],\n",
       "       [1, 1, 1]], dtype=int64)"
      ]
     },
     "execution_count": 3,
     "metadata": {},
     "output_type": "execute_result"
    }
   ],
   "source": [
    "from sklearn.feature_extraction.text import CountVectorizer\n",
    "\n",
    "vect = CountVectorizer(ngram_range=(1,1))\n",
    "vect.fit_transform(['no i have cows', 'i have no cows']).toarray()"
   ]
  },
  {
   "cell_type": "code",
   "execution_count": 4,
   "metadata": {
    "ExecuteTime": {
     "end_time": "2018-03-15T14:06:09.002804Z",
     "start_time": "2018-03-15T14:06:08.999801Z"
    }
   },
   "outputs": [
    {
     "data": {
      "text/plain": [
       "{'cows': 0, 'have': 1, 'no': 2}"
      ]
     },
     "execution_count": 4,
     "metadata": {},
     "output_type": "execute_result"
    }
   ],
   "source": [
    "vect.vocabulary_ "
   ]
  },
  {
   "cell_type": "code",
   "execution_count": 46,
   "metadata": {
    "ExecuteTime": {
     "end_time": "2018-03-15T14:06:09.110448Z",
     "start_time": "2018-03-15T14:06:09.003924Z"
    }
   },
   "outputs": [
    {
     "data": {
      "text/plain": [
       "array([[1, 0, 0, 0, 1, 1],\n",
       "       [0, 1, 1, 1, 0, 0]], dtype=int64)"
      ]
     },
     "execution_count": 46,
     "metadata": {},
     "output_type": "execute_result"
    }
   ],
   "source": [
    "vect = CountVectorizer(ngram_range=(2,3), analyzer='word')\n",
    "vect.fit_transform(['no i have cows', 'i have no cows']).toarray()"
   ]
  },
  {
   "cell_type": "code",
   "execution_count": 47,
   "metadata": {
    "ExecuteTime": {
     "end_time": "2018-03-15T14:06:09.218867Z",
     "start_time": "2018-03-15T14:06:09.113204Z"
    }
   },
   "outputs": [
    {
     "data": {
      "text/plain": [
       "{'have cows': 0,\n",
       " 'have no': 1,\n",
       " 'have no cows': 2,\n",
       " 'no cows': 3,\n",
       " 'no have': 4,\n",
       " 'no have cows': 5}"
      ]
     },
     "execution_count": 47,
     "metadata": {},
     "output_type": "execute_result"
    }
   ],
   "source": [
    "vect.vocabulary_"
   ]
  },
  {
   "cell_type": "markdown",
   "metadata": {
    "ExecuteTime": {
     "end_time": "2018-03-14T14:13:25.767656Z",
     "start_time": "2018-03-14T14:13:25.763924Z"
    }
   },
   "source": [
    "Also note that one does not have to use only words. In some cases, it is possible to generate N-grams of characters. This approach would be able to account for similarity of related words or handle typos."
   ]
  },
  {
   "cell_type": "code",
   "execution_count": 32,
   "metadata": {
    "ExecuteTime": {
     "end_time": "2018-03-15T14:06:09.774148Z",
     "start_time": "2018-03-15T14:06:09.220060Z"
    }
   },
   "outputs": [
    {
     "data": {
      "text/plain": [
       "(2.8284271247461903, 3.1622776601683795, 3.3166247903553998)"
      ]
     },
     "execution_count": 32,
     "metadata": {},
     "output_type": "execute_result"
    }
   ],
   "source": [
    "from scipy.spatial.distance import euclidean\n",
    "from sklearn.feature_extraction.text import CountVectorizer\n",
    "\n",
    "vect = CountVectorizer(ngram_range=(3,3), analyzer='char_wb')\n",
    "\n",
    "n1, n2, n3, n4 = vect.fit_transform(['andersen', 'petersen', 'petrov', 'smith']).toarray()\n",
    "\n",
    "euclidean(n1, n2), euclidean(n2, n3), euclidean(n3, n4)"
   ]
  },
  {
   "cell_type": "code",
   "execution_count": 33,
   "metadata": {},
   "outputs": [
    {
     "data": {
      "text/plain": [
       "array([1, 0, 0, 1, 1, 1, 1, 0, 0, 0, 0, 1, 0, 0, 0, 1, 1, 0, 0, 0, 0], dtype=int64)"
      ]
     },
     "execution_count": 33,
     "metadata": {},
     "output_type": "execute_result"
    }
   ],
   "source": [
    "n1"
   ]
  },
  {
   "cell_type": "code",
   "execution_count": 15,
   "metadata": {},
   "outputs": [
    {
     "data": {
      "text/plain": [
       "array([[1, 1, 1, 1, 1, 1, 1, 1, 1, 1, 1, 1, 1]], dtype=int64)"
      ]
     },
     "execution_count": 15,
     "metadata": {},
     "output_type": "execute_result"
    }
   ],
   "source": [
    "vect.fit_transform(['andrew']).toarray()"
   ]
  },
  {
   "cell_type": "code",
   "execution_count": 34,
   "metadata": {},
   "outputs": [
    {
     "data": {
      "text/plain": [
       "{' an': 0,\n",
       " ' pe': 1,\n",
       " ' sm': 2,\n",
       " 'and': 3,\n",
       " 'der': 4,\n",
       " 'en ': 5,\n",
       " 'ers': 6,\n",
       " 'ete': 7,\n",
       " 'etr': 8,\n",
       " 'ith': 9,\n",
       " 'mit': 10,\n",
       " 'nde': 11,\n",
       " 'ov ': 12,\n",
       " 'pet': 13,\n",
       " 'rov': 14,\n",
       " 'rse': 15,\n",
       " 'sen': 16,\n",
       " 'smi': 17,\n",
       " 'ter': 18,\n",
       " 'th ': 19,\n",
       " 'tro': 20}"
      ]
     },
     "execution_count": 34,
     "metadata": {},
     "output_type": "execute_result"
    }
   ],
   "source": [
    "vect.vocabulary_"
   ]
  },
  {
   "cell_type": "markdown",
   "metadata": {},
   "source": [
    "Adding onto the Bag of Words idea: words that are rarely found in the corpus (in all the documents of this dataset) but are present in this particular document might be more important. Then it makes sense to increase the weight of more domain-specific words to separate them out from common words. This approach is called TF-IDF (term frequency-inverse document frequency), which cannot be written in a few lines, so you should look into the details in references such as [this wiki](https://en.wikipedia.org/wiki/Tf%E2%80%93idf). The default option is as follows:\n",
    "\n",
    "$$ \\large idf(t,D) = \\log\\frac{\\mid D\\mid}{df(d,t)+1} $$\n",
    "\n",
    "$$ \\large tfidf(t,d,D) = tf(t,d) \\times idf(t,D) $$\n",
    "\n",
    "Analogs of Bag of Words can be found outside of text problems e.g. bag of sites in the [Catch Me If You Can competition](https://inclass.kaggle.com/c/catch-me-if-you-can-intruder-detection-through-webpage-session-tracking), [bag of apps](https://www.kaggle.com/xiaoml/talkingdata-mobile-user-demographics/bag-of-app-id-python-2-27392), [bag of events](http://www.interdigital.com/download/58540a46e3b9659c9f000372), etc.\n",
    "\n",
    "![image](../../img/bag_of_words.png)\n",
    "\n",
    "Using these algorithms, it is possible to obtain a working solution for a simple problem, which can serve as a baseline. However, for those who do not like the classics, there are new approaches. The most popular method in the new wave is Word2Vec, but there are a few alternatives as well (GloVe, Fasttext, etc.).\n",
    "\n",
    "Word2Vec is a special case of the word embedding algorithms. Using Word2Vec and similar models, we can not only vectorize words in a high-dimensional space (typically a few hundred dimensions) but also compare their semantic similarity. This is a classic example of operations that can be performed on vectorized concepts: king - man + woman = queen.\n",
    "\n",
    "![image](https://cdn-images-1.medium.com/max/800/1*K5X4N-MJKt8FGFtrTHwidg.gif)\n",
    "\n",
    "It is worth noting that this model does not comprehend the meaning of the words but simply tries to position the vectors such that words used in common context are close to each other. If this is not taken into account, a lot of fun examples will come up.\n",
    "\n",
    "Such models need to be trained on very large datasets in order for the vector coordinates to capture the semantics. A pretrained model for your own tasks can be downloaded [here](https://github.com/3Top/word2vec-api#where-to-get-a-pretrained-models).\n",
    "\n",
    "Similar methods are applied in other areas such as bioinformatics. An unexpected application is [food2vec](https://jaan.io/food2vec-augmented-cooking-machine-intelligence/). You can probably think of a few other fresh ideas; the concept is universal enough."
   ]
  },
  {
   "cell_type": "markdown",
   "metadata": {},
   "source": [
    "### Images\n",
    "\n",
    "Working with images is easier and harder at the same time. It is easier because it is possible to just use one of the popular pretrained networks without much thinking but harder because, if you need to dig into the details, you may end up going really deep. Let's start from the beginning.\n",
    "\n",
    "In a time when GPUs were weaker and the \"renaissance of neural networks\" had not happened yet, feature generation from images was its own complex field. One had to work at a low level, determining corners, borders of regions, color distributions statistics, and so on. Experienced specialists in computer vision could draw a lot of parallels between older approaches and neural networks; in particular, convolutional layers in today's networks are similar to [Haar cascades](https://en.wikipedia.org/wiki/Haar-like_feature). If you are interested in reading more, here are a couple of links to some interesting libraries: [skimage](http://scikit-image.org/docs/stable/api/skimage.feature.html) and [SimpleCV](http://simplecv.readthedocs.io/en/latest/SimpleCV.Features.html).\n",
    "\n",
    "Often for problems associated with images, a convolutional neural network is used. You do not have to come up with the architecture and train a network from scratch. Instead, download a pretrained state-of-the-art network with the weights from public sources. Data scientists often do so-called fine-tuning to adapt these networks to their needs by \"detaching\" the last fully connected layers of the network, adding new layers chosen for a specific task, and then training the network on new data. If your task is to just vectorize the image (for example, to use some non-network classifier), you only need to remove the last layers and use the output from the previous layers:"
   ]
  },
  {
   "cell_type": "code",
   "execution_count": 48,
   "metadata": {
    "ExecuteTime": {
     "end_time": "2018-03-15T14:06:25.714680Z",
     "start_time": "2018-03-15T14:06:09.775547Z"
    }
   },
   "outputs": [
    {
     "name": "stderr",
     "output_type": "stream",
     "text": [
      "Using Theano backend.\n",
      "WARNING (theano.configdefaults): g++ not available, if using conda: `conda install m2w64-toolchain`\n",
      "D:\\ML\\tools\\Anaconda3\\lib\\site-packages\\theano\\configdefaults.py:560: UserWarning: DeprecationWarning: there is no c++ compiler.This is deprecated and with Theano 0.11 a c++ compiler will be mandatory\n",
      "  warnings.warn(\"DeprecationWarning: there is no c++ compiler.\"\n",
      "WARNING (theano.configdefaults): g++ not detected ! Theano will be unable to execute optimized C-implementations (for both CPU and GPU) and will default to Python implementations. Performance will be severely degraded. To remove this warning, set Theano flags cxx to an empty string.\n",
      "WARNING (theano.tensor.blas): Using NumPy C-API based implementation for BLAS functions.\n"
     ]
    },
    {
     "ename": "AttributeError",
     "evalue": "module 'theano' has no attribute 'ifelse'",
     "output_type": "error",
     "traceback": [
      "\u001b[1;31m---------------------------------------------------------------------------\u001b[0m",
      "\u001b[1;31mAttributeError\u001b[0m                            Traceback (most recent call last)",
      "\u001b[1;32m<ipython-input-48-66c828895721>\u001b[0m in \u001b[0;36m<module>\u001b[1;34m()\u001b[0m\n\u001b[0;32m      6\u001b[0m \u001b[1;33m\u001b[0m\u001b[0m\n\u001b[0;32m      7\u001b[0m \u001b[0mresnet_settings\u001b[0m \u001b[1;33m=\u001b[0m \u001b[1;33m{\u001b[0m\u001b[1;34m'include_top'\u001b[0m\u001b[1;33m:\u001b[0m \u001b[1;32mFalse\u001b[0m\u001b[1;33m,\u001b[0m \u001b[1;34m'weights'\u001b[0m\u001b[1;33m:\u001b[0m \u001b[1;34m'imagenet'\u001b[0m\u001b[1;33m}\u001b[0m\u001b[1;33m\u001b[0m\u001b[0m\n\u001b[1;32m----> 8\u001b[1;33m \u001b[0mresnet\u001b[0m \u001b[1;33m=\u001b[0m \u001b[0mResNet50\u001b[0m\u001b[1;33m(\u001b[0m\u001b[1;33m**\u001b[0m\u001b[0mresnet_settings\u001b[0m\u001b[1;33m)\u001b[0m\u001b[1;33m\u001b[0m\u001b[0m\n\u001b[0m\u001b[0;32m      9\u001b[0m \u001b[1;33m\u001b[0m\u001b[0m\n\u001b[0;32m     10\u001b[0m \u001b[1;31m# What a cute raccoon!\u001b[0m\u001b[1;33m\u001b[0m\u001b[1;33m\u001b[0m\u001b[0m\n",
      "\u001b[1;32mD:\\ML\\tools\\Anaconda3\\lib\\site-packages\\keras\\applications\\resnet50.py\u001b[0m in \u001b[0;36mResNet50\u001b[1;34m(include_top, weights, input_tensor, input_shape, pooling, classes)\u001b[0m\n\u001b[0;32m    206\u001b[0m     x = Conv2D(\n\u001b[0;32m    207\u001b[0m         64, (7, 7), strides=(2, 2), padding='same', name='conv1')(img_input)\n\u001b[1;32m--> 208\u001b[1;33m     \u001b[0mx\u001b[0m \u001b[1;33m=\u001b[0m \u001b[0mBatchNormalization\u001b[0m\u001b[1;33m(\u001b[0m\u001b[0maxis\u001b[0m\u001b[1;33m=\u001b[0m\u001b[0mbn_axis\u001b[0m\u001b[1;33m,\u001b[0m \u001b[0mname\u001b[0m\u001b[1;33m=\u001b[0m\u001b[1;34m'bn_conv1'\u001b[0m\u001b[1;33m)\u001b[0m\u001b[1;33m(\u001b[0m\u001b[0mx\u001b[0m\u001b[1;33m)\u001b[0m\u001b[1;33m\u001b[0m\u001b[0m\n\u001b[0m\u001b[0;32m    209\u001b[0m     \u001b[0mx\u001b[0m \u001b[1;33m=\u001b[0m \u001b[0mActivation\u001b[0m\u001b[1;33m(\u001b[0m\u001b[1;34m'relu'\u001b[0m\u001b[1;33m)\u001b[0m\u001b[1;33m(\u001b[0m\u001b[0mx\u001b[0m\u001b[1;33m)\u001b[0m\u001b[1;33m\u001b[0m\u001b[0m\n\u001b[0;32m    210\u001b[0m     \u001b[0mx\u001b[0m \u001b[1;33m=\u001b[0m \u001b[0mMaxPooling2D\u001b[0m\u001b[1;33m(\u001b[0m\u001b[1;33m(\u001b[0m\u001b[1;36m3\u001b[0m\u001b[1;33m,\u001b[0m \u001b[1;36m3\u001b[0m\u001b[1;33m)\u001b[0m\u001b[1;33m,\u001b[0m \u001b[0mstrides\u001b[0m\u001b[1;33m=\u001b[0m\u001b[1;33m(\u001b[0m\u001b[1;36m2\u001b[0m\u001b[1;33m,\u001b[0m \u001b[1;36m2\u001b[0m\u001b[1;33m)\u001b[0m\u001b[1;33m)\u001b[0m\u001b[1;33m(\u001b[0m\u001b[0mx\u001b[0m\u001b[1;33m)\u001b[0m\u001b[1;33m\u001b[0m\u001b[0m\n",
      "\u001b[1;32mD:\\ML\\tools\\Anaconda3\\lib\\site-packages\\keras\\engine\\topology.py\u001b[0m in \u001b[0;36m__call__\u001b[1;34m(self, inputs, **kwargs)\u001b[0m\n\u001b[0;32m    601\u001b[0m \u001b[1;33m\u001b[0m\u001b[0m\n\u001b[0;32m    602\u001b[0m             \u001b[1;31m# Actually call the layer, collecting output(s), mask(s), and shape(s).\u001b[0m\u001b[1;33m\u001b[0m\u001b[1;33m\u001b[0m\u001b[0m\n\u001b[1;32m--> 603\u001b[1;33m             \u001b[0moutput\u001b[0m \u001b[1;33m=\u001b[0m \u001b[0mself\u001b[0m\u001b[1;33m.\u001b[0m\u001b[0mcall\u001b[0m\u001b[1;33m(\u001b[0m\u001b[0minputs\u001b[0m\u001b[1;33m,\u001b[0m \u001b[1;33m**\u001b[0m\u001b[0mkwargs\u001b[0m\u001b[1;33m)\u001b[0m\u001b[1;33m\u001b[0m\u001b[0m\n\u001b[0m\u001b[0;32m    604\u001b[0m             \u001b[0moutput_mask\u001b[0m \u001b[1;33m=\u001b[0m \u001b[0mself\u001b[0m\u001b[1;33m.\u001b[0m\u001b[0mcompute_mask\u001b[0m\u001b[1;33m(\u001b[0m\u001b[0minputs\u001b[0m\u001b[1;33m,\u001b[0m \u001b[0mprevious_mask\u001b[0m\u001b[1;33m)\u001b[0m\u001b[1;33m\u001b[0m\u001b[0m\n\u001b[0;32m    605\u001b[0m \u001b[1;33m\u001b[0m\u001b[0m\n",
      "\u001b[1;32mD:\\ML\\tools\\Anaconda3\\lib\\site-packages\\keras\\layers\\normalization.py\u001b[0m in \u001b[0;36mcall\u001b[1;34m(self, inputs, training)\u001b[0m\n\u001b[0;32m    188\u001b[0m         return K.in_train_phase(normed_training,\n\u001b[0;32m    189\u001b[0m                                 \u001b[0mnormalize_inference\u001b[0m\u001b[1;33m,\u001b[0m\u001b[1;33m\u001b[0m\u001b[0m\n\u001b[1;32m--> 190\u001b[1;33m                                 training=training)\n\u001b[0m\u001b[0;32m    191\u001b[0m \u001b[1;33m\u001b[0m\u001b[0m\n\u001b[0;32m    192\u001b[0m     \u001b[1;32mdef\u001b[0m \u001b[0mget_config\u001b[0m\u001b[1;33m(\u001b[0m\u001b[0mself\u001b[0m\u001b[1;33m)\u001b[0m\u001b[1;33m:\u001b[0m\u001b[1;33m\u001b[0m\u001b[0m\n",
      "\u001b[1;32mD:\\ML\\tools\\Anaconda3\\lib\\site-packages\\keras\\backend\\theano_backend.py\u001b[0m in \u001b[0;36min_train_phase\u001b[1;34m(x, alt, training)\u001b[0m\n\u001b[0;32m   1501\u001b[0m \u001b[1;33m\u001b[0m\u001b[0m\n\u001b[0;32m   1502\u001b[0m     \u001b[1;31m# else: assume learning phase is a placeholder tensor.\u001b[0m\u001b[1;33m\u001b[0m\u001b[1;33m\u001b[0m\u001b[0m\n\u001b[1;32m-> 1503\u001b[1;33m     \u001b[0mx\u001b[0m \u001b[1;33m=\u001b[0m \u001b[0mtheano\u001b[0m\u001b[1;33m.\u001b[0m\u001b[0mifelse\u001b[0m\u001b[1;33m.\u001b[0m\u001b[0mifelse\u001b[0m\u001b[1;33m(\u001b[0m\u001b[0mtraining\u001b[0m\u001b[1;33m,\u001b[0m \u001b[0mx\u001b[0m\u001b[1;33m,\u001b[0m \u001b[0malt\u001b[0m\u001b[1;33m)\u001b[0m\u001b[1;33m\u001b[0m\u001b[0m\n\u001b[0m\u001b[0;32m   1504\u001b[0m     \u001b[1;32mif\u001b[0m \u001b[0muses_learning_phase\u001b[0m\u001b[1;33m:\u001b[0m\u001b[1;33m\u001b[0m\u001b[0m\n\u001b[0;32m   1505\u001b[0m         \u001b[0mx\u001b[0m\u001b[1;33m.\u001b[0m\u001b[0m_uses_learning_phase\u001b[0m \u001b[1;33m=\u001b[0m \u001b[1;32mTrue\u001b[0m\u001b[1;33m\u001b[0m\u001b[0m\n",
      "\u001b[1;31mAttributeError\u001b[0m: module 'theano' has no attribute 'ifelse'"
     ]
    }
   ],
   "source": [
    "# Install Keras (https://keras.io/)\n",
    "from keras.applications.resnet50 import ResNet50, preprocess_input\n",
    "from keras.preprocessing import image \n",
    "from scipy.misc import face \n",
    "import numpy as np\n",
    "\n",
    "resnet_settings = {'include_top': False, 'weights': 'imagenet'}\n",
    "resnet = ResNet50(**resnet_settings)\n",
    "\n",
    "# What a cute raccoon!\n",
    "img = image.array_to_img(face())\n",
    "img"
   ]
  },
  {
   "cell_type": "code",
   "execution_count": 9,
   "metadata": {
    "ExecuteTime": {
     "end_time": "2018-03-15T14:06:27.770041Z",
     "start_time": "2018-03-15T14:06:25.718729Z"
    },
    "collapsed": true
   },
   "outputs": [],
   "source": [
    "# In real life, you may need to pay more attention to resizing\n",
    "img = img.resize((224, 224))\n",
    "\n",
    "x = image.img_to_array(img) \n",
    "x = np.expand_dims(x, axis=0)\n",
    "x = preprocess_input(x)\n",
    "\n",
    "# Need an extra dimension because model is designed to work with an array\n",
    "# of images - i.e. tensor shaped (batch_size, width, height, n_channels)\n",
    "\n",
    "features = resnet.predict(x)"
   ]
  },
  {
   "cell_type": "markdown",
   "metadata": {
    "ExecuteTime": {
     "end_time": "2018-03-14T14:44:25.102755Z",
     "start_time": "2018-03-14T14:44:24.374869Z"
    }
   },
   "source": [
    "![image](https://cdn-images-1.medium.com/max/800/1*Iw_cKFwLkTVO2SPrOZU2rQ.png)\n",
    "\n",
    "*Here's a classifier trained on one dataset and adapted for a different one by \"detaching\" the last layer and adding a new one instead.*\n",
    "\n",
    "Nevertheless, we should not focus too much on neural network techniques. Features generated by hand are still very useful: for example, for predicting the popularity of a rental listing, we can assume that bright apartments attract more attention and create a feature such as \"the average value of the pixel\". You can find some inspiring examples in the documentation of [relevant libraries](http://pillow.readthedocs.io/en/3.1.x/reference/ImageStat.html).\n",
    "\n",
    "If there is text on the image, you can read it without unraveling a complicated neural network. For example, check out [pytesseract](https://github.com/madmaze/pytesseract)."
   ]
  },
  {
   "cell_type": "markdown",
   "metadata": {
    "ExecuteTime": {
     "end_time": "2018-03-14T14:47:46.671934Z",
     "start_time": "2018-03-14T14:47:43.945326Z"
    }
   },
   "source": [
    "```python\n",
    "import pytesseract\n",
    "from PIL import Image\n",
    "import requests\n",
    "from io import BytesIO\n",
    "\n",
    "##### Just a random picture from search\n",
    "img = 'http://ohscurrent.org/wp-content/uploads/2015/09/domus-01-google.jpg'\n",
    "\n",
    "img = requests.get(img)\n",
    "img = Image.open(BytesIO(img.content))\n",
    "text = pytesseract.image_to_string(img)\n",
    "\n",
    "text\n",
    "\n",
    "Out: 'Google'\n",
    "```"
   ]
  },
  {
   "cell_type": "code",
   "execution_count": 54,
   "metadata": {},
   "outputs": [
    {
     "ename": "ModuleNotFoundError",
     "evalue": "No module named 'Image'",
     "output_type": "error",
     "traceback": [
      "\u001b[1;31m---------------------------------------------------------------------------\u001b[0m",
      "\u001b[1;31mModuleNotFoundError\u001b[0m                       Traceback (most recent call last)",
      "\u001b[1;32m<ipython-input-54-e2cc1e534171>\u001b[0m in \u001b[0;36m<module>\u001b[1;34m()\u001b[0m\n\u001b[1;32m----> 1\u001b[1;33m \u001b[1;32mimport\u001b[0m \u001b[0mImage\u001b[0m\u001b[1;33m\u001b[0m\u001b[0m\n\u001b[0m",
      "\u001b[1;31mModuleNotFoundError\u001b[0m: No module named 'Image'"
     ]
    }
   ],
   "source": [
    "import Image"
   ]
  },
  {
   "cell_type": "code",
   "execution_count": 52,
   "metadata": {},
   "outputs": [
    {
     "ename": "ImportError",
     "evalue": "DLL load failed: Не найден указанный модуль.",
     "output_type": "error",
     "traceback": [
      "\u001b[1;31m---------------------------------------------------------------------------\u001b[0m",
      "\u001b[1;31mModuleNotFoundError\u001b[0m                       Traceback (most recent call last)",
      "\u001b[1;32mD:\\ML\\tools\\Anaconda3\\lib\\site-packages\\pytesseract\\pytesseract.py\u001b[0m in \u001b[0;36m<module>\u001b[1;34m()\u001b[0m\n\u001b[0;32m      8\u001b[0m \u001b[1;32mtry\u001b[0m\u001b[1;33m:\u001b[0m\u001b[1;33m\u001b[0m\u001b[0m\n\u001b[1;32m----> 9\u001b[1;33m     \u001b[1;32mimport\u001b[0m \u001b[0mImage\u001b[0m\u001b[1;33m\u001b[0m\u001b[0m\n\u001b[0m\u001b[0;32m     10\u001b[0m \u001b[1;32mexcept\u001b[0m \u001b[0mImportError\u001b[0m\u001b[1;33m:\u001b[0m\u001b[1;33m\u001b[0m\u001b[0m\n",
      "\u001b[1;31mModuleNotFoundError\u001b[0m: No module named 'Image'",
      "\nDuring handling of the above exception, another exception occurred:\n",
      "\u001b[1;31mImportError\u001b[0m                               Traceback (most recent call last)",
      "\u001b[1;32m<ipython-input-52-679708e6a04a>\u001b[0m in \u001b[0;36m<module>\u001b[1;34m()\u001b[0m\n\u001b[1;32m----> 1\u001b[1;33m \u001b[1;32mimport\u001b[0m \u001b[0mpytesseract\u001b[0m\u001b[1;33m\u001b[0m\u001b[0m\n\u001b[0m",
      "\u001b[1;32mD:\\ML\\tools\\Anaconda3\\lib\\site-packages\\pytesseract\\__init__.py\u001b[0m in \u001b[0;36m<module>\u001b[1;34m()\u001b[0m\n\u001b[1;32m----> 1\u001b[1;33m from .pytesseract import (\n\u001b[0m\u001b[0;32m      2\u001b[0m     \u001b[0mimage_to_string\u001b[0m\u001b[1;33m,\u001b[0m\u001b[1;33m\u001b[0m\u001b[0m\n\u001b[0;32m      3\u001b[0m     \u001b[0mimage_to_data\u001b[0m\u001b[1;33m,\u001b[0m\u001b[1;33m\u001b[0m\u001b[0m\n\u001b[0;32m      4\u001b[0m     \u001b[0mimage_to_boxes\u001b[0m\u001b[1;33m,\u001b[0m\u001b[1;33m\u001b[0m\u001b[0m\n\u001b[0;32m      5\u001b[0m     \u001b[0mTesseractError\u001b[0m\u001b[1;33m,\u001b[0m\u001b[1;33m\u001b[0m\u001b[0m\n",
      "\u001b[1;32mD:\\ML\\tools\\Anaconda3\\lib\\site-packages\\pytesseract\\pytesseract.py\u001b[0m in \u001b[0;36m<module>\u001b[1;34m()\u001b[0m\n\u001b[0;32m      9\u001b[0m     \u001b[1;32mimport\u001b[0m \u001b[0mImage\u001b[0m\u001b[1;33m\u001b[0m\u001b[0m\n\u001b[0;32m     10\u001b[0m \u001b[1;32mexcept\u001b[0m \u001b[0mImportError\u001b[0m\u001b[1;33m:\u001b[0m\u001b[1;33m\u001b[0m\u001b[0m\n\u001b[1;32m---> 11\u001b[1;33m     \u001b[1;32mfrom\u001b[0m \u001b[0mPIL\u001b[0m \u001b[1;32mimport\u001b[0m \u001b[0mImage\u001b[0m\u001b[1;33m\u001b[0m\u001b[0m\n\u001b[0m\u001b[0;32m     12\u001b[0m \u001b[1;33m\u001b[0m\u001b[0m\n\u001b[0;32m     13\u001b[0m \u001b[1;32mimport\u001b[0m \u001b[0mos\u001b[0m\u001b[1;33m\u001b[0m\u001b[0m\n",
      "\u001b[1;32mD:\\ML\\tools\\Anaconda3\\lib\\site-packages\\PIL\\Image.py\u001b[0m in \u001b[0;36m<module>\u001b[1;34m()\u001b[0m\n\u001b[0;32m     54\u001b[0m     \u001b[1;31m# Also note that Image.core is not a publicly documented interface,\u001b[0m\u001b[1;33m\u001b[0m\u001b[1;33m\u001b[0m\u001b[0m\n\u001b[0;32m     55\u001b[0m     \u001b[1;31m# and should be considered private and subject to change.\u001b[0m\u001b[1;33m\u001b[0m\u001b[1;33m\u001b[0m\u001b[0m\n\u001b[1;32m---> 56\u001b[1;33m     \u001b[1;32mfrom\u001b[0m \u001b[1;33m.\u001b[0m \u001b[1;32mimport\u001b[0m \u001b[0m_imaging\u001b[0m \u001b[1;32mas\u001b[0m \u001b[0mcore\u001b[0m\u001b[1;33m\u001b[0m\u001b[0m\n\u001b[0m\u001b[0;32m     57\u001b[0m     \u001b[1;32mif\u001b[0m \u001b[0mPILLOW_VERSION\u001b[0m \u001b[1;33m!=\u001b[0m \u001b[0mgetattr\u001b[0m\u001b[1;33m(\u001b[0m\u001b[0mcore\u001b[0m\u001b[1;33m,\u001b[0m \u001b[1;34m'PILLOW_VERSION'\u001b[0m\u001b[1;33m,\u001b[0m \u001b[1;32mNone\u001b[0m\u001b[1;33m)\u001b[0m\u001b[1;33m:\u001b[0m\u001b[1;33m\u001b[0m\u001b[0m\n\u001b[0;32m     58\u001b[0m         raise ImportError(\"The _imaging extension was built for another \"\n",
      "\u001b[1;31mImportError\u001b[0m: DLL load failed: Не найден указанный модуль."
     ]
    }
   ],
   "source": [
    "import pytesseract"
   ]
  },
  {
   "cell_type": "code",
   "execution_count": 51,
   "metadata": {},
   "outputs": [
    {
     "ename": "ImportError",
     "evalue": "DLL load failed: Не найден указанный модуль.",
     "output_type": "error",
     "traceback": [
      "\u001b[1;31m---------------------------------------------------------------------------\u001b[0m",
      "\u001b[1;31mModuleNotFoundError\u001b[0m                       Traceback (most recent call last)",
      "\u001b[1;32mD:\\ML\\tools\\Anaconda3\\lib\\site-packages\\pytesseract\\pytesseract.py\u001b[0m in \u001b[0;36m<module>\u001b[1;34m()\u001b[0m\n\u001b[0;32m      8\u001b[0m \u001b[1;32mtry\u001b[0m\u001b[1;33m:\u001b[0m\u001b[1;33m\u001b[0m\u001b[0m\n\u001b[1;32m----> 9\u001b[1;33m     \u001b[1;32mimport\u001b[0m \u001b[0mImage\u001b[0m\u001b[1;33m\u001b[0m\u001b[0m\n\u001b[0m\u001b[0;32m     10\u001b[0m \u001b[1;32mexcept\u001b[0m \u001b[0mImportError\u001b[0m\u001b[1;33m:\u001b[0m\u001b[1;33m\u001b[0m\u001b[0m\n",
      "\u001b[1;31mModuleNotFoundError\u001b[0m: No module named 'Image'",
      "\nDuring handling of the above exception, another exception occurred:\n",
      "\u001b[1;31mImportError\u001b[0m                               Traceback (most recent call last)",
      "\u001b[1;32m<ipython-input-51-93cc9b4158e1>\u001b[0m in \u001b[0;36m<module>\u001b[1;34m()\u001b[0m\n\u001b[1;32m----> 1\u001b[1;33m \u001b[1;32mimport\u001b[0m \u001b[0mpytesseract\u001b[0m\u001b[1;33m\u001b[0m\u001b[0m\n\u001b[0m\u001b[0;32m      2\u001b[0m \u001b[1;32mfrom\u001b[0m \u001b[0mPIL\u001b[0m \u001b[1;32mimport\u001b[0m \u001b[0mImage\u001b[0m\u001b[1;33m\u001b[0m\u001b[0m\n\u001b[0;32m      3\u001b[0m \u001b[1;32mimport\u001b[0m \u001b[0mrequests\u001b[0m\u001b[1;33m\u001b[0m\u001b[0m\n\u001b[0;32m      4\u001b[0m \u001b[1;32mfrom\u001b[0m \u001b[0mio\u001b[0m \u001b[1;32mimport\u001b[0m \u001b[0mBytesIO\u001b[0m\u001b[1;33m\u001b[0m\u001b[0m\n\u001b[0;32m      5\u001b[0m \u001b[1;33m\u001b[0m\u001b[0m\n",
      "\u001b[1;32mD:\\ML\\tools\\Anaconda3\\lib\\site-packages\\pytesseract\\__init__.py\u001b[0m in \u001b[0;36m<module>\u001b[1;34m()\u001b[0m\n\u001b[1;32m----> 1\u001b[1;33m from .pytesseract import (\n\u001b[0m\u001b[0;32m      2\u001b[0m     \u001b[0mimage_to_string\u001b[0m\u001b[1;33m,\u001b[0m\u001b[1;33m\u001b[0m\u001b[0m\n\u001b[0;32m      3\u001b[0m     \u001b[0mimage_to_data\u001b[0m\u001b[1;33m,\u001b[0m\u001b[1;33m\u001b[0m\u001b[0m\n\u001b[0;32m      4\u001b[0m     \u001b[0mimage_to_boxes\u001b[0m\u001b[1;33m,\u001b[0m\u001b[1;33m\u001b[0m\u001b[0m\n\u001b[0;32m      5\u001b[0m     \u001b[0mTesseractError\u001b[0m\u001b[1;33m,\u001b[0m\u001b[1;33m\u001b[0m\u001b[0m\n",
      "\u001b[1;32mD:\\ML\\tools\\Anaconda3\\lib\\site-packages\\pytesseract\\pytesseract.py\u001b[0m in \u001b[0;36m<module>\u001b[1;34m()\u001b[0m\n\u001b[0;32m      9\u001b[0m     \u001b[1;32mimport\u001b[0m \u001b[0mImage\u001b[0m\u001b[1;33m\u001b[0m\u001b[0m\n\u001b[0;32m     10\u001b[0m \u001b[1;32mexcept\u001b[0m \u001b[0mImportError\u001b[0m\u001b[1;33m:\u001b[0m\u001b[1;33m\u001b[0m\u001b[0m\n\u001b[1;32m---> 11\u001b[1;33m     \u001b[1;32mfrom\u001b[0m \u001b[0mPIL\u001b[0m \u001b[1;32mimport\u001b[0m \u001b[0mImage\u001b[0m\u001b[1;33m\u001b[0m\u001b[0m\n\u001b[0m\u001b[0;32m     12\u001b[0m \u001b[1;33m\u001b[0m\u001b[0m\n\u001b[0;32m     13\u001b[0m \u001b[1;32mimport\u001b[0m \u001b[0mos\u001b[0m\u001b[1;33m\u001b[0m\u001b[0m\n",
      "\u001b[1;32mD:\\ML\\tools\\Anaconda3\\lib\\site-packages\\PIL\\Image.py\u001b[0m in \u001b[0;36m<module>\u001b[1;34m()\u001b[0m\n\u001b[0;32m     54\u001b[0m     \u001b[1;31m# Also note that Image.core is not a publicly documented interface,\u001b[0m\u001b[1;33m\u001b[0m\u001b[1;33m\u001b[0m\u001b[0m\n\u001b[0;32m     55\u001b[0m     \u001b[1;31m# and should be considered private and subject to change.\u001b[0m\u001b[1;33m\u001b[0m\u001b[1;33m\u001b[0m\u001b[0m\n\u001b[1;32m---> 56\u001b[1;33m     \u001b[1;32mfrom\u001b[0m \u001b[1;33m.\u001b[0m \u001b[1;32mimport\u001b[0m \u001b[0m_imaging\u001b[0m \u001b[1;32mas\u001b[0m \u001b[0mcore\u001b[0m\u001b[1;33m\u001b[0m\u001b[0m\n\u001b[0m\u001b[0;32m     57\u001b[0m     \u001b[1;32mif\u001b[0m \u001b[0mPILLOW_VERSION\u001b[0m \u001b[1;33m!=\u001b[0m \u001b[0mgetattr\u001b[0m\u001b[1;33m(\u001b[0m\u001b[0mcore\u001b[0m\u001b[1;33m,\u001b[0m \u001b[1;34m'PILLOW_VERSION'\u001b[0m\u001b[1;33m,\u001b[0m \u001b[1;32mNone\u001b[0m\u001b[1;33m)\u001b[0m\u001b[1;33m:\u001b[0m\u001b[1;33m\u001b[0m\u001b[0m\n\u001b[0;32m     58\u001b[0m         raise ImportError(\"The _imaging extension was built for another \"\n",
      "\u001b[1;31mImportError\u001b[0m: DLL load failed: Не найден указанный модуль."
     ]
    }
   ],
   "source": [
    "from PIL import Image\n",
    "import requests\n",
    "from io import BytesIO\n",
    "\n",
    "##### Just a random picture from search\n",
    "img = 'http://ohscurrent.org/wp-content/uploads/2015/09/domus-01-google.jpg'\n",
    "\n",
    "img = requests.get(img)\n",
    "img = Image.open(BytesIO(img.content))\n",
    "text = pytesseract.image_to_string(img)\n",
    "\n",
    "text"
   ]
  },
  {
   "cell_type": "markdown",
   "metadata": {},
   "source": [
    "One must understand that `pytesseract` is not a solution for everything."
   ]
  },
  {
   "cell_type": "markdown",
   "metadata": {},
   "source": [
    "```python\n",
    "##### This time we take a picture from Renthop\n",
    "img = requests.get('https://photos.renthop.com/2/8393298_6acaf11f030217d05f3a5604b9a2f70f.jpg')\n",
    "img = Image.open(BytesIO(img.content))\n",
    "pytesseract.image_to_string(img)\n",
    "\n",
    "Out: 'Cunveztible to 4}»'\n",
    "```"
   ]
  },
  {
   "cell_type": "markdown",
   "metadata": {},
   "source": [
    "Another case where neural networks cannot help is extracting features from meta-information. For images, EXIF stores many useful meta-information: manufacturer and camera model, resolution, use of the flash, geographic coordinates of shooting, software used to process image and more."
   ]
  },
  {
   "cell_type": "markdown",
   "metadata": {},
   "source": [
    "### Geospatial data\n",
    "\n",
    "Geographic data is not so often found in problems, but it is still useful to master the basic techniques for working with it, especially since there are quite a number of ready-to-use solutions in this field.\n",
    "\n",
    "Geospatial data is often presented in the form of addresses or coordinates of (Latitude, Longitude). Depending on the task, you may need two mutually-inverse operations: geocoding (recovering a point from an address) and reverse geocoding (recovering an address from a point). Both operations are accessible in practice via external APIs from Google Maps or OpenStreetMap. Different geocoders have their own characteristics, and the quality varies from region to region. Fortunately, there are universal libraries like [geopy](https://github.com/geopy/geopy) that act as wrappers for these external services.\n",
    "\n",
    "If you have a lot of data, you will quickly reach the limits of external API. Besides, it is not always the fastest to receive information via HTTP. Therefore, it is necessary to consider using a local version of OpenStreetMap.\n",
    "\n",
    "If you have a small amount of data, enough time, and no desire to extract fancy features, you can use `reverse_geocoder` in lieu of OpenStreetMap:"
   ]
  },
  {
   "cell_type": "markdown",
   "metadata": {
    "ExecuteTime": {
     "end_time": "2018-03-14T15:12:50.468269Z",
     "start_time": "2018-03-14T15:12:50.455393Z"
    }
   },
   "source": [
    "```python\n",
    "import reverse_geocoder as revgc\n",
    "\n",
    "revgc.search((df.latitude, df.longitude))\n",
    "Loading formatted geocoded file... \n",
    "\n",
    "Out: [OrderedDict([('lat', '40.74482'), \n",
    "                   ('lon', '-73.94875'), \n",
    "                   ('name', 'Long Island City'), \n",
    "                   ('admin1', 'New York'), \n",
    "                   ('admin2', 'Queens County'), \n",
    "                   ('cc', 'US')])]\n",
    "```"
   ]
  },
  {
   "cell_type": "markdown",
   "metadata": {},
   "source": [
    "When working with geoсoding, we must not forget that addresses may contain typos, which makes the data cleaning step necessary. Coordinates contain fewer misprints, but its position can be incorrect due to GPS noise or bad accuracy in places like tunnels, downtown areas, etc. If the data source is a mobile device, the geolocation may not be determined by GPS but by WiFi networks in the area, which leads to holes in space and teleportation. While traveling along in Manhattan, there can suddenly be a WiFi location from Chicago.\n",
    "\n",
    "> WiFi location tracking is based on the combination of SSID and MAC-addresses, which may correspond to different points e.g. federal provider standardizes the firmware of routers up to MAC-address and places them in different cities. Even a company's move to another office with its routers can cause issues.\n",
    "\n",
    "The point is usually located among infrastructure. Here, you can really unleash your imagination and invent features based on your life experience and domain knowledge: the proximity of a point to the subway, the number of stories in the building, the distance to the nearest store, the number of ATMs around, etc. For any task, you can easily come up with dozens of features and extract them from various external sources. For problems outside an urban environment, you may consider features from more specific sources e.g. the height above sea level.\n",
    "\n",
    "If two or more points are interconnected, it may be worthwhile to extract features from the route between them. In that case, distances (great circle distance and road distance calculated by the routing graph), number of turns with the ratio of left to right turns, number of traffic lights, junctions, and bridges will be useful. In one of my own tasks, I generated a feature called \"the complexity of the road\", which computed the graph-calculated distance divided by the GCD."
   ]
  },
  {
   "cell_type": "markdown",
   "metadata": {},
   "source": [
    "### Date and time\n",
    "\n",
    "You would think that date and time are standardized because of their prevalence, but, nevertheless, some pitfalls remain.\n",
    "\n",
    "Let's start with the day of the week, which are easy to turn into 7 dummy variables using one-hot encoding. In addition, we will also create a separate binary feature for the weekend called `is_weekend`."
   ]
  },
  {
   "cell_type": "code",
   "execution_count": 62,
   "metadata": {},
   "outputs": [
    {
     "name": "stdout",
     "output_type": "stream",
     "text": [
      "<class 'pandas.core.frame.DataFrame'>\n",
      "Index: 49352 entries, 10 to 99994\n",
      "Data columns (total 15 columns):\n",
      "bathrooms          49352 non-null float64\n",
      "bedrooms           49352 non-null int64\n",
      "building_id        49352 non-null object\n",
      "created            49352 non-null object\n",
      "description        49352 non-null object\n",
      "display_address    49352 non-null object\n",
      "features           49352 non-null object\n",
      "interest_level     49352 non-null object\n",
      "latitude           49352 non-null float64\n",
      "listing_id         49352 non-null int64\n",
      "longitude          49352 non-null float64\n",
      "manager_id         49352 non-null object\n",
      "photos             49352 non-null object\n",
      "price              49352 non-null int64\n",
      "street_address     49352 non-null object\n",
      "dtypes: float64(3), int64(3), object(9)\n",
      "memory usage: 7.3+ MB\n"
     ]
    }
   ],
   "source": [
    "df.info()"
   ]
  },
  {
   "cell_type": "code",
   "execution_count": 60,
   "metadata": {},
   "outputs": [
    {
     "ename": "AttributeError",
     "evalue": "'str' object has no attribute 'date'",
     "output_type": "error",
     "traceback": [
      "\u001b[1;31m---------------------------------------------------------------------------\u001b[0m",
      "\u001b[1;31mAttributeError\u001b[0m                            Traceback (most recent call last)",
      "\u001b[1;32m<ipython-input-60-99432a79e0a4>\u001b[0m in \u001b[0;36m<module>\u001b[1;34m()\u001b[0m\n\u001b[1;32m----> 1\u001b[1;33m \u001b[0mdf\u001b[0m\u001b[1;33m[\u001b[0m\u001b[1;34m'dow'\u001b[0m\u001b[1;33m]\u001b[0m \u001b[1;33m=\u001b[0m \u001b[0mdf\u001b[0m\u001b[1;33m[\u001b[0m\u001b[1;34m'created'\u001b[0m\u001b[1;33m]\u001b[0m\u001b[1;33m.\u001b[0m\u001b[0mapply\u001b[0m\u001b[1;33m(\u001b[0m\u001b[1;32mlambda\u001b[0m \u001b[0mx\u001b[0m\u001b[1;33m:\u001b[0m \u001b[0mx\u001b[0m\u001b[1;33m.\u001b[0m\u001b[0mdate\u001b[0m\u001b[1;33m(\u001b[0m\u001b[1;33m)\u001b[0m\u001b[1;33m.\u001b[0m\u001b[0mweekday\u001b[0m\u001b[1;33m(\u001b[0m\u001b[1;33m)\u001b[0m\u001b[1;33m)\u001b[0m\u001b[1;33m\u001b[0m\u001b[0m\n\u001b[0m",
      "\u001b[1;32mD:\\ML\\tools\\Anaconda3\\lib\\site-packages\\pandas\\core\\series.py\u001b[0m in \u001b[0;36mapply\u001b[1;34m(self, func, convert_dtype, args, **kwds)\u001b[0m\n\u001b[0;32m   2353\u001b[0m             \u001b[1;32melse\u001b[0m\u001b[1;33m:\u001b[0m\u001b[1;33m\u001b[0m\u001b[0m\n\u001b[0;32m   2354\u001b[0m                 \u001b[0mvalues\u001b[0m \u001b[1;33m=\u001b[0m \u001b[0mself\u001b[0m\u001b[1;33m.\u001b[0m\u001b[0masobject\u001b[0m\u001b[1;33m\u001b[0m\u001b[0m\n\u001b[1;32m-> 2355\u001b[1;33m                 \u001b[0mmapped\u001b[0m \u001b[1;33m=\u001b[0m \u001b[0mlib\u001b[0m\u001b[1;33m.\u001b[0m\u001b[0mmap_infer\u001b[0m\u001b[1;33m(\u001b[0m\u001b[0mvalues\u001b[0m\u001b[1;33m,\u001b[0m \u001b[0mf\u001b[0m\u001b[1;33m,\u001b[0m \u001b[0mconvert\u001b[0m\u001b[1;33m=\u001b[0m\u001b[0mconvert_dtype\u001b[0m\u001b[1;33m)\u001b[0m\u001b[1;33m\u001b[0m\u001b[0m\n\u001b[0m\u001b[0;32m   2356\u001b[0m \u001b[1;33m\u001b[0m\u001b[0m\n\u001b[0;32m   2357\u001b[0m         \u001b[1;32mif\u001b[0m \u001b[0mlen\u001b[0m\u001b[1;33m(\u001b[0m\u001b[0mmapped\u001b[0m\u001b[1;33m)\u001b[0m \u001b[1;32mand\u001b[0m \u001b[0misinstance\u001b[0m\u001b[1;33m(\u001b[0m\u001b[0mmapped\u001b[0m\u001b[1;33m[\u001b[0m\u001b[1;36m0\u001b[0m\u001b[1;33m]\u001b[0m\u001b[1;33m,\u001b[0m \u001b[0mSeries\u001b[0m\u001b[1;33m)\u001b[0m\u001b[1;33m:\u001b[0m\u001b[1;33m\u001b[0m\u001b[0m\n",
      "\u001b[1;32mpandas/_libs/src\\inference.pyx\u001b[0m in \u001b[0;36mpandas._libs.lib.map_infer\u001b[1;34m()\u001b[0m\n",
      "\u001b[1;32m<ipython-input-60-99432a79e0a4>\u001b[0m in \u001b[0;36m<lambda>\u001b[1;34m(x)\u001b[0m\n\u001b[1;32m----> 1\u001b[1;33m \u001b[0mdf\u001b[0m\u001b[1;33m[\u001b[0m\u001b[1;34m'dow'\u001b[0m\u001b[1;33m]\u001b[0m \u001b[1;33m=\u001b[0m \u001b[0mdf\u001b[0m\u001b[1;33m[\u001b[0m\u001b[1;34m'created'\u001b[0m\u001b[1;33m]\u001b[0m\u001b[1;33m.\u001b[0m\u001b[0mapply\u001b[0m\u001b[1;33m(\u001b[0m\u001b[1;32mlambda\u001b[0m \u001b[0mx\u001b[0m\u001b[1;33m:\u001b[0m \u001b[0mx\u001b[0m\u001b[1;33m.\u001b[0m\u001b[0mdate\u001b[0m\u001b[1;33m(\u001b[0m\u001b[1;33m)\u001b[0m\u001b[1;33m.\u001b[0m\u001b[0mweekday\u001b[0m\u001b[1;33m(\u001b[0m\u001b[1;33m)\u001b[0m\u001b[1;33m)\u001b[0m\u001b[1;33m\u001b[0m\u001b[0m\n\u001b[0m",
      "\u001b[1;31mAttributeError\u001b[0m: 'str' object has no attribute 'date'"
     ]
    }
   ],
   "source": [
    "df['dow'] = df['created'].apply(lambda x: x.date().weekday())"
   ]
  },
  {
   "cell_type": "code",
   "execution_count": 57,
   "metadata": {},
   "outputs": [
    {
     "ename": "AttributeError",
     "evalue": "'str' object has no attribute 'date'",
     "output_type": "error",
     "traceback": [
      "\u001b[1;31m---------------------------------------------------------------------------\u001b[0m",
      "\u001b[1;31mAttributeError\u001b[0m                            Traceback (most recent call last)",
      "\u001b[1;32m<ipython-input-57-b9fd4dc204b0>\u001b[0m in \u001b[0;36m<module>\u001b[1;34m()\u001b[0m\n\u001b[0;32m      1\u001b[0m \u001b[1;33m\u001b[0m\u001b[0m\n\u001b[1;32m----> 2\u001b[1;33m \u001b[0mdf\u001b[0m\u001b[1;33m[\u001b[0m\u001b[1;34m'dow'\u001b[0m\u001b[1;33m]\u001b[0m \u001b[1;33m=\u001b[0m \u001b[0mdf\u001b[0m\u001b[1;33m[\u001b[0m\u001b[1;34m'created'\u001b[0m\u001b[1;33m]\u001b[0m\u001b[1;33m.\u001b[0m\u001b[0mapply\u001b[0m\u001b[1;33m(\u001b[0m\u001b[1;32mlambda\u001b[0m \u001b[0mx\u001b[0m\u001b[1;33m:\u001b[0m \u001b[0mx\u001b[0m\u001b[1;33m.\u001b[0m\u001b[0mdate\u001b[0m\u001b[1;33m(\u001b[0m\u001b[1;33m)\u001b[0m\u001b[1;33m.\u001b[0m\u001b[0mweekday\u001b[0m\u001b[1;33m(\u001b[0m\u001b[1;33m)\u001b[0m\u001b[1;33m)\u001b[0m\u001b[1;33m\u001b[0m\u001b[0m\n\u001b[0m\u001b[0;32m      3\u001b[0m \u001b[0mdf\u001b[0m\u001b[1;33m[\u001b[0m\u001b[1;34m'is_weekend'\u001b[0m\u001b[1;33m]\u001b[0m \u001b[1;33m=\u001b[0m \u001b[0mdf\u001b[0m\u001b[1;33m[\u001b[0m\u001b[1;34m'created'\u001b[0m\u001b[1;33m]\u001b[0m\u001b[1;33m.\u001b[0m\u001b[0mapply\u001b[0m\u001b[1;33m(\u001b[0m\u001b[1;32mlambda\u001b[0m \u001b[0mx\u001b[0m\u001b[1;33m:\u001b[0m \u001b[1;36m1\u001b[0m \u001b[1;32mif\u001b[0m \u001b[0mx\u001b[0m\u001b[1;33m.\u001b[0m\u001b[0mdate\u001b[0m\u001b[1;33m(\u001b[0m\u001b[1;33m)\u001b[0m\u001b[1;33m.\u001b[0m\u001b[0mweekday\u001b[0m\u001b[1;33m(\u001b[0m\u001b[1;33m)\u001b[0m \u001b[1;32min\u001b[0m \u001b[1;33m(\u001b[0m\u001b[1;36m5\u001b[0m\u001b[1;33m,\u001b[0m \u001b[1;36m6\u001b[0m\u001b[1;33m)\u001b[0m \u001b[1;32melse\u001b[0m \u001b[1;36m0\u001b[0m\u001b[1;33m)\u001b[0m\u001b[1;33m\u001b[0m\u001b[0m\n",
      "\u001b[1;32mD:\\ML\\tools\\Anaconda3\\lib\\site-packages\\pandas\\core\\series.py\u001b[0m in \u001b[0;36mapply\u001b[1;34m(self, func, convert_dtype, args, **kwds)\u001b[0m\n\u001b[0;32m   2353\u001b[0m             \u001b[1;32melse\u001b[0m\u001b[1;33m:\u001b[0m\u001b[1;33m\u001b[0m\u001b[0m\n\u001b[0;32m   2354\u001b[0m                 \u001b[0mvalues\u001b[0m \u001b[1;33m=\u001b[0m \u001b[0mself\u001b[0m\u001b[1;33m.\u001b[0m\u001b[0masobject\u001b[0m\u001b[1;33m\u001b[0m\u001b[0m\n\u001b[1;32m-> 2355\u001b[1;33m                 \u001b[0mmapped\u001b[0m \u001b[1;33m=\u001b[0m \u001b[0mlib\u001b[0m\u001b[1;33m.\u001b[0m\u001b[0mmap_infer\u001b[0m\u001b[1;33m(\u001b[0m\u001b[0mvalues\u001b[0m\u001b[1;33m,\u001b[0m \u001b[0mf\u001b[0m\u001b[1;33m,\u001b[0m \u001b[0mconvert\u001b[0m\u001b[1;33m=\u001b[0m\u001b[0mconvert_dtype\u001b[0m\u001b[1;33m)\u001b[0m\u001b[1;33m\u001b[0m\u001b[0m\n\u001b[0m\u001b[0;32m   2356\u001b[0m \u001b[1;33m\u001b[0m\u001b[0m\n\u001b[0;32m   2357\u001b[0m         \u001b[1;32mif\u001b[0m \u001b[0mlen\u001b[0m\u001b[1;33m(\u001b[0m\u001b[0mmapped\u001b[0m\u001b[1;33m)\u001b[0m \u001b[1;32mand\u001b[0m \u001b[0misinstance\u001b[0m\u001b[1;33m(\u001b[0m\u001b[0mmapped\u001b[0m\u001b[1;33m[\u001b[0m\u001b[1;36m0\u001b[0m\u001b[1;33m]\u001b[0m\u001b[1;33m,\u001b[0m \u001b[0mSeries\u001b[0m\u001b[1;33m)\u001b[0m\u001b[1;33m:\u001b[0m\u001b[1;33m\u001b[0m\u001b[0m\n",
      "\u001b[1;32mpandas/_libs/src\\inference.pyx\u001b[0m in \u001b[0;36mpandas._libs.lib.map_infer\u001b[1;34m()\u001b[0m\n",
      "\u001b[1;32m<ipython-input-57-b9fd4dc204b0>\u001b[0m in \u001b[0;36m<lambda>\u001b[1;34m(x)\u001b[0m\n\u001b[0;32m      1\u001b[0m \u001b[1;33m\u001b[0m\u001b[0m\n\u001b[1;32m----> 2\u001b[1;33m \u001b[0mdf\u001b[0m\u001b[1;33m[\u001b[0m\u001b[1;34m'dow'\u001b[0m\u001b[1;33m]\u001b[0m \u001b[1;33m=\u001b[0m \u001b[0mdf\u001b[0m\u001b[1;33m[\u001b[0m\u001b[1;34m'created'\u001b[0m\u001b[1;33m]\u001b[0m\u001b[1;33m.\u001b[0m\u001b[0mapply\u001b[0m\u001b[1;33m(\u001b[0m\u001b[1;32mlambda\u001b[0m \u001b[0mx\u001b[0m\u001b[1;33m:\u001b[0m \u001b[0mx\u001b[0m\u001b[1;33m.\u001b[0m\u001b[0mdate\u001b[0m\u001b[1;33m(\u001b[0m\u001b[1;33m)\u001b[0m\u001b[1;33m.\u001b[0m\u001b[0mweekday\u001b[0m\u001b[1;33m(\u001b[0m\u001b[1;33m)\u001b[0m\u001b[1;33m)\u001b[0m\u001b[1;33m\u001b[0m\u001b[0m\n\u001b[0m\u001b[0;32m      3\u001b[0m \u001b[0mdf\u001b[0m\u001b[1;33m[\u001b[0m\u001b[1;34m'is_weekend'\u001b[0m\u001b[1;33m]\u001b[0m \u001b[1;33m=\u001b[0m \u001b[0mdf\u001b[0m\u001b[1;33m[\u001b[0m\u001b[1;34m'created'\u001b[0m\u001b[1;33m]\u001b[0m\u001b[1;33m.\u001b[0m\u001b[0mapply\u001b[0m\u001b[1;33m(\u001b[0m\u001b[1;32mlambda\u001b[0m \u001b[0mx\u001b[0m\u001b[1;33m:\u001b[0m \u001b[1;36m1\u001b[0m \u001b[1;32mif\u001b[0m \u001b[0mx\u001b[0m\u001b[1;33m.\u001b[0m\u001b[0mdate\u001b[0m\u001b[1;33m(\u001b[0m\u001b[1;33m)\u001b[0m\u001b[1;33m.\u001b[0m\u001b[0mweekday\u001b[0m\u001b[1;33m(\u001b[0m\u001b[1;33m)\u001b[0m \u001b[1;32min\u001b[0m \u001b[1;33m(\u001b[0m\u001b[1;36m5\u001b[0m\u001b[1;33m,\u001b[0m \u001b[1;36m6\u001b[0m\u001b[1;33m)\u001b[0m \u001b[1;32melse\u001b[0m \u001b[1;36m0\u001b[0m\u001b[1;33m)\u001b[0m\u001b[1;33m\u001b[0m\u001b[0m\n",
      "\u001b[1;31mAttributeError\u001b[0m: 'str' object has no attribute 'date'"
     ]
    }
   ],
   "source": [
    "df['is_weekend'] = df['created'].apply(lambda x: 1 if x.date().weekday() in (5, 6) else 0)"
   ]
  },
  {
   "cell_type": "markdown",
   "metadata": {},
   "source": [
    "Some tasks may require additional calendar features. For example, cash withdrawals can be linked to a pay day; the purchase of a metro card, to the beginning of the month. In general, when working with time series data, it is a good idea to have a calendar with public holidays, abnormal weather conditions, and other important events.\n",
    "\n",
    "> Q: What do Chinese New Year, the New York marathon, and the Trump inauguration have in common?\n",
    "\n",
    "> A: They all need to be put on the calendar of potential anomalies.\n",
    "\n",
    "Dealing with hour (minute, day of the month ...) is not as simple as it seems. If you use the hour as a real variable, we slightly contradict the nature of data: `0<23` while `0:00:00 02.01> 01.01 23:00:00`. For some problems, this can be critical. At the same time, if you encode them as categorical variables, you'll breed a large numbers of features and lose information about proximity -- the difference between 22 and 23 will be the same as the difference between 22 and 7.\n",
    "\n",
    "There also exist some more esoteric approaches to such data like projecting the time onto a circle and using the two coordinates."
   ]
  },
  {
   "cell_type": "code",
   "execution_count": 10,
   "metadata": {
    "ExecuteTime": {
     "end_time": "2018-03-15T14:06:27.782320Z",
     "start_time": "2018-03-15T14:06:27.772449Z"
    },
    "collapsed": true
   },
   "outputs": [],
   "source": [
    "def make_harmonic_features(value, period=24):\n",
    "    value *= 2 * np.pi / period \n",
    "    return np.cos(value), np.sin(value)"
   ]
  },
  {
   "cell_type": "markdown",
   "metadata": {},
   "source": [
    "This transformation preserves the distance between points, which is important for algorithms that estimate distance (kNN, SVM, k-means ...)"
   ]
  },
  {
   "cell_type": "code",
   "execution_count": 11,
   "metadata": {
    "ExecuteTime": {
     "end_time": "2018-03-15T14:06:27.883311Z",
     "start_time": "2018-03-15T14:06:27.784833Z"
    }
   },
   "outputs": [
    {
     "data": {
      "text/plain": [
       "0.5176380902050424"
      ]
     },
     "execution_count": 11,
     "metadata": {},
     "output_type": "execute_result"
    }
   ],
   "source": [
    "from scipy.spatial import distance\n",
    "euclidean(make_harmonic_features(23), make_harmonic_features(1)) "
   ]
  },
  {
   "cell_type": "code",
   "execution_count": 12,
   "metadata": {
    "ExecuteTime": {
     "end_time": "2018-03-15T14:06:28.250852Z",
     "start_time": "2018-03-15T14:06:27.884753Z"
    }
   },
   "outputs": [
    {
     "data": {
      "text/plain": [
       "0.5176380902050414"
      ]
     },
     "execution_count": 12,
     "metadata": {},
     "output_type": "execute_result"
    }
   ],
   "source": [
    "euclidean(make_harmonic_features(9), make_harmonic_features(11)) "
   ]
  },
  {
   "cell_type": "code",
   "execution_count": 13,
   "metadata": {
    "ExecuteTime": {
     "end_time": "2018-03-15T14:06:28.801865Z",
     "start_time": "2018-03-15T14:06:28.252109Z"
    }
   },
   "outputs": [
    {
     "data": {
      "text/plain": [
       "2.0"
      ]
     },
     "execution_count": 13,
     "metadata": {},
     "output_type": "execute_result"
    }
   ],
   "source": [
    "euclidean(make_harmonic_features(9), make_harmonic_features(21))"
   ]
  },
  {
   "cell_type": "markdown",
   "metadata": {},
   "source": [
    "However, the difference between such coding methods is down to the third decimal place in the metric."
   ]
  },
  {
   "cell_type": "markdown",
   "metadata": {},
   "source": [
    "### Time series, web, etc.\n",
    "\n",
    "Regarding time series — we will not go into too much detail here (mostly due to my personal lack of experience), but I will point you to a [useful library that automatically generates features for time series](https://github.com/blue-yonder/tsfresh).\n",
    "\n",
    "If you are working with web data, then you usually have information about the user's User Agent. It is a wealth of information. First, one needs to extract the operating system from it. Secondly, make a feature `is_mobile`. Third, look at the browser."
   ]
  },
  {
   "cell_type": "code",
   "execution_count": 63,
   "metadata": {
    "ExecuteTime": {
     "end_time": "2018-03-15T14:06:29.336832Z",
     "start_time": "2018-03-15T14:06:28.804134Z"
    }
   },
   "outputs": [
    {
     "ename": "ModuleNotFoundError",
     "evalue": "No module named 'user_agents'",
     "output_type": "error",
     "traceback": [
      "\u001b[1;31m---------------------------------------------------------------------------\u001b[0m",
      "\u001b[1;31mModuleNotFoundError\u001b[0m                       Traceback (most recent call last)",
      "\u001b[1;32m<ipython-input-63-76ce45c92e95>\u001b[0m in \u001b[0;36m<module>\u001b[1;34m()\u001b[0m\n\u001b[0;32m      1\u001b[0m \u001b[1;31m# Install pyyaml ua-parser user-agents\u001b[0m\u001b[1;33m\u001b[0m\u001b[1;33m\u001b[0m\u001b[0m\n\u001b[1;32m----> 2\u001b[1;33m \u001b[1;32mimport\u001b[0m \u001b[0muser_agents\u001b[0m\u001b[1;33m\u001b[0m\u001b[0m\n\u001b[0m\u001b[0;32m      3\u001b[0m \u001b[1;33m\u001b[0m\u001b[0m\n\u001b[0;32m      4\u001b[0m \u001b[0mua\u001b[0m \u001b[1;33m=\u001b[0m \u001b[1;34m'Mozilla/5.0 (X11; Linux x86_64) AppleWebKit/537.36 (KHTML, like Gecko) Ubuntu Chromium/56.0.2924.76 Chrome/56.0.2924.76 Safari/537.36'\u001b[0m\u001b[1;33m\u001b[0m\u001b[0m\n\u001b[0;32m      5\u001b[0m \u001b[0mua\u001b[0m \u001b[1;33m=\u001b[0m \u001b[0muser_agents\u001b[0m\u001b[1;33m.\u001b[0m\u001b[0mparse\u001b[0m\u001b[1;33m(\u001b[0m\u001b[0mua\u001b[0m\u001b[1;33m)\u001b[0m\u001b[1;33m\u001b[0m\u001b[0m\n",
      "\u001b[1;31mModuleNotFoundError\u001b[0m: No module named 'user_agents'"
     ]
    }
   ],
   "source": [
    "# Install pyyaml ua-parser user-agents\n",
    "import user_agents\n",
    "\n",
    "ua = 'Mozilla/5.0 (X11; Linux x86_64) AppleWebKit/537.36 (KHTML, like Gecko) Ubuntu Chromium/56.0.2924.76 Chrome/56.0.2924.76 Safari/537.36'\n",
    "ua = user_agents.parse(ua)\n",
    "\n",
    "print('Is a bot? ', ua.is_bot)\n",
    "print('Is mobile? ', ua.is_mobile)\n",
    "print('Is PC? ',ua.is_pc)\n",
    "print('OS Family: ',ua.os.family)\n",
    "print('OS Version: ',ua.os.version)\n",
    "print('Browser Family: ',ua.browser.family)\n",
    "print('Browser Version: ',ua.browser.version)"
   ]
  },
  {
   "cell_type": "markdown",
   "metadata": {
    "ExecuteTime": {
     "end_time": "2018-03-14T16:11:22.538721Z",
     "start_time": "2018-03-14T16:11:22.534198Z"
    }
   },
   "source": [
    "> As in other domains, you can come up with your own features based on intuition about the nature of the data. At the time of this writing, Chromium 56 was new, but, after some time, only users who haven't rebooted their browser for a long time will have this version. In this case, why not introduce a feature called \"lag behind the latest version of the browser\"?\n",
    "\n",
    "In addition to the operating system and browser, you can look at the referrer (not always available), [http_accept_language](https://developer.mozilla.org/en-US/docs/Web/HTTP/Headers/Accept-Language), and other meta information.\n",
    "\n",
    "The next useful piece of information is the IP-address, from which you can extract the country and possibly the city, provider, and connection type (mobile/stationary). You need to understand that there is a variety of proxy and outdated databases, so this feature can contain noise. Network administration gurus may try to extract even fancier features like suggestions for [using VPN](https://habrahabr.ru/post/216295/). By the way, the data from the IP-address is well combined with `http_accept_language`: if the user is sitting at the Chilean proxies and browser locale is `ru_RU`, something is unclean and worth a look in the corresponding column in the table (`is_traveler_or_proxy_user`).\n",
    "\n",
    "Any given area has so many specifics that it is too much for an individual to absorb completely. Therefore, I invite everyone to share their experiences and discuss feature extraction and generation in the comments section."
   ]
  },
  {
   "cell_type": "markdown",
   "metadata": {},
   "source": [
    "## Feature transformations\n",
    "\n",
    "### Normalization and changing distribution\n",
    "\n",
    "Monotonic feature transformation is critical for some algorithms and has no effect on others. This is one of the reasons for the increased popularity of decision trees and all its derivative algorithms (random forest, gradient boosting). Not everyone can or want to tinker with transformations, and these algorithms are robust to unusual distributions.\n",
    "\n",
    "There are also purely engineering reasons: `np.log` is a way of dealing with large numbers that do not fit in `np.float64`. This is an exception rather than a rule; often it's driven by the desire to adapt the dataset to the requirements of the algorithm. Parametric methods usually require a minimum of symmetric and unimodal distribution of data, which is not always given in real data. There may be more stringent requirements; recall [our earlier article about linear models](https://medium.com/open-machine-learning-course/open-machine-learning-course-topic-4-linear-classification-and-regression-44a41b9b5220).\n",
    "\n",
    "However, data requirements are imposed not only by parametric methods; [K nearest neighbors](https://medium.com/open-machine-learning-course/open-machine-learning-course-topic-3-classification-decision-trees-and-k-nearest-neighbors-8613c6b6d2cd) will predict complete nonsense if features are not normalized e.g. when one distribution is located in the vicinity of zero and does not go beyond (-1, 1) while the other’s range is on the order of hundreds of thousands.\n",
    "\n",
    "A simple example: suppose that the task is to predict the cost of an apartment from two variables — the distance from city center and the number of rooms. The number of rooms rarely exceeds 5 whereas the distance from city center can easily be in the thousands of meters.\n",
    "\n",
    "The simplest transformation is Standard Scaling (or Z-score normalization):\n",
    "\n",
    "$$ \\large z= \\frac{x-\\mu}{\\sigma} $$\n",
    "\n",
    "Note that Standard Scaling does not make the distribution normal in the strict sense."
   ]
  },
  {
   "cell_type": "code",
   "execution_count": 65,
   "metadata": {
    "ExecuteTime": {
     "end_time": "2018-03-15T14:06:29.382748Z",
     "start_time": "2018-03-15T14:06:29.338320Z"
    }
   },
   "outputs": [
    {
     "data": {
      "text/plain": [
       "(0.8791459202766418, 3.6045335060602184e-27)"
      ]
     },
     "execution_count": 65,
     "metadata": {},
     "output_type": "execute_result"
    }
   ],
   "source": [
    "from sklearn.preprocessing import StandardScaler\n",
    "from scipy.stats import beta\n",
    "from scipy.stats import shapiro\n",
    "import numpy as np\n",
    "\n",
    "data = beta(1, 10).rvs(1000).reshape(-1, 1)\n",
    "shapiro(data)"
   ]
  },
  {
   "cell_type": "code",
   "execution_count": 67,
   "metadata": {},
   "outputs": [
    {
     "data": {
      "text/plain": [
       "(1000, 1)"
      ]
     },
     "execution_count": 67,
     "metadata": {},
     "output_type": "execute_result"
    }
   ],
   "source": [
    "data.shape"
   ]
  },
  {
   "cell_type": "code",
   "execution_count": 16,
   "metadata": {
    "ExecuteTime": {
     "end_time": "2018-03-15T14:06:29.509590Z",
     "start_time": "2018-03-15T14:06:29.385020Z"
    }
   },
   "outputs": [
    {
     "data": {
      "text/plain": [
       "(0.87336665391922, 1.0237810250125059e-27)"
      ]
     },
     "execution_count": 16,
     "metadata": {},
     "output_type": "execute_result"
    }
   ],
   "source": [
    "# Value of the statistic, p-value\n",
    "shapiro(StandardScaler().fit_transform(data))\n",
    "\n",
    "# With such p-value we'd have to reject the null hypothesis of normality of the data"
   ]
  },
  {
   "cell_type": "markdown",
   "metadata": {},
   "source": [
    "But, to some extent, it protects against outliers:"
   ]
  },
  {
   "cell_type": "code",
   "execution_count": 68,
   "metadata": {
    "ExecuteTime": {
     "end_time": "2018-03-15T14:06:29.602528Z",
     "start_time": "2018-03-15T14:06:29.511150Z"
    }
   },
   "outputs": [],
   "source": [
    "data = np.array([1, 1, 0, -1, 2, 1, 2, 3, -2, 4, 100]).reshape(-1, 1).astype(np.float64)"
   ]
  },
  {
   "cell_type": "code",
   "execution_count": 69,
   "metadata": {},
   "outputs": [
    {
     "data": {
      "text/plain": [
       "array([[   1.],\n",
       "       [   1.],\n",
       "       [   0.],\n",
       "       [  -1.],\n",
       "       [   2.],\n",
       "       [   1.],\n",
       "       [   2.],\n",
       "       [   3.],\n",
       "       [  -2.],\n",
       "       [   4.],\n",
       "       [ 100.]])"
      ]
     },
     "execution_count": 69,
     "metadata": {},
     "output_type": "execute_result"
    }
   ],
   "source": [
    "data"
   ]
  },
  {
   "cell_type": "code",
   "execution_count": 71,
   "metadata": {
    "ExecuteTime": {
     "end_time": "2018-03-15T14:06:29.602528Z",
     "start_time": "2018-03-15T14:06:29.511150Z"
    }
   },
   "outputs": [
    {
     "data": {
      "text/plain": [
       "array([[-0.31922662],\n",
       "       [-0.31922662],\n",
       "       [-0.35434155],\n",
       "       [-0.38945648],\n",
       "       [-0.28411169],\n",
       "       [-0.31922662],\n",
       "       [-0.28411169],\n",
       "       [-0.24899676],\n",
       "       [-0.42457141],\n",
       "       [-0.21388184],\n",
       "       [ 3.15715128]])"
      ]
     },
     "execution_count": 71,
     "metadata": {},
     "output_type": "execute_result"
    }
   ],
   "source": [
    "StandardScaler().fit_transform(data)"
   ]
  },
  {
   "cell_type": "code",
   "execution_count": 70,
   "metadata": {
    "ExecuteTime": {
     "end_time": "2018-03-15T14:06:29.713603Z",
     "start_time": "2018-03-15T14:06:29.605288Z"
    }
   },
   "outputs": [
    {
     "data": {
      "text/plain": [
       "array([[-0.31922662],\n",
       "       [-0.31922662],\n",
       "       [-0.35434155],\n",
       "       [-0.38945648],\n",
       "       [-0.28411169],\n",
       "       [-0.31922662],\n",
       "       [-0.28411169],\n",
       "       [-0.24899676],\n",
       "       [-0.42457141],\n",
       "       [-0.21388184],\n",
       "       [ 3.15715128]])"
      ]
     },
     "execution_count": 70,
     "metadata": {},
     "output_type": "execute_result"
    }
   ],
   "source": [
    "(data - data.mean()) / data.std()"
   ]
  },
  {
   "cell_type": "markdown",
   "metadata": {},
   "source": [
    "Another fairly popular option is MinMax Scaling, which brings all the points within a predetermined interval (typically (0, 1)).\n",
    "\n",
    "$$ \\large X_{norm}=\\frac{X-X_{min}}{X_{max}-X_{min}} $$"
   ]
  },
  {
   "cell_type": "code",
   "execution_count": 81,
   "metadata": {
    "ExecuteTime": {
     "end_time": "2018-03-15T14:06:29.855619Z",
     "start_time": "2018-03-15T14:06:29.716000Z"
    }
   },
   "outputs": [],
   "source": [
    "from sklearn.preprocessing import MinMaxScaler"
   ]
  },
  {
   "cell_type": "code",
   "execution_count": 80,
   "metadata": {
    "ExecuteTime": {
     "end_time": "2018-03-15T14:06:29.855619Z",
     "start_time": "2018-03-15T14:06:29.716000Z"
    }
   },
   "outputs": [
    {
     "ename": "ValueError",
     "evalue": "Expected 2D array, got 1D array instead:\narray=[  2.58789394   0.20140037   0.55356878   1.51390002   2.55922807\n   1.20936016   0.39961633   0.48818408   0.43794207   1.88965793\n   0.64731034   1.01638686   1.68808205   0.38110312   0.31844678\n   3.51238445   0.15357974   0.95599045   5.05480696   0.23547589\n   0.92240224   2.51959831   4.19972244   0.6167542    2.81517233\n   0.0637475    1.21802116   1.23606251   1.30689578   0.77066838\n   0.8651784    4.08617162   1.06950438   1.84397105   2.08280708\n   0.6223739    1.26911393   0.69866421   2.17701388   2.16719538\n   2.69852763   1.55951742   1.29167426   1.38435613   5.08324676\n   2.27689627   1.12098771   0.73088314   1.58517247   0.13804551\n   2.99381572   1.27390006   5.22505902   0.28107427   0.48390931\n   1.95078409   1.44499231   0.2062888    0.26244727   0.63092269\n   2.92516043   0.5565309    1.05357218   2.16556972   1.28588235\n   0.15168452   1.5492804    0.38064221   1.53747942   0.74831961\n   0.864102     0.34570735   0.66366169   0.65256748   1.69023687\n   4.15087742   6.50376507   1.40854598   0.89164461   0.95794856\n   1.11910945   0.51567272   1.58815853   1.03456491   0.86551863\n   0.56196883   1.55973335   0.81951026   0.58294815   1.29608062\n  16.60729032   0.73004902   0.35658438   0.44365767   0.57503976\n   0.73183627   2.72152375   0.16304558   1.8442656    0.86357041\n   1.60065252   5.84338744   0.391954     0.78162523   3.20223243\n   0.90683485   0.52727542   2.19906274   1.36626068   1.58496551\n   0.13790678   1.63859259   0.76329734   2.58436672   0.54400844\n   5.102586     5.04930153   1.53415829   0.70822174   1.30541824\n   0.68931102   1.06350907   0.53985408   0.8608931    4.86509339\n   9.46849425   1.88100714   1.77310495   1.89323281   0.2985907\n   8.0448271    0.12112198   1.06834248   0.04562355   7.75243998\n   0.37439861   0.32386904   0.41552059   0.43425035   0.69840813\n   5.23802524   0.71724738   1.01977344   0.85267578   0.53942533\n   1.60185275   2.25345271   1.07336694   1.03445742   0.31958555\n   0.45974754   0.37601611   1.16718715   0.1470965    5.48352255\n   2.72804276   0.41444518   1.79911435   0.15431731   1.49576012\n   2.16175652   0.32340581   1.33883346   1.38175045   1.55516593\n   0.48483265   1.04880306   0.72479637   0.32924895   0.60551049\n   1.5756681    4.30794955   3.82079099   0.41331963   1.14705315\n   5.27562062   2.70261368   0.86899888   0.73311662   0.58210253\n   0.26492591   0.20806627   2.03390417   2.87029323   0.17978431\n   0.99668671   0.33985766   1.06817166   1.73131077   1.81101568\n   0.87895015   0.55918208   1.52618586   1.82706815   0.28935613\n   2.45561528   0.83951254   1.18872598   1.47449191   0.38297624\n   2.1472051    0.48988717   0.70091416   0.72246947   0.14923807\n   0.37826518   2.30236629   1.18847352   4.22244616   2.55719837\n   0.8125967    0.36578829   2.0868156    2.13055534   0.55819201\n   1.41103207   2.37297715   0.4384191    1.50723967   5.12138246\n   0.34448535   6.81349512   3.32813195   4.96215841   5.05069937\n   1.34616978   0.61434278   1.12388565   0.57768969   2.37825701\n   9.12997277   0.67469823   0.89182511   0.13806382   6.44162006\n   1.1144617    0.40980493   0.50765729   1.46000262   0.48600747\n   0.83586993   1.21514971   0.40118182   0.66869216   0.15081544\n   1.92746276   1.89525027   4.2364851    0.72763837   1.43779754\n   1.39305608   0.83615091   2.70582408   4.94934889   2.02602095\n   0.71867066   1.70926476   0.39461585   0.42197296   2.66765026\n   0.57806307   1.75908683   0.74135089   0.97385268   0.28341452\n   2.11286395   1.14641412   0.77498917   0.21439251   1.06893486\n   0.52241024   2.69185751   0.24515425   1.02837593   0.93614224\n   0.36597363   0.37592186   1.80817973   2.45099205   0.14696563\n   1.00333829   0.51485634   2.05898747   0.44257704   0.52838739\n   0.86566073   9.1893536    5.68731545   0.78726577   4.66762422\n   0.20457944   1.02522424   0.19541008   0.61351418   2.38736655\n   5.33567037   0.35574259   0.28725544   1.50475014   2.84047465\n  11.14909485   0.37408253   0.93993899   0.84428649   0.34644774\n   1.27392701   0.52680988   1.86476703   1.23479178   1.24649713\n   0.7935796    2.55096495   4.24258727   0.4385068    0.60965999\n   0.2990796    3.97947558   0.16363248   3.16412646   1.69031438\n   1.26340451   0.4073965    0.79647729   3.45974398   0.41062631\n   1.86657791   1.05160968   0.55192717   0.82194453   0.31469172\n   0.65699952   0.56103741   1.48426568   7.51374474   1.99283617\n   7.04651079   0.40645062   2.44513436   0.58515397   0.2714397\n   3.27489567   8.2099747    0.82072841   0.84002698   0.17707444\n   0.62115647   3.35130831   0.62490176   1.64341835   0.15731641\n   0.65666374   0.16930404   1.23627175   0.46486245   1.73212222\n   1.14385165   7.01583715   1.67619416   0.73706611   0.34721675\n   2.66055238   0.78716332   2.61067714   2.30898944   1.45684881\n   1.73630757   5.91593861   0.11749427   1.08757304   0.33349331\n   1.87188768   2.09480036   5.88195668   0.45279111   0.27175478\n   1.28160311   0.39607604   1.66622383   1.92714846   0.54362322\n   0.92601344   0.19716241   3.64583699   1.12016796   0.83465092\n   0.68901046   4.38550364   1.29262872   6.12057663   0.99097579\n   0.52776282   3.19947953   0.30383051   1.45131153   0.28776072\n   0.49135081   0.45317332   0.43301531   3.42937142   1.30639403\n   0.81907866   3.93592909   0.06778023   9.24141532   0.69750227\n   1.68793103   2.30954315   5.16715238   2.33134132   1.41793605\n   1.27885137   2.75204061   1.73681633   0.55407314   0.54359324\n   1.15082738   0.16502569   2.67702228   1.28821458   0.39175631\n   2.93450827   8.35575955   2.0069849    3.01670977   0.85829722\n   5.06476556   0.3457671    1.43955186   4.96889815   0.76176647\n   1.88910997   0.54140116   0.3294975    0.37402687   1.85875171\n   0.31078539   1.12520804   1.0770855    1.9212537    0.82511844\n   0.46482691   2.93494423   2.74627594   0.39547469   3.37741433\n   1.50785361   2.07161447   0.77732582   0.30138705   0.13152653\n   0.52748626   2.84980729   1.27412794   0.60357387   1.21406375\n   0.42615259   0.99194346   1.19485702   5.98400603   1.13856087\n   3.20028386   0.18470079   0.34586832   3.49104396   1.52229235\n   0.88806109   0.30982934   0.98171495   0.80726508  11.26524972\n   2.51634089   1.36442876   0.52473079   1.01461586   1.49181032\n   0.35950448   0.32605148   0.38861455   0.24932093   1.27615479\n   0.94158179   0.58330225   0.4307988    0.59222056   0.2951804\n   2.75405797   2.39197627   0.66949835   3.25111459   2.33807122\n   0.16195284   2.51721817   1.57996946   2.26183132   0.32779505\n   0.53211239   0.14640909   0.67696223   0.29812842   0.8778496\n   0.17798694   2.68401872   5.20585057   1.00091747   0.41200845\n   0.7935535    2.20814347   1.43215755   5.04180931   0.53730073\n   1.39799404   0.46399927   1.07429135   0.24070933   0.19378076\n   0.62109419   0.15196261   0.53179855   1.15979778   0.74490832\n   0.89705537   0.1637063    1.54645171   1.5398066    0.33898682\n   1.22298334   2.27824277   0.73102687   0.13007258   4.72333095\n   0.63185273   0.17230461   1.48605652   1.46015823   0.31591806\n   0.42899873   8.67375062   2.88384544   0.85475263   0.44780448\n   0.98647744   0.41467032   1.00291745   2.44620695   2.73648326\n   2.81675716   5.69486691   0.09942439   5.75163613   0.2212929\n   0.93939598   0.86019998   2.84076768   1.29875545   2.59359237\n   3.57029365   1.68731055   1.037352     0.65300895   2.1219217\n   9.79649945   0.14319859   7.13040323   4.53984286  13.94822768\n   1.9214901    1.82251871   7.32149562   1.04200388   1.82444315\n   0.75806182   1.92659788   0.8447269    0.60974817   0.06315165\n   3.50879034   1.60437904   1.35574341   9.97719549   0.62049633\n   0.70594515   1.0657646    1.27930102   1.32958      0.55965418\n   1.38853752   4.67981409   0.69368613   2.21847287   2.03672456\n   0.0899098    1.76531525   1.14762696   0.45971187   0.4162059\n   0.69922367   6.82688463  13.57227651   0.34704367   0.80298933\n   0.53887594   1.68013137   2.07646663   0.30132351   4.22547802\n   2.53397147   0.44697305   0.75308408   0.62091599   0.38005259\n   0.2579194    0.78847548   0.73635407   0.54535034   0.23944245\n   0.56244685   1.23584967   3.20973166   0.36021045   0.23572224\n   2.30292289   0.39050369   4.70942106   0.51332617   1.58068999\n   0.53299483   0.35151147   1.05815999   1.03107618   0.78366945\n   1.02653313   2.28452106   1.75660639   0.9428456    6.10157489\n   0.48856415   1.06921828   1.15161813   2.46725793   1.12612127\n   0.83317148   0.05350412   0.38178771   2.8901492    4.18545141\n   0.25409707   1.27281345   0.71573596   1.30236559   0.53400919\n   0.70334842   1.55485873   0.93015707   2.19769002   0.7882207\n   0.58056617   4.00388916   3.0545612    0.73587854  24.88408037\n   0.98805679   0.62285174   1.34519355   1.30262871   1.24834398\n   1.66370661   0.3715346    0.80251963   1.90677061   1.65284036\n   0.65528182   0.47464398   4.03397315   0.24816996   0.42061473\n   0.53598204   1.04209163   1.4681573    8.04636465   0.12796704\n   0.42488138   0.77258467   0.4560669    2.49173576   1.42502968\n   0.22995312   0.21852333   1.8402082    1.15325909   2.56229475\n   1.00472703   1.1555205    5.212505     0.92708468   2.05835918\n   0.28073265   0.83692175   2.49877249   4.99985314   0.78186493\n   1.12151414   5.62788289   4.87778904   1.02792126   3.40068347\n   5.95145042   1.25734282   1.3821593    1.54082753   0.06197741\n   0.30415076   0.20169528   0.88430955   0.73976861   0.4740544\n   1.81433565   0.24309256   1.68582575   3.14986582   0.50622149\n   0.42327082   4.00686676   1.87683181   2.5316658    0.8781392\n   1.14273976   0.84666298   0.41185657   3.86389681   3.61539823\n   3.22951132   1.06743109   1.20550146   0.46232303  12.41075357\n   0.17907704   1.3418829    3.2014402    0.36679839   0.40115238\n   7.07371875   2.35913748   0.30998707   0.3264285    0.59398925\n   1.09283534   0.31592721   1.05071227   0.56549153   1.90296502\n   5.92206053   1.29925578   0.22455077   1.22768858   2.10614933\n  10.08851782   1.88261905   0.50169378   0.80440197   1.68596754\n   1.35010917   2.25573316   0.33103296   2.49553998   1.34270944\n   2.8657243    2.80293941   2.02683205   1.90402273   1.31914464\n   1.17481186   1.75242983   1.01185067   1.4135332    1.0826946\n   0.19508572   0.88107346   1.30463657   0.48219829   1.43272682\n   0.59581251   0.74462141   1.6187802    0.37943987   1.52074824\n   0.40800283   7.18178818   0.92924853   1.05342786   0.59846412\n   8.13701552   0.47921889   4.82351891   0.31177465   2.36410916\n   0.75462396   1.18278539   0.08951037   0.57426612   0.5085317\n   0.46087057   0.38801779   0.90664221   0.77064288   0.51063339\n   2.40648751   0.40889381   0.50683091   0.7111403    0.24820389\n   1.21041898   5.00452182   1.13831196   0.7249399    2.61422179\n   0.58841251   0.5079496    3.76986178   1.2082875    0.3590098\n   0.78552724   0.66828467   1.11102364   0.39144405   0.95189374\n   0.19456791   0.27993331   0.07315653   1.40168597   0.2540502\n   0.48376405   0.61656551   0.82109171   1.70284866   0.72864536\n   0.93866483   0.8414413    1.07083407   1.95813962   1.95535815\n   1.64691382   0.7067437    0.97987368   0.60444075   0.63563343\n   5.02877238   0.83658052   2.00980526   1.14980144   0.87009107\n   0.28498759   0.42042023   0.33920856   0.65300481   0.19182359\n   1.67153384   0.75998418   2.04838562   0.55964557   0.02902486\n   1.06147332   0.9270597    0.17334821   1.18946294   1.39632864\n   3.13657784   0.5618797    0.41289031   2.18147543   3.03927302\n   0.55136794   2.74246205   1.31655259   0.51076251   1.98250906\n   0.6453426    0.85992762   1.33874955   1.38156042   4.92473458\n   1.15989757   0.40543787   0.46555504   0.92856898   1.15215553\n   1.00029261   6.15333966   1.54496487   2.95634399   5.04918714\n   0.29369666   0.25898107   0.25756599   1.08099498   0.44556307\n   1.470255     0.69199611   3.9249867    0.51984147   2.47007866\n   0.55398166   1.73303004   0.41481276   0.97237463   1.02658266\n   0.84297091   0.40334963   8.63862619   1.18571505   1.22088596\n   5.72395621   1.15252529   1.67651165   0.85733439   1.6411548\n   0.52715181   1.21906804   0.71568891   0.87463511   0.87238893\n   1.61173409   0.77501859   0.66439135   1.66342097   0.69680131\n   0.31219686   1.18717205   2.34042507   3.67602713   0.05492982\n   2.33273416   1.793065     0.71316218   0.48053817   0.46203721\n   0.53746993   1.25484758   0.32610264   0.55268107   0.27260101\n   1.00239226   0.5649664    3.66999362   0.45584903   0.55406518\n   0.52231715   1.93156233  10.07001187   4.61973525   3.06569008\n   2.00850246   0.12942736   3.05459669   0.61460434   0.4686989\n   1.08070942   0.33605857   1.84754269   1.82648883   1.3090864\n   0.24427884   1.3497824    1.29815654   1.13623996   7.95389282\n   0.04528898   1.15821082   0.59889483   1.89052822   1.92866506\n   2.53539868   0.16515169   2.39401682   2.01308964   0.53399035\n   1.11954693   0.7650861    1.05636119   0.23467754   1.12939746\n   0.93442717   0.96039884   1.30375817   0.47494912   0.35399288\n   2.21481102   1.39743827   4.93540303   0.84951927   0.98793707\n   0.30804516   1.39058479   0.76914053   0.64862759   0.38079946\n   2.13646239   1.12478712   0.61566049   0.80340731   2.74707502].\nReshape your data either using array.reshape(-1, 1) if your data has a single feature or array.reshape(1, -1) if it contains a single sample.",
     "output_type": "error",
     "traceback": [
      "\u001b[1;31m---------------------------------------------------------------------------\u001b[0m",
      "\u001b[1;31mValueError\u001b[0m                                Traceback (most recent call last)",
      "\u001b[1;32m<ipython-input-80-9c86c9c4f281>\u001b[0m in \u001b[0;36m<module>\u001b[1;34m()\u001b[0m\n\u001b[0;32m      1\u001b[0m \u001b[1;32mfrom\u001b[0m \u001b[0msklearn\u001b[0m\u001b[1;33m.\u001b[0m\u001b[0mpreprocessing\u001b[0m \u001b[1;32mimport\u001b[0m \u001b[0mMinMaxScaler\u001b[0m\u001b[1;33m\u001b[0m\u001b[0m\n\u001b[0;32m      2\u001b[0m \u001b[1;33m\u001b[0m\u001b[0m\n\u001b[1;32m----> 3\u001b[1;33m \u001b[0mMinMaxScaler\u001b[0m\u001b[1;33m(\u001b[0m\u001b[1;33m)\u001b[0m\u001b[1;33m.\u001b[0m\u001b[0mfit_transform\u001b[0m\u001b[1;33m(\u001b[0m\u001b[0mdata\u001b[0m\u001b[1;33m)\u001b[0m\u001b[1;33m\u001b[0m\u001b[0m\n\u001b[0m",
      "\u001b[1;32mD:\\ML\\tools\\Anaconda3\\lib\\site-packages\\sklearn\\base.py\u001b[0m in \u001b[0;36mfit_transform\u001b[1;34m(self, X, y, **fit_params)\u001b[0m\n\u001b[0;32m    515\u001b[0m         \u001b[1;32mif\u001b[0m \u001b[0my\u001b[0m \u001b[1;32mis\u001b[0m \u001b[1;32mNone\u001b[0m\u001b[1;33m:\u001b[0m\u001b[1;33m\u001b[0m\u001b[0m\n\u001b[0;32m    516\u001b[0m             \u001b[1;31m# fit method of arity 1 (unsupervised transformation)\u001b[0m\u001b[1;33m\u001b[0m\u001b[1;33m\u001b[0m\u001b[0m\n\u001b[1;32m--> 517\u001b[1;33m             \u001b[1;32mreturn\u001b[0m \u001b[0mself\u001b[0m\u001b[1;33m.\u001b[0m\u001b[0mfit\u001b[0m\u001b[1;33m(\u001b[0m\u001b[0mX\u001b[0m\u001b[1;33m,\u001b[0m \u001b[1;33m**\u001b[0m\u001b[0mfit_params\u001b[0m\u001b[1;33m)\u001b[0m\u001b[1;33m.\u001b[0m\u001b[0mtransform\u001b[0m\u001b[1;33m(\u001b[0m\u001b[0mX\u001b[0m\u001b[1;33m)\u001b[0m\u001b[1;33m\u001b[0m\u001b[0m\n\u001b[0m\u001b[0;32m    518\u001b[0m         \u001b[1;32melse\u001b[0m\u001b[1;33m:\u001b[0m\u001b[1;33m\u001b[0m\u001b[0m\n\u001b[0;32m    519\u001b[0m             \u001b[1;31m# fit method of arity 2 (supervised transformation)\u001b[0m\u001b[1;33m\u001b[0m\u001b[1;33m\u001b[0m\u001b[0m\n",
      "\u001b[1;32mD:\\ML\\tools\\Anaconda3\\lib\\site-packages\\sklearn\\preprocessing\\data.py\u001b[0m in \u001b[0;36mfit\u001b[1;34m(self, X, y)\u001b[0m\n\u001b[0;32m    306\u001b[0m         \u001b[1;31m# Reset internal state before fitting\u001b[0m\u001b[1;33m\u001b[0m\u001b[1;33m\u001b[0m\u001b[0m\n\u001b[0;32m    307\u001b[0m         \u001b[0mself\u001b[0m\u001b[1;33m.\u001b[0m\u001b[0m_reset\u001b[0m\u001b[1;33m(\u001b[0m\u001b[1;33m)\u001b[0m\u001b[1;33m\u001b[0m\u001b[0m\n\u001b[1;32m--> 308\u001b[1;33m         \u001b[1;32mreturn\u001b[0m \u001b[0mself\u001b[0m\u001b[1;33m.\u001b[0m\u001b[0mpartial_fit\u001b[0m\u001b[1;33m(\u001b[0m\u001b[0mX\u001b[0m\u001b[1;33m,\u001b[0m \u001b[0my\u001b[0m\u001b[1;33m)\u001b[0m\u001b[1;33m\u001b[0m\u001b[0m\n\u001b[0m\u001b[0;32m    309\u001b[0m \u001b[1;33m\u001b[0m\u001b[0m\n\u001b[0;32m    310\u001b[0m     \u001b[1;32mdef\u001b[0m \u001b[0mpartial_fit\u001b[0m\u001b[1;33m(\u001b[0m\u001b[0mself\u001b[0m\u001b[1;33m,\u001b[0m \u001b[0mX\u001b[0m\u001b[1;33m,\u001b[0m \u001b[0my\u001b[0m\u001b[1;33m=\u001b[0m\u001b[1;32mNone\u001b[0m\u001b[1;33m)\u001b[0m\u001b[1;33m:\u001b[0m\u001b[1;33m\u001b[0m\u001b[0m\n",
      "\u001b[1;32mD:\\ML\\tools\\Anaconda3\\lib\\site-packages\\sklearn\\preprocessing\\data.py\u001b[0m in \u001b[0;36mpartial_fit\u001b[1;34m(self, X, y)\u001b[0m\n\u001b[0;32m    332\u001b[0m \u001b[1;33m\u001b[0m\u001b[0m\n\u001b[0;32m    333\u001b[0m         X = check_array(X, copy=self.copy, warn_on_dtype=True,\n\u001b[1;32m--> 334\u001b[1;33m                         estimator=self, dtype=FLOAT_DTYPES)\n\u001b[0m\u001b[0;32m    335\u001b[0m \u001b[1;33m\u001b[0m\u001b[0m\n\u001b[0;32m    336\u001b[0m         \u001b[0mdata_min\u001b[0m \u001b[1;33m=\u001b[0m \u001b[0mnp\u001b[0m\u001b[1;33m.\u001b[0m\u001b[0mmin\u001b[0m\u001b[1;33m(\u001b[0m\u001b[0mX\u001b[0m\u001b[1;33m,\u001b[0m \u001b[0maxis\u001b[0m\u001b[1;33m=\u001b[0m\u001b[1;36m0\u001b[0m\u001b[1;33m)\u001b[0m\u001b[1;33m\u001b[0m\u001b[0m\n",
      "\u001b[1;32mD:\\ML\\tools\\Anaconda3\\lib\\site-packages\\sklearn\\utils\\validation.py\u001b[0m in \u001b[0;36mcheck_array\u001b[1;34m(array, accept_sparse, dtype, order, copy, force_all_finite, ensure_2d, allow_nd, ensure_min_samples, ensure_min_features, warn_on_dtype, estimator)\u001b[0m\n\u001b[0;32m    439\u001b[0m                     \u001b[1;34m\"Reshape your data either using array.reshape(-1, 1) if \"\u001b[0m\u001b[1;33m\u001b[0m\u001b[0m\n\u001b[0;32m    440\u001b[0m                     \u001b[1;34m\"your data has a single feature or array.reshape(1, -1) \"\u001b[0m\u001b[1;33m\u001b[0m\u001b[0m\n\u001b[1;32m--> 441\u001b[1;33m                     \"if it contains a single sample.\".format(array))\n\u001b[0m\u001b[0;32m    442\u001b[0m             \u001b[0marray\u001b[0m \u001b[1;33m=\u001b[0m \u001b[0mnp\u001b[0m\u001b[1;33m.\u001b[0m\u001b[0matleast_2d\u001b[0m\u001b[1;33m(\u001b[0m\u001b[0marray\u001b[0m\u001b[1;33m)\u001b[0m\u001b[1;33m\u001b[0m\u001b[0m\n\u001b[0;32m    443\u001b[0m             \u001b[1;31m# To ensure that array flags are maintained\u001b[0m\u001b[1;33m\u001b[0m\u001b[1;33m\u001b[0m\u001b[0m\n",
      "\u001b[1;31mValueError\u001b[0m: Expected 2D array, got 1D array instead:\narray=[  2.58789394   0.20140037   0.55356878   1.51390002   2.55922807\n   1.20936016   0.39961633   0.48818408   0.43794207   1.88965793\n   0.64731034   1.01638686   1.68808205   0.38110312   0.31844678\n   3.51238445   0.15357974   0.95599045   5.05480696   0.23547589\n   0.92240224   2.51959831   4.19972244   0.6167542    2.81517233\n   0.0637475    1.21802116   1.23606251   1.30689578   0.77066838\n   0.8651784    4.08617162   1.06950438   1.84397105   2.08280708\n   0.6223739    1.26911393   0.69866421   2.17701388   2.16719538\n   2.69852763   1.55951742   1.29167426   1.38435613   5.08324676\n   2.27689627   1.12098771   0.73088314   1.58517247   0.13804551\n   2.99381572   1.27390006   5.22505902   0.28107427   0.48390931\n   1.95078409   1.44499231   0.2062888    0.26244727   0.63092269\n   2.92516043   0.5565309    1.05357218   2.16556972   1.28588235\n   0.15168452   1.5492804    0.38064221   1.53747942   0.74831961\n   0.864102     0.34570735   0.66366169   0.65256748   1.69023687\n   4.15087742   6.50376507   1.40854598   0.89164461   0.95794856\n   1.11910945   0.51567272   1.58815853   1.03456491   0.86551863\n   0.56196883   1.55973335   0.81951026   0.58294815   1.29608062\n  16.60729032   0.73004902   0.35658438   0.44365767   0.57503976\n   0.73183627   2.72152375   0.16304558   1.8442656    0.86357041\n   1.60065252   5.84338744   0.391954     0.78162523   3.20223243\n   0.90683485   0.52727542   2.19906274   1.36626068   1.58496551\n   0.13790678   1.63859259   0.76329734   2.58436672   0.54400844\n   5.102586     5.04930153   1.53415829   0.70822174   1.30541824\n   0.68931102   1.06350907   0.53985408   0.8608931    4.86509339\n   9.46849425   1.88100714   1.77310495   1.89323281   0.2985907\n   8.0448271    0.12112198   1.06834248   0.04562355   7.75243998\n   0.37439861   0.32386904   0.41552059   0.43425035   0.69840813\n   5.23802524   0.71724738   1.01977344   0.85267578   0.53942533\n   1.60185275   2.25345271   1.07336694   1.03445742   0.31958555\n   0.45974754   0.37601611   1.16718715   0.1470965    5.48352255\n   2.72804276   0.41444518   1.79911435   0.15431731   1.49576012\n   2.16175652   0.32340581   1.33883346   1.38175045   1.55516593\n   0.48483265   1.04880306   0.72479637   0.32924895   0.60551049\n   1.5756681    4.30794955   3.82079099   0.41331963   1.14705315\n   5.27562062   2.70261368   0.86899888   0.73311662   0.58210253\n   0.26492591   0.20806627   2.03390417   2.87029323   0.17978431\n   0.99668671   0.33985766   1.06817166   1.73131077   1.81101568\n   0.87895015   0.55918208   1.52618586   1.82706815   0.28935613\n   2.45561528   0.83951254   1.18872598   1.47449191   0.38297624\n   2.1472051    0.48988717   0.70091416   0.72246947   0.14923807\n   0.37826518   2.30236629   1.18847352   4.22244616   2.55719837\n   0.8125967    0.36578829   2.0868156    2.13055534   0.55819201\n   1.41103207   2.37297715   0.4384191    1.50723967   5.12138246\n   0.34448535   6.81349512   3.32813195   4.96215841   5.05069937\n   1.34616978   0.61434278   1.12388565   0.57768969   2.37825701\n   9.12997277   0.67469823   0.89182511   0.13806382   6.44162006\n   1.1144617    0.40980493   0.50765729   1.46000262   0.48600747\n   0.83586993   1.21514971   0.40118182   0.66869216   0.15081544\n   1.92746276   1.89525027   4.2364851    0.72763837   1.43779754\n   1.39305608   0.83615091   2.70582408   4.94934889   2.02602095\n   0.71867066   1.70926476   0.39461585   0.42197296   2.66765026\n   0.57806307   1.75908683   0.74135089   0.97385268   0.28341452\n   2.11286395   1.14641412   0.77498917   0.21439251   1.06893486\n   0.52241024   2.69185751   0.24515425   1.02837593   0.93614224\n   0.36597363   0.37592186   1.80817973   2.45099205   0.14696563\n   1.00333829   0.51485634   2.05898747   0.44257704   0.52838739\n   0.86566073   9.1893536    5.68731545   0.78726577   4.66762422\n   0.20457944   1.02522424   0.19541008   0.61351418   2.38736655\n   5.33567037   0.35574259   0.28725544   1.50475014   2.84047465\n  11.14909485   0.37408253   0.93993899   0.84428649   0.34644774\n   1.27392701   0.52680988   1.86476703   1.23479178   1.24649713\n   0.7935796    2.55096495   4.24258727   0.4385068    0.60965999\n   0.2990796    3.97947558   0.16363248   3.16412646   1.69031438\n   1.26340451   0.4073965    0.79647729   3.45974398   0.41062631\n   1.86657791   1.05160968   0.55192717   0.82194453   0.31469172\n   0.65699952   0.56103741   1.48426568   7.51374474   1.99283617\n   7.04651079   0.40645062   2.44513436   0.58515397   0.2714397\n   3.27489567   8.2099747    0.82072841   0.84002698   0.17707444\n   0.62115647   3.35130831   0.62490176   1.64341835   0.15731641\n   0.65666374   0.16930404   1.23627175   0.46486245   1.73212222\n   1.14385165   7.01583715   1.67619416   0.73706611   0.34721675\n   2.66055238   0.78716332   2.61067714   2.30898944   1.45684881\n   1.73630757   5.91593861   0.11749427   1.08757304   0.33349331\n   1.87188768   2.09480036   5.88195668   0.45279111   0.27175478\n   1.28160311   0.39607604   1.66622383   1.92714846   0.54362322\n   0.92601344   0.19716241   3.64583699   1.12016796   0.83465092\n   0.68901046   4.38550364   1.29262872   6.12057663   0.99097579\n   0.52776282   3.19947953   0.30383051   1.45131153   0.28776072\n   0.49135081   0.45317332   0.43301531   3.42937142   1.30639403\n   0.81907866   3.93592909   0.06778023   9.24141532   0.69750227\n   1.68793103   2.30954315   5.16715238   2.33134132   1.41793605\n   1.27885137   2.75204061   1.73681633   0.55407314   0.54359324\n   1.15082738   0.16502569   2.67702228   1.28821458   0.39175631\n   2.93450827   8.35575955   2.0069849    3.01670977   0.85829722\n   5.06476556   0.3457671    1.43955186   4.96889815   0.76176647\n   1.88910997   0.54140116   0.3294975    0.37402687   1.85875171\n   0.31078539   1.12520804   1.0770855    1.9212537    0.82511844\n   0.46482691   2.93494423   2.74627594   0.39547469   3.37741433\n   1.50785361   2.07161447   0.77732582   0.30138705   0.13152653\n   0.52748626   2.84980729   1.27412794   0.60357387   1.21406375\n   0.42615259   0.99194346   1.19485702   5.98400603   1.13856087\n   3.20028386   0.18470079   0.34586832   3.49104396   1.52229235\n   0.88806109   0.30982934   0.98171495   0.80726508  11.26524972\n   2.51634089   1.36442876   0.52473079   1.01461586   1.49181032\n   0.35950448   0.32605148   0.38861455   0.24932093   1.27615479\n   0.94158179   0.58330225   0.4307988    0.59222056   0.2951804\n   2.75405797   2.39197627   0.66949835   3.25111459   2.33807122\n   0.16195284   2.51721817   1.57996946   2.26183132   0.32779505\n   0.53211239   0.14640909   0.67696223   0.29812842   0.8778496\n   0.17798694   2.68401872   5.20585057   1.00091747   0.41200845\n   0.7935535    2.20814347   1.43215755   5.04180931   0.53730073\n   1.39799404   0.46399927   1.07429135   0.24070933   0.19378076\n   0.62109419   0.15196261   0.53179855   1.15979778   0.74490832\n   0.89705537   0.1637063    1.54645171   1.5398066    0.33898682\n   1.22298334   2.27824277   0.73102687   0.13007258   4.72333095\n   0.63185273   0.17230461   1.48605652   1.46015823   0.31591806\n   0.42899873   8.67375062   2.88384544   0.85475263   0.44780448\n   0.98647744   0.41467032   1.00291745   2.44620695   2.73648326\n   2.81675716   5.69486691   0.09942439   5.75163613   0.2212929\n   0.93939598   0.86019998   2.84076768   1.29875545   2.59359237\n   3.57029365   1.68731055   1.037352     0.65300895   2.1219217\n   9.79649945   0.14319859   7.13040323   4.53984286  13.94822768\n   1.9214901    1.82251871   7.32149562   1.04200388   1.82444315\n   0.75806182   1.92659788   0.8447269    0.60974817   0.06315165\n   3.50879034   1.60437904   1.35574341   9.97719549   0.62049633\n   0.70594515   1.0657646    1.27930102   1.32958      0.55965418\n   1.38853752   4.67981409   0.69368613   2.21847287   2.03672456\n   0.0899098    1.76531525   1.14762696   0.45971187   0.4162059\n   0.69922367   6.82688463  13.57227651   0.34704367   0.80298933\n   0.53887594   1.68013137   2.07646663   0.30132351   4.22547802\n   2.53397147   0.44697305   0.75308408   0.62091599   0.38005259\n   0.2579194    0.78847548   0.73635407   0.54535034   0.23944245\n   0.56244685   1.23584967   3.20973166   0.36021045   0.23572224\n   2.30292289   0.39050369   4.70942106   0.51332617   1.58068999\n   0.53299483   0.35151147   1.05815999   1.03107618   0.78366945\n   1.02653313   2.28452106   1.75660639   0.9428456    6.10157489\n   0.48856415   1.06921828   1.15161813   2.46725793   1.12612127\n   0.83317148   0.05350412   0.38178771   2.8901492    4.18545141\n   0.25409707   1.27281345   0.71573596   1.30236559   0.53400919\n   0.70334842   1.55485873   0.93015707   2.19769002   0.7882207\n   0.58056617   4.00388916   3.0545612    0.73587854  24.88408037\n   0.98805679   0.62285174   1.34519355   1.30262871   1.24834398\n   1.66370661   0.3715346    0.80251963   1.90677061   1.65284036\n   0.65528182   0.47464398   4.03397315   0.24816996   0.42061473\n   0.53598204   1.04209163   1.4681573    8.04636465   0.12796704\n   0.42488138   0.77258467   0.4560669    2.49173576   1.42502968\n   0.22995312   0.21852333   1.8402082    1.15325909   2.56229475\n   1.00472703   1.1555205    5.212505     0.92708468   2.05835918\n   0.28073265   0.83692175   2.49877249   4.99985314   0.78186493\n   1.12151414   5.62788289   4.87778904   1.02792126   3.40068347\n   5.95145042   1.25734282   1.3821593    1.54082753   0.06197741\n   0.30415076   0.20169528   0.88430955   0.73976861   0.4740544\n   1.81433565   0.24309256   1.68582575   3.14986582   0.50622149\n   0.42327082   4.00686676   1.87683181   2.5316658    0.8781392\n   1.14273976   0.84666298   0.41185657   3.86389681   3.61539823\n   3.22951132   1.06743109   1.20550146   0.46232303  12.41075357\n   0.17907704   1.3418829    3.2014402    0.36679839   0.40115238\n   7.07371875   2.35913748   0.30998707   0.3264285    0.59398925\n   1.09283534   0.31592721   1.05071227   0.56549153   1.90296502\n   5.92206053   1.29925578   0.22455077   1.22768858   2.10614933\n  10.08851782   1.88261905   0.50169378   0.80440197   1.68596754\n   1.35010917   2.25573316   0.33103296   2.49553998   1.34270944\n   2.8657243    2.80293941   2.02683205   1.90402273   1.31914464\n   1.17481186   1.75242983   1.01185067   1.4135332    1.0826946\n   0.19508572   0.88107346   1.30463657   0.48219829   1.43272682\n   0.59581251   0.74462141   1.6187802    0.37943987   1.52074824\n   0.40800283   7.18178818   0.92924853   1.05342786   0.59846412\n   8.13701552   0.47921889   4.82351891   0.31177465   2.36410916\n   0.75462396   1.18278539   0.08951037   0.57426612   0.5085317\n   0.46087057   0.38801779   0.90664221   0.77064288   0.51063339\n   2.40648751   0.40889381   0.50683091   0.7111403    0.24820389\n   1.21041898   5.00452182   1.13831196   0.7249399    2.61422179\n   0.58841251   0.5079496    3.76986178   1.2082875    0.3590098\n   0.78552724   0.66828467   1.11102364   0.39144405   0.95189374\n   0.19456791   0.27993331   0.07315653   1.40168597   0.2540502\n   0.48376405   0.61656551   0.82109171   1.70284866   0.72864536\n   0.93866483   0.8414413    1.07083407   1.95813962   1.95535815\n   1.64691382   0.7067437    0.97987368   0.60444075   0.63563343\n   5.02877238   0.83658052   2.00980526   1.14980144   0.87009107\n   0.28498759   0.42042023   0.33920856   0.65300481   0.19182359\n   1.67153384   0.75998418   2.04838562   0.55964557   0.02902486\n   1.06147332   0.9270597    0.17334821   1.18946294   1.39632864\n   3.13657784   0.5618797    0.41289031   2.18147543   3.03927302\n   0.55136794   2.74246205   1.31655259   0.51076251   1.98250906\n   0.6453426    0.85992762   1.33874955   1.38156042   4.92473458\n   1.15989757   0.40543787   0.46555504   0.92856898   1.15215553\n   1.00029261   6.15333966   1.54496487   2.95634399   5.04918714\n   0.29369666   0.25898107   0.25756599   1.08099498   0.44556307\n   1.470255     0.69199611   3.9249867    0.51984147   2.47007866\n   0.55398166   1.73303004   0.41481276   0.97237463   1.02658266\n   0.84297091   0.40334963   8.63862619   1.18571505   1.22088596\n   5.72395621   1.15252529   1.67651165   0.85733439   1.6411548\n   0.52715181   1.21906804   0.71568891   0.87463511   0.87238893\n   1.61173409   0.77501859   0.66439135   1.66342097   0.69680131\n   0.31219686   1.18717205   2.34042507   3.67602713   0.05492982\n   2.33273416   1.793065     0.71316218   0.48053817   0.46203721\n   0.53746993   1.25484758   0.32610264   0.55268107   0.27260101\n   1.00239226   0.5649664    3.66999362   0.45584903   0.55406518\n   0.52231715   1.93156233  10.07001187   4.61973525   3.06569008\n   2.00850246   0.12942736   3.05459669   0.61460434   0.4686989\n   1.08070942   0.33605857   1.84754269   1.82648883   1.3090864\n   0.24427884   1.3497824    1.29815654   1.13623996   7.95389282\n   0.04528898   1.15821082   0.59889483   1.89052822   1.92866506\n   2.53539868   0.16515169   2.39401682   2.01308964   0.53399035\n   1.11954693   0.7650861    1.05636119   0.23467754   1.12939746\n   0.93442717   0.96039884   1.30375817   0.47494912   0.35399288\n   2.21481102   1.39743827   4.93540303   0.84951927   0.98793707\n   0.30804516   1.39058479   0.76914053   0.64862759   0.38079946\n   2.13646239   1.12478712   0.61566049   0.80340731   2.74707502].\nReshape your data either using array.reshape(-1, 1) if your data has a single feature or array.reshape(1, -1) if it contains a single sample."
     ]
    }
   ],
   "source": [
    "MinMaxScaler().fit_transform(data)"
   ]
  },
  {
   "cell_type": "code",
   "execution_count": 72,
   "metadata": {
    "ExecuteTime": {
     "end_time": "2018-03-15T14:06:29.955155Z",
     "start_time": "2018-03-15T14:06:29.857042Z"
    }
   },
   "outputs": [
    {
     "data": {
      "text/plain": [
       "array([[ 0.02941176],\n",
       "       [ 0.02941176],\n",
       "       [ 0.01960784],\n",
       "       [ 0.00980392],\n",
       "       [ 0.03921569],\n",
       "       [ 0.02941176],\n",
       "       [ 0.03921569],\n",
       "       [ 0.04901961],\n",
       "       [ 0.        ],\n",
       "       [ 0.05882353],\n",
       "       [ 1.        ]])"
      ]
     },
     "execution_count": 72,
     "metadata": {},
     "output_type": "execute_result"
    }
   ],
   "source": [
    "(data - data.min()) / (data.max() - data.min())"
   ]
  },
  {
   "cell_type": "markdown",
   "metadata": {},
   "source": [
    "StandardScaling and MinMax Scaling have similar applications and are often more or less interchangeable. However, if the algorithm involves the calculation of distances between points or vectors, the default choice is StandardScaling. But MinMax Scaling is useful for visualization by bringing features within the interval (0, 255).\n",
    "\n",
    "If we assume that some data is not normally distributed but is described by the [log-normal distribution](https://en.wikipedia.org/wiki/Log-normal_distribution), it can easily be transformed to a normal distribution:"
   ]
  },
  {
   "cell_type": "code",
   "execution_count": 73,
   "metadata": {
    "ExecuteTime": {
     "end_time": "2018-03-15T14:06:30.067680Z",
     "start_time": "2018-03-15T14:06:29.957011Z"
    }
   },
   "outputs": [
    {
     "data": {
      "text/plain": [
       "(0.6430832743644714, 2.5143498345380193e-41)"
      ]
     },
     "execution_count": 73,
     "metadata": {},
     "output_type": "execute_result"
    }
   ],
   "source": [
    "from scipy.stats import lognorm\n",
    "\n",
    "data = lognorm(s=1).rvs(1000)\n",
    "shapiro(data)"
   ]
  },
  {
   "cell_type": "code",
   "execution_count": 76,
   "metadata": {},
   "outputs": [
    {
     "data": {
      "text/plain": [
       "array([  2.58789394,   0.20140037,   0.55356878,   1.51390002,\n",
       "         2.55922807,   1.20936016,   0.39961633,   0.48818408,\n",
       "         0.43794207,   1.88965793,   0.64731034,   1.01638686,\n",
       "         1.68808205,   0.38110312,   0.31844678,   3.51238445,\n",
       "         0.15357974,   0.95599045,   5.05480696,   0.23547589,\n",
       "         0.92240224,   2.51959831,   4.19972244,   0.6167542 ,\n",
       "         2.81517233,   0.0637475 ,   1.21802116,   1.23606251,\n",
       "         1.30689578,   0.77066838,   0.8651784 ,   4.08617162,\n",
       "         1.06950438,   1.84397105,   2.08280708,   0.6223739 ,\n",
       "         1.26911393,   0.69866421,   2.17701388,   2.16719538,\n",
       "         2.69852763,   1.55951742,   1.29167426,   1.38435613,\n",
       "         5.08324676,   2.27689627,   1.12098771,   0.73088314,\n",
       "         1.58517247,   0.13804551,   2.99381572,   1.27390006,\n",
       "         5.22505902,   0.28107427,   0.48390931,   1.95078409,\n",
       "         1.44499231,   0.2062888 ,   0.26244727,   0.63092269,\n",
       "         2.92516043,   0.5565309 ,   1.05357218,   2.16556972,\n",
       "         1.28588235,   0.15168452,   1.5492804 ,   0.38064221,\n",
       "         1.53747942,   0.74831961,   0.864102  ,   0.34570735,\n",
       "         0.66366169,   0.65256748,   1.69023687,   4.15087742,\n",
       "         6.50376507,   1.40854598,   0.89164461,   0.95794856,\n",
       "         1.11910945,   0.51567272,   1.58815853,   1.03456491,\n",
       "         0.86551863,   0.56196883,   1.55973335,   0.81951026,\n",
       "         0.58294815,   1.29608062,  16.60729032,   0.73004902,\n",
       "         0.35658438,   0.44365767,   0.57503976,   0.73183627,\n",
       "         2.72152375,   0.16304558,   1.8442656 ,   0.86357041,\n",
       "         1.60065252,   5.84338744,   0.391954  ,   0.78162523,\n",
       "         3.20223243,   0.90683485,   0.52727542,   2.19906274,\n",
       "         1.36626068,   1.58496551,   0.13790678,   1.63859259,\n",
       "         0.76329734,   2.58436672,   0.54400844,   5.102586  ,\n",
       "         5.04930153,   1.53415829,   0.70822174,   1.30541824,\n",
       "         0.68931102,   1.06350907,   0.53985408,   0.8608931 ,\n",
       "         4.86509339,   9.46849425,   1.88100714,   1.77310495,\n",
       "         1.89323281,   0.2985907 ,   8.0448271 ,   0.12112198,\n",
       "         1.06834248,   0.04562355,   7.75243998,   0.37439861,\n",
       "         0.32386904,   0.41552059,   0.43425035,   0.69840813,\n",
       "         5.23802524,   0.71724738,   1.01977344,   0.85267578,\n",
       "         0.53942533,   1.60185275,   2.25345271,   1.07336694,\n",
       "         1.03445742,   0.31958555,   0.45974754,   0.37601611,\n",
       "         1.16718715,   0.1470965 ,   5.48352255,   2.72804276,\n",
       "         0.41444518,   1.79911435,   0.15431731,   1.49576012,\n",
       "         2.16175652,   0.32340581,   1.33883346,   1.38175045,\n",
       "         1.55516593,   0.48483265,   1.04880306,   0.72479637,\n",
       "         0.32924895,   0.60551049,   1.5756681 ,   4.30794955,\n",
       "         3.82079099,   0.41331963,   1.14705315,   5.27562062,\n",
       "         2.70261368,   0.86899888,   0.73311662,   0.58210253,\n",
       "         0.26492591,   0.20806627,   2.03390417,   2.87029323,\n",
       "         0.17978431,   0.99668671,   0.33985766,   1.06817166,\n",
       "         1.73131077,   1.81101568,   0.87895015,   0.55918208,\n",
       "         1.52618586,   1.82706815,   0.28935613,   2.45561528,\n",
       "         0.83951254,   1.18872598,   1.47449191,   0.38297624,\n",
       "         2.1472051 ,   0.48988717,   0.70091416,   0.72246947,\n",
       "         0.14923807,   0.37826518,   2.30236629,   1.18847352,\n",
       "         4.22244616,   2.55719837,   0.8125967 ,   0.36578829,\n",
       "         2.0868156 ,   2.13055534,   0.55819201,   1.41103207,\n",
       "         2.37297715,   0.4384191 ,   1.50723967,   5.12138246,\n",
       "         0.34448535,   6.81349512,   3.32813195,   4.96215841,\n",
       "         5.05069937,   1.34616978,   0.61434278,   1.12388565,\n",
       "         0.57768969,   2.37825701,   9.12997277,   0.67469823,\n",
       "         0.89182511,   0.13806382,   6.44162006,   1.1144617 ,\n",
       "         0.40980493,   0.50765729,   1.46000262,   0.48600747,\n",
       "         0.83586993,   1.21514971,   0.40118182,   0.66869216,\n",
       "         0.15081544,   1.92746276,   1.89525027,   4.2364851 ,\n",
       "         0.72763837,   1.43779754,   1.39305608,   0.83615091,\n",
       "         2.70582408,   4.94934889,   2.02602095,   0.71867066,\n",
       "         1.70926476,   0.39461585,   0.42197296,   2.66765026,\n",
       "         0.57806307,   1.75908683,   0.74135089,   0.97385268,\n",
       "         0.28341452,   2.11286395,   1.14641412,   0.77498917,\n",
       "         0.21439251,   1.06893486,   0.52241024,   2.69185751,\n",
       "         0.24515425,   1.02837593,   0.93614224,   0.36597363,\n",
       "         0.37592186,   1.80817973,   2.45099205,   0.14696563,\n",
       "         1.00333829,   0.51485634,   2.05898747,   0.44257704,\n",
       "         0.52838739,   0.86566073,   9.1893536 ,   5.68731545,\n",
       "         0.78726577,   4.66762422,   0.20457944,   1.02522424,\n",
       "         0.19541008,   0.61351418,   2.38736655,   5.33567037,\n",
       "         0.35574259,   0.28725544,   1.50475014,   2.84047465,\n",
       "        11.14909485,   0.37408253,   0.93993899,   0.84428649,\n",
       "         0.34644774,   1.27392701,   0.52680988,   1.86476703,\n",
       "         1.23479178,   1.24649713,   0.7935796 ,   2.55096495,\n",
       "         4.24258727,   0.4385068 ,   0.60965999,   0.2990796 ,\n",
       "         3.97947558,   0.16363248,   3.16412646,   1.69031438,\n",
       "         1.26340451,   0.4073965 ,   0.79647729,   3.45974398,\n",
       "         0.41062631,   1.86657791,   1.05160968,   0.55192717,\n",
       "         0.82194453,   0.31469172,   0.65699952,   0.56103741,\n",
       "         1.48426568,   7.51374474,   1.99283617,   7.04651079,\n",
       "         0.40645062,   2.44513436,   0.58515397,   0.2714397 ,\n",
       "         3.27489567,   8.2099747 ,   0.82072841,   0.84002698,\n",
       "         0.17707444,   0.62115647,   3.35130831,   0.62490176,\n",
       "         1.64341835,   0.15731641,   0.65666374,   0.16930404,\n",
       "         1.23627175,   0.46486245,   1.73212222,   1.14385165,\n",
       "         7.01583715,   1.67619416,   0.73706611,   0.34721675,\n",
       "         2.66055238,   0.78716332,   2.61067714,   2.30898944,\n",
       "         1.45684881,   1.73630757,   5.91593861,   0.11749427,\n",
       "         1.08757304,   0.33349331,   1.87188768,   2.09480036,\n",
       "         5.88195668,   0.45279111,   0.27175478,   1.28160311,\n",
       "         0.39607604,   1.66622383,   1.92714846,   0.54362322,\n",
       "         0.92601344,   0.19716241,   3.64583699,   1.12016796,\n",
       "         0.83465092,   0.68901046,   4.38550364,   1.29262872,\n",
       "         6.12057663,   0.99097579,   0.52776282,   3.19947953,\n",
       "         0.30383051,   1.45131153,   0.28776072,   0.49135081,\n",
       "         0.45317332,   0.43301531,   3.42937142,   1.30639403,\n",
       "         0.81907866,   3.93592909,   0.06778023,   9.24141532,\n",
       "         0.69750227,   1.68793103,   2.30954315,   5.16715238,\n",
       "         2.33134132,   1.41793605,   1.27885137,   2.75204061,\n",
       "         1.73681633,   0.55407314,   0.54359324,   1.15082738,\n",
       "         0.16502569,   2.67702228,   1.28821458,   0.39175631,\n",
       "         2.93450827,   8.35575955,   2.0069849 ,   3.01670977,\n",
       "         0.85829722,   5.06476556,   0.3457671 ,   1.43955186,\n",
       "         4.96889815,   0.76176647,   1.88910997,   0.54140116,\n",
       "         0.3294975 ,   0.37402687,   1.85875171,   0.31078539,\n",
       "         1.12520804,   1.0770855 ,   1.9212537 ,   0.82511844,\n",
       "         0.46482691,   2.93494423,   2.74627594,   0.39547469,\n",
       "         3.37741433,   1.50785361,   2.07161447,   0.77732582,\n",
       "         0.30138705,   0.13152653,   0.52748626,   2.84980729,\n",
       "         1.27412794,   0.60357387,   1.21406375,   0.42615259,\n",
       "         0.99194346,   1.19485702,   5.98400603,   1.13856087,\n",
       "         3.20028386,   0.18470079,   0.34586832,   3.49104396,\n",
       "         1.52229235,   0.88806109,   0.30982934,   0.98171495,\n",
       "         0.80726508,  11.26524972,   2.51634089,   1.36442876,\n",
       "         0.52473079,   1.01461586,   1.49181032,   0.35950448,\n",
       "         0.32605148,   0.38861455,   0.24932093,   1.27615479,\n",
       "         0.94158179,   0.58330225,   0.4307988 ,   0.59222056,\n",
       "         0.2951804 ,   2.75405797,   2.39197627,   0.66949835,\n",
       "         3.25111459,   2.33807122,   0.16195284,   2.51721817,\n",
       "         1.57996946,   2.26183132,   0.32779505,   0.53211239,\n",
       "         0.14640909,   0.67696223,   0.29812842,   0.8778496 ,\n",
       "         0.17798694,   2.68401872,   5.20585057,   1.00091747,\n",
       "         0.41200845,   0.7935535 ,   2.20814347,   1.43215755,\n",
       "         5.04180931,   0.53730073,   1.39799404,   0.46399927,\n",
       "         1.07429135,   0.24070933,   0.19378076,   0.62109419,\n",
       "         0.15196261,   0.53179855,   1.15979778,   0.74490832,\n",
       "         0.89705537,   0.1637063 ,   1.54645171,   1.5398066 ,\n",
       "         0.33898682,   1.22298334,   2.27824277,   0.73102687,\n",
       "         0.13007258,   4.72333095,   0.63185273,   0.17230461,\n",
       "         1.48605652,   1.46015823,   0.31591806,   0.42899873,\n",
       "         8.67375062,   2.88384544,   0.85475263,   0.44780448,\n",
       "         0.98647744,   0.41467032,   1.00291745,   2.44620695,\n",
       "         2.73648326,   2.81675716,   5.69486691,   0.09942439,\n",
       "         5.75163613,   0.2212929 ,   0.93939598,   0.86019998,\n",
       "         2.84076768,   1.29875545,   2.59359237,   3.57029365,\n",
       "         1.68731055,   1.037352  ,   0.65300895,   2.1219217 ,\n",
       "         9.79649945,   0.14319859,   7.13040323,   4.53984286,\n",
       "        13.94822768,   1.9214901 ,   1.82251871,   7.32149562,\n",
       "         1.04200388,   1.82444315,   0.75806182,   1.92659788,\n",
       "         0.8447269 ,   0.60974817,   0.06315165,   3.50879034,\n",
       "         1.60437904,   1.35574341,   9.97719549,   0.62049633,\n",
       "         0.70594515,   1.0657646 ,   1.27930102,   1.32958   ,\n",
       "         0.55965418,   1.38853752,   4.67981409,   0.69368613,\n",
       "         2.21847287,   2.03672456,   0.0899098 ,   1.76531525,\n",
       "         1.14762696,   0.45971187,   0.4162059 ,   0.69922367,\n",
       "         6.82688463,  13.57227651,   0.34704367,   0.80298933,\n",
       "         0.53887594,   1.68013137,   2.07646663,   0.30132351,\n",
       "         4.22547802,   2.53397147,   0.44697305,   0.75308408,\n",
       "         0.62091599,   0.38005259,   0.2579194 ,   0.78847548,\n",
       "         0.73635407,   0.54535034,   0.23944245,   0.56244685,\n",
       "         1.23584967,   3.20973166,   0.36021045,   0.23572224,\n",
       "         2.30292289,   0.39050369,   4.70942106,   0.51332617,\n",
       "         1.58068999,   0.53299483,   0.35151147,   1.05815999,\n",
       "         1.03107618,   0.78366945,   1.02653313,   2.28452106,\n",
       "         1.75660639,   0.9428456 ,   6.10157489,   0.48856415,\n",
       "         1.06921828,   1.15161813,   2.46725793,   1.12612127,\n",
       "         0.83317148,   0.05350412,   0.38178771,   2.8901492 ,\n",
       "         4.18545141,   0.25409707,   1.27281345,   0.71573596,\n",
       "         1.30236559,   0.53400919,   0.70334842,   1.55485873,\n",
       "         0.93015707,   2.19769002,   0.7882207 ,   0.58056617,\n",
       "         4.00388916,   3.0545612 ,   0.73587854,  24.88408037,\n",
       "         0.98805679,   0.62285174,   1.34519355,   1.30262871,\n",
       "         1.24834398,   1.66370661,   0.3715346 ,   0.80251963,\n",
       "         1.90677061,   1.65284036,   0.65528182,   0.47464398,\n",
       "         4.03397315,   0.24816996,   0.42061473,   0.53598204,\n",
       "         1.04209163,   1.4681573 ,   8.04636465,   0.12796704,\n",
       "         0.42488138,   0.77258467,   0.4560669 ,   2.49173576,\n",
       "         1.42502968,   0.22995312,   0.21852333,   1.8402082 ,\n",
       "         1.15325909,   2.56229475,   1.00472703,   1.1555205 ,\n",
       "         5.212505  ,   0.92708468,   2.05835918,   0.28073265,\n",
       "         0.83692175,   2.49877249,   4.99985314,   0.78186493,\n",
       "         1.12151414,   5.62788289,   4.87778904,   1.02792126,\n",
       "         3.40068347,   5.95145042,   1.25734282,   1.3821593 ,\n",
       "         1.54082753,   0.06197741,   0.30415076,   0.20169528,\n",
       "         0.88430955,   0.73976861,   0.4740544 ,   1.81433565,\n",
       "         0.24309256,   1.68582575,   3.14986582,   0.50622149,\n",
       "         0.42327082,   4.00686676,   1.87683181,   2.5316658 ,\n",
       "         0.8781392 ,   1.14273976,   0.84666298,   0.41185657,\n",
       "         3.86389681,   3.61539823,   3.22951132,   1.06743109,\n",
       "         1.20550146,   0.46232303,  12.41075357,   0.17907704,\n",
       "         1.3418829 ,   3.2014402 ,   0.36679839,   0.40115238,\n",
       "         7.07371875,   2.35913748,   0.30998707,   0.3264285 ,\n",
       "         0.59398925,   1.09283534,   0.31592721,   1.05071227,\n",
       "         0.56549153,   1.90296502,   5.92206053,   1.29925578,\n",
       "         0.22455077,   1.22768858,   2.10614933,  10.08851782,\n",
       "         1.88261905,   0.50169378,   0.80440197,   1.68596754,\n",
       "         1.35010917,   2.25573316,   0.33103296,   2.49553998,\n",
       "         1.34270944,   2.8657243 ,   2.80293941,   2.02683205,\n",
       "         1.90402273,   1.31914464,   1.17481186,   1.75242983,\n",
       "         1.01185067,   1.4135332 ,   1.0826946 ,   0.19508572,\n",
       "         0.88107346,   1.30463657,   0.48219829,   1.43272682,\n",
       "         0.59581251,   0.74462141,   1.6187802 ,   0.37943987,\n",
       "         1.52074824,   0.40800283,   7.18178818,   0.92924853,\n",
       "         1.05342786,   0.59846412,   8.13701552,   0.47921889,\n",
       "         4.82351891,   0.31177465,   2.36410916,   0.75462396,\n",
       "         1.18278539,   0.08951037,   0.57426612,   0.5085317 ,\n",
       "         0.46087057,   0.38801779,   0.90664221,   0.77064288,\n",
       "         0.51063339,   2.40648751,   0.40889381,   0.50683091,\n",
       "         0.7111403 ,   0.24820389,   1.21041898,   5.00452182,\n",
       "         1.13831196,   0.7249399 ,   2.61422179,   0.58841251,\n",
       "         0.5079496 ,   3.76986178,   1.2082875 ,   0.3590098 ,\n",
       "         0.78552724,   0.66828467,   1.11102364,   0.39144405,\n",
       "         0.95189374,   0.19456791,   0.27993331,   0.07315653,\n",
       "         1.40168597,   0.2540502 ,   0.48376405,   0.61656551,\n",
       "         0.82109171,   1.70284866,   0.72864536,   0.93866483,\n",
       "         0.8414413 ,   1.07083407,   1.95813962,   1.95535815,\n",
       "         1.64691382,   0.7067437 ,   0.97987368,   0.60444075,\n",
       "         0.63563343,   5.02877238,   0.83658052,   2.00980526,\n",
       "         1.14980144,   0.87009107,   0.28498759,   0.42042023,\n",
       "         0.33920856,   0.65300481,   0.19182359,   1.67153384,\n",
       "         0.75998418,   2.04838562,   0.55964557,   0.02902486,\n",
       "         1.06147332,   0.9270597 ,   0.17334821,   1.18946294,\n",
       "         1.39632864,   3.13657784,   0.5618797 ,   0.41289031,\n",
       "         2.18147543,   3.03927302,   0.55136794,   2.74246205,\n",
       "         1.31655259,   0.51076251,   1.98250906,   0.6453426 ,\n",
       "         0.85992762,   1.33874955,   1.38156042,   4.92473458,\n",
       "         1.15989757,   0.40543787,   0.46555504,   0.92856898,\n",
       "         1.15215553,   1.00029261,   6.15333966,   1.54496487,\n",
       "         2.95634399,   5.04918714,   0.29369666,   0.25898107,\n",
       "         0.25756599,   1.08099498,   0.44556307,   1.470255  ,\n",
       "         0.69199611,   3.9249867 ,   0.51984147,   2.47007866,\n",
       "         0.55398166,   1.73303004,   0.41481276,   0.97237463,\n",
       "         1.02658266,   0.84297091,   0.40334963,   8.63862619,\n",
       "         1.18571505,   1.22088596,   5.72395621,   1.15252529,\n",
       "         1.67651165,   0.85733439,   1.6411548 ,   0.52715181,\n",
       "         1.21906804,   0.71568891,   0.87463511,   0.87238893,\n",
       "         1.61173409,   0.77501859,   0.66439135,   1.66342097,\n",
       "         0.69680131,   0.31219686,   1.18717205,   2.34042507,\n",
       "         3.67602713,   0.05492982,   2.33273416,   1.793065  ,\n",
       "         0.71316218,   0.48053817,   0.46203721,   0.53746993,\n",
       "         1.25484758,   0.32610264,   0.55268107,   0.27260101,\n",
       "         1.00239226,   0.5649664 ,   3.66999362,   0.45584903,\n",
       "         0.55406518,   0.52231715,   1.93156233,  10.07001187,\n",
       "         4.61973525,   3.06569008,   2.00850246,   0.12942736,\n",
       "         3.05459669,   0.61460434,   0.4686989 ,   1.08070942,\n",
       "         0.33605857,   1.84754269,   1.82648883,   1.3090864 ,\n",
       "         0.24427884,   1.3497824 ,   1.29815654,   1.13623996,\n",
       "         7.95389282,   0.04528898,   1.15821082,   0.59889483,\n",
       "         1.89052822,   1.92866506,   2.53539868,   0.16515169,\n",
       "         2.39401682,   2.01308964,   0.53399035,   1.11954693,\n",
       "         0.7650861 ,   1.05636119,   0.23467754,   1.12939746,\n",
       "         0.93442717,   0.96039884,   1.30375817,   0.47494912,\n",
       "         0.35399288,   2.21481102,   1.39743827,   4.93540303,\n",
       "         0.84951927,   0.98793707,   0.30804516,   1.39058479,\n",
       "         0.76914053,   0.64862759,   0.38079946,   2.13646239,\n",
       "         1.12478712,   0.61566049,   0.80340731,   2.74707502])"
      ]
     },
     "execution_count": 76,
     "metadata": {},
     "output_type": "execute_result"
    }
   ],
   "source": [
    "data"
   ]
  },
  {
   "cell_type": "code",
   "execution_count": 77,
   "metadata": {},
   "outputs": [
    {
     "data": {
      "text/plain": [
       "array([  9.50844393e-01,  -1.60246045e+00,  -5.91369272e-01,\n",
       "         4.14689117e-01,   9.39705677e-01,   1.90091424e-01,\n",
       "        -9.17250359e-01,  -7.17062724e-01,  -8.25668638e-01,\n",
       "         6.36395823e-01,  -4.34929441e-01,   1.62540486e-02,\n",
       "         5.23593004e-01,  -9.64685289e-01,  -1.14429992e+00,\n",
       "         1.25629514e+00,  -1.87353535e+00,  -4.50073510e-02,\n",
       "         1.62033966e+00,  -1.44614676e+00,  -8.07738805e-02,\n",
       "         9.24099486e-01,   1.43501844e+00,  -4.83284719e-01,\n",
       "         1.03502348e+00,  -2.75282534e+00,   1.97227541e-01,\n",
       "         2.11930929e-01,   2.67654688e-01,  -2.60497113e-01,\n",
       "        -1.44819550e-01,   1.40760850e+00,   6.71953485e-02,\n",
       "         6.11921426e-01,   7.33716543e-01,  -4.74214245e-01,\n",
       "         2.38318968e-01,  -3.58585039e-01,   7.77954157e-01,\n",
       "         7.73433881e-01,   9.92706301e-01,   4.44376424e-01,\n",
       "         2.55939249e-01,   3.25235140e-01,   1.62595018e+00,\n",
       "         8.22813228e-01,   1.14210180e-01,  -3.13501698e-01,\n",
       "         4.60693215e-01,  -1.98017190e+00,   1.09654873e+00,\n",
       "         2.42083111e-01,   1.65346609e+00,  -1.26913633e+00,\n",
       "        -7.25857771e-01,   6.68231390e-01,   3.68104003e-01,\n",
       "        -1.57847817e+00,  -1.33770509e+00,  -4.60571939e-01,\n",
       "         1.07334933e+00,  -5.86032575e-01,   5.21864625e-02,\n",
       "         7.72683475e-01,   2.51445138e-01,  -1.88595244e+00,\n",
       "         4.37790562e-01,  -9.65895426e-01,   4.30144338e-01,\n",
       "        -2.89925110e-01,  -1.46064460e-01,  -1.06216268e+00,\n",
       "        -4.09982760e-01,  -4.26840735e-01,   5.24868677e-01,\n",
       "         1.42331974e+00,   1.87238125e+00,   3.42557951e-01,\n",
       "        -1.14687649e-01,  -4.29612021e-02,   1.12533235e-01,\n",
       "        -6.62282977e-01,   4.62575187e-01,   3.39809593e-02,\n",
       "        -1.44426383e-01,  -5.76308893e-01,   4.44514877e-01,\n",
       "        -1.99048358e-01,  -5.39657040e-01,   2.59344805e-01,\n",
       "         2.80984177e+00,  -3.14643593e-01,  -1.03118437e+00,\n",
       "        -8.12702033e-01,  -5.53316087e-01,  -3.12198466e-01,\n",
       "         1.00119192e+00,  -1.81372547e+00,   6.12081147e-01,\n",
       "        -1.46679847e-01,   4.70411370e-01,   1.76531067e+00,\n",
       "        -9.36610781e-01,  -2.46379901e-01,   1.16384820e+00,\n",
       "        -9.77949295e-02,  -6.40032239e-01,   7.88031242e-01,\n",
       "         3.12077575e-01,   4.60562647e-01,  -1.98117731e+00,\n",
       "         4.93837696e-01,  -2.70107631e-01,   9.49480495e-01,\n",
       "        -6.08790523e-01,   1.62974747e+00,   1.61924992e+00,\n",
       "         4.27981886e-01,  -3.44998045e-01,   2.66523483e-01,\n",
       "        -3.72062706e-01,   6.15738879e-02,  -6.16456401e-01,\n",
       "        -1.49784944e-01,   1.58208591e+00,   2.24796989e+00,\n",
       "         6.31807344e-01,   5.72732220e-01,   6.38285847e-01,\n",
       "        -1.20868153e+00,   2.08502929e+00,  -2.11095711e+00,\n",
       "         6.61083678e-02,  -3.08733124e+00,   2.04800763e+00,\n",
       "        -9.82434234e-01,  -1.12741604e+00,  -8.78223109e-01,\n",
       "        -8.34134058e-01,  -3.58951639e-01,   1.65594456e+00,\n",
       "        -3.32334470e-01,   1.95804826e-02,  -1.59375900e-01,\n",
       "        -6.17250901e-01,   4.71160929e-01,   8.12463577e-01,\n",
       "         7.08003781e-02,   3.38770616e-02,  -1.14073027e+00,\n",
       "        -7.77077769e-01,  -9.78123286e-01,   1.54596713e-01,\n",
       "        -1.91666642e+00,   1.70174769e+00,   1.00358441e+00,\n",
       "        -8.80814559e-01,   5.87294519e-01,  -1.86874437e+00,\n",
       "         4.02634522e-01,   7.70921095e-01,  -1.12884737e+00,\n",
       "         2.91798682e-01,   3.23351139e-01,   4.41582247e-01,\n",
       "        -7.23951499e-01,   4.76495711e-02,  -3.21864530e-01,\n",
       "        -1.11094114e+00,  -5.01683395e-01,   4.54679370e-01,\n",
       "         1.46046205e+00,   1.34045747e+00,  -8.83534071e-01,\n",
       "         1.37196176e-01,   1.66309632e+00,   9.94219335e-01,\n",
       "        -1.40413441e-01,  -3.10450495e-01,  -5.41108671e-01,\n",
       "        -1.32830509e+00,  -1.56989865e+00,   7.09957184e-01,\n",
       "         1.05441420e+00,  -1.71599742e+00,  -3.31879363e-03,\n",
       "        -1.07922839e+00,   6.59484544e-02,   5.48878795e-01,\n",
       "         5.93887837e-01,  -1.29027095e-01,  -5.81280133e-01,\n",
       "         4.22771722e-01,   6.02712579e-01,  -1.24009707e+00,\n",
       "         8.98377354e-01,  -1.74933863e-01,   1.72882132e-01,\n",
       "         3.88313459e-01,  -9.59782326e-01,   7.64167045e-01,\n",
       "        -7.13580183e-01,  -3.55369858e-01,  -3.25080118e-01,\n",
       "        -1.90221249e+00,  -9.72159784e-01,   8.33937416e-01,\n",
       "         1.72669731e-01,   1.44041462e+00,   9.38912271e-01,\n",
       "        -2.07520358e-01,  -1.00570056e+00,   7.35639270e-01,\n",
       "         7.56382671e-01,  -5.83052272e-01,   3.44321399e-01,\n",
       "         8.64145347e-01,  -8.24579970e-01,   4.10279942e-01,\n",
       "         1.63342441e+00,  -1.06570371e+00,   1.91890522e+00,\n",
       "         1.20241117e+00,   1.60184081e+00,   1.61952672e+00,\n",
       "         2.97263361e-01,  -4.87202238e-01,   1.16792012e-01,\n",
       "        -5.48718422e-01,   8.66367870e-01,   2.21156271e+00,\n",
       "        -3.93489758e-01,  -1.14485229e-01,  -1.98003926e+00,\n",
       "         1.86278007e+00,   1.08371511e-01,  -8.92074001e-01,\n",
       "        -6.77948676e-01,   3.78438232e-01,  -7.21531289e-01,\n",
       "        -1.79282260e-01,   1.94867291e-01,  -9.13340532e-01,\n",
       "        -4.02431469e-01,  -1.89169846e+00,   6.56204506e-01,\n",
       "         6.39350896e-01,   1.44373394e+00,  -3.17951102e-01,\n",
       "         3.63112457e-01,   3.31499955e-01,  -1.78946165e-01,\n",
       "         9.95406516e-01,   1.59925603e+00,   7.06073745e-01,\n",
       "        -3.30352075e-01,   5.36063313e-01,  -9.29842531e-01,\n",
       "        -8.62814044e-01,   9.81198031e-01,  -5.48072305e-01,\n",
       "         5.64794830e-01,  -2.99281230e-01,  -2.64952383e-02,\n",
       "        -1.26084472e+00,   7.48044350e-01,   1.36638911e-01,\n",
       "        -2.54906228e-01,  -1.53994677e+00,   6.66626976e-02,\n",
       "        -6.49302093e-01,   9.90231478e-01,  -1.40586767e+00,\n",
       "         2.79807913e-02,  -6.59878451e-02,  -1.00519398e+00,\n",
       "        -9.78373989e-01,   5.92320666e-01,   8.96492862e-01,\n",
       "        -1.91755654e+00,   3.33272981e-03,  -6.63867360e-01,\n",
       "         7.22214344e-01,  -8.15140735e-01,  -6.37925572e-01,\n",
       "        -1.44262219e-01,   2.21804560e+00,   1.73823834e+00,\n",
       "        -2.39189391e-01,   1.54065021e+00,  -1.58679894e+00,\n",
       "         2.49113643e-02,  -1.63265496e+00,  -4.88551898e-01,\n",
       "         8.70190898e-01,   1.67441453e+00,  -1.03354788e+00,\n",
       "        -1.24738341e+00,   4.08626861e-01,   1.04397117e+00,\n",
       "         2.41135832e+00,  -9.83278831e-01,  -6.19403059e-02,\n",
       "        -1.69263401e-01,  -1.06002329e+00,   2.42104265e-01,\n",
       "        -6.40915557e-01,   6.23136126e-01,   2.10902354e-01,\n",
       "         2.20337323e-01,  -2.31201430e-01,   9.36471701e-01,\n",
       "         1.44517329e+00,  -8.24379963e-01,  -4.94853878e-01,\n",
       "        -1.20704552e+00,   1.38115005e+00,  -1.81013233e+00,\n",
       "         1.15187702e+00,   5.24914537e-01,   2.33810071e-01,\n",
       "        -8.97968356e-01,  -2.27556663e-01,   1.24119459e+00,\n",
       "        -8.90071697e-01,   6.24106760e-01,   5.03220153e-02,\n",
       "        -5.94339185e-01,  -1.96082370e-01,  -1.15616179e+00,\n",
       "        -4.20071991e-01,  -5.77967683e-01,   3.94920155e-01,\n",
       "         2.01673398e+00,   6.89558836e-01,   1.95253257e+00,\n",
       "        -9.00292845e-01,   8.94100073e-01,  -5.35880273e-01,\n",
       "        -1.30401528e+00,   1.18628601e+00,   2.10534984e+00,\n",
       "        -1.97563031e-01,  -1.74321274e-01,  -1.73118509e+00,\n",
       "        -4.76172258e-01,   1.20935081e+00,  -4.70160833e-01,\n",
       "         4.96778432e-01,  -1.84949617e+00,  -4.20583196e-01,\n",
       "        -1.77605913e+00,   2.12100199e-01,  -7.66013720e-01,\n",
       "         5.49347375e-01,   1.34401209e-01,   1.94817004e+00,\n",
       "         5.16525844e-01,  -3.05077688e-01,  -1.05780605e+00,\n",
       "         9.78533763e-01,  -2.39319529e-01,   9.59609628e-01,\n",
       "         8.36809955e-01,   3.76275753e-01,   5.51760773e-01,\n",
       "         1.77765017e+00,  -2.14136569e+00,   8.39486418e-02,\n",
       "        -1.09813247e+00,   6.26947378e-01,   7.39458254e-01,\n",
       "         1.77188948e+00,  -7.92324383e-01,  -1.30285516e+00,\n",
       "         2.48111728e-01,  -9.26149067e-01,   5.10559885e-01,\n",
       "         6.56041431e-01,  -6.09498882e-01,  -7.68665316e-02,\n",
       "        -1.62372747e+00,   1.29358597e+00,   1.13478641e-01,\n",
       "        -1.80741696e-01,  -3.72498819e-01,   1.47830447e+00,\n",
       "         2.56677914e-01,   1.81165631e+00,  -9.06517761e-03,\n",
       "        -6.39108294e-01,   1.16298815e+00,  -1.19128527e+00,\n",
       "         3.72467652e-01,  -1.24562598e+00,  -7.10596932e-01,\n",
       "        -7.91480612e-01,  -8.36982194e-01,   1.23237699e+00,\n",
       "         2.67270693e-01,  -1.99575151e-01,   1.37014696e+00,\n",
       "        -2.69148470e+00,   2.22369505e+00,  -3.60249514e-01,\n",
       "         5.23503537e-01,   8.37049735e-01,   1.64232174e+00,\n",
       "         8.46443778e-01,   3.49202326e-01,   2.45962311e-01,\n",
       "         1.01234267e+00,   5.52053739e-01,  -5.90458580e-01,\n",
       "        -6.09554026e-01,   1.40481140e-01,  -1.80165413e+00,\n",
       "         9.84705088e-01,   2.53257211e-01,  -9.37115300e-01,\n",
       "         1.07653990e+00,   2.12295107e+00,   6.96633544e-01,\n",
       "         1.10416676e+00,  -1.52804829e-01,   1.62230785e+00,\n",
       "        -1.06198986e+00,   3.64331860e-01,   1.60319812e+00,\n",
       "        -2.72115239e-01,   6.36105801e-01,  -6.13594760e-01,\n",
       "        -1.11018651e+00,  -9.83427640e-01,   6.19905140e-01,\n",
       "        -1.16865268e+00,   1.17967942e-01,   7.42587868e-02,\n",
       "         6.52977940e-01,  -1.92228344e-01,  -7.66090169e-01,\n",
       "         1.07668845e+00,   1.01024579e+00,  -9.27668489e-01,\n",
       "         1.21711043e+00,   4.10687187e-01,   7.28328240e-01,\n",
       "        -2.51895688e-01,  -1.19935994e+00,  -2.02854667e+00,\n",
       "        -6.39632461e-01,   1.04725138e+00,   2.42261979e-01,\n",
       "        -5.04886837e-01,   1.93973200e-01,  -8.52957806e-01,\n",
       "        -8.08916918e-03,   1.78026529e-01,   1.78909025e+00,\n",
       "         1.29765073e-01,   1.16323951e+00,  -1.68901814e+00,\n",
       "        -1.06169714e+00,   1.25020082e+00,   4.20217326e-01,\n",
       "        -1.18714738e-01,  -1.17173365e+00,  -1.84542879e-02,\n",
       "        -2.14103193e-01,   2.42172274e+00,   9.22805819e-01,\n",
       "         3.10735853e-01,  -6.44869936e-01,   1.45100776e-02,\n",
       "         3.99990363e-01,  -1.02302863e+00,  -1.12070001e+00,\n",
       "        -9.45167291e-01,  -1.38901435e+00,   2.43851488e-01,\n",
       "        -6.01940581e-02,  -5.39049782e-01,  -8.42114129e-01,\n",
       "        -5.23876140e-01,  -1.22016858e+00,   1.01307545e+00,\n",
       "         8.72119914e-01,  -4.01226572e-01,   1.17899789e+00,\n",
       "         8.49326325e-01,  -1.82045012e+00,   9.23154392e-01,\n",
       "         4.57405515e-01,   8.16174804e-01,  -1.11536672e+00,\n",
       "        -6.30900551e-01,  -1.92135056e+00,  -3.90139793e-01,\n",
       "        -1.21023096e+00,  -1.30279999e-01,  -1.72604512e+00,\n",
       "         9.87315195e-01,   1.64978310e+00,   9.17048338e-04,\n",
       "        -8.86711422e-01,  -2.31234316e-01,   7.92152103e-01,\n",
       "         3.59182083e-01,   1.61776501e+00,  -6.21197314e-01,\n",
       "         3.35038379e-01,  -7.67872310e-01,   7.16612312e-02,\n",
       "        -1.42416519e+00,  -1.64102785e+00,  -4.76272528e-01,\n",
       "        -1.88412077e+00,  -6.31490519e-01,   1.48245665e-01,\n",
       "        -2.94494132e-01,  -1.08637691e-01,  -1.80968133e+00,\n",
       "         4.35963086e-01,   4.31656825e-01,  -1.08179407e+00,\n",
       "         2.01293236e-01,   8.23404430e-01,  -3.13305056e-01,\n",
       "        -2.03966268e+00,   1.55251426e+00,  -4.59098926e-01,\n",
       "        -1.75849136e+00,   3.96125980e-01,   3.78544806e-01,\n",
       "        -1.15227241e+00,  -8.46301322e-01,   2.16030130e+00,\n",
       "         1.05912463e+00,  -1.56943171e-01,  -8.03398568e-01,\n",
       "        -1.36148210e-02,  -8.80271489e-01,   2.91320594e-03,\n",
       "         8.94538643e-01,   1.00667361e+00,   1.03558628e+00,\n",
       "         1.73956523e+00,  -2.30835784e+00,   1.74948436e+00,\n",
       "        -1.50826812e+00,  -6.25181866e-02,  -1.50590382e-01,\n",
       "         1.04407433e+00,   2.61406463e-01,   9.53043931e-01,\n",
       "         1.27264785e+00,   5.23135872e-01,   3.66713126e-02,\n",
       "        -4.26164444e-01,   7.52322140e-01,   2.28202512e+00,\n",
       "        -1.94352288e+00,   1.96436779e+00,   1.51289240e+00,\n",
       "         2.63535245e+00,   6.53100981e-01,   6.00219450e-01,\n",
       "         1.99081463e+00,   4.11456690e-02,   6.01274819e-01,\n",
       "        -2.76990342e-01,   6.55755693e-01,  -1.68741895e-01,\n",
       "        -4.94709238e-01,  -2.76221625e+00,   1.25527135e+00,\n",
       "         4.72736789e-01,   3.04349943e-01,   2.30030204e+00,\n",
       "        -4.77235581e-01,  -3.48217733e-01,   6.36924735e-02,\n",
       "         2.46313854e-01,   2.84863104e-01,  -5.80436223e-01,\n",
       "         3.28251047e-01,   1.54325838e+00,  -3.65735681e-01,\n",
       "         7.96819064e-01,   7.11342911e-01,  -2.40894829e+00,\n",
       "         5.68329286e-01,   1.37696300e-01,  -7.77155363e-01,\n",
       "        -8.76575189e-01,  -3.57784606e-01,   1.92086844e+00,\n",
       "         2.60802922e+00,  -1.05830466e+00,  -2.19413853e-01,\n",
       "        -6.18269901e-01,   5.18871984e-01,   7.30667714e-01,\n",
       "        -1.19957082e+00,   1.44113240e+00,   9.29787822e-01,\n",
       "        -8.05256987e-01,  -2.83578402e-01,  -4.76559480e-01,\n",
       "        -9.67445648e-01,  -1.35510813e+00,  -2.37653965e-01,\n",
       "        -3.06044198e-01,  -6.06326873e-01,  -1.42944219e+00,\n",
       "        -5.75458641e-01,   2.11758723e-01,   1.16618734e+00,\n",
       "        -1.02106682e+00,  -1.44510110e+00,   8.34179140e-01,\n",
       "        -9.40317853e-01,   1.54956498e+00,  -6.66843821e-01,\n",
       "         4.57861457e-01,  -6.29243561e-01,  -1.04551294e+00,\n",
       "         5.65315377e-02,   3.06030871e-02,  -2.43767966e-01,\n",
       "         2.61872288e-02,   8.26156401e-01,   5.63383761e-01,\n",
       "        -5.88527386e-02,   1.80854692e+00,  -7.16284501e-01,\n",
       "         6.69278063e-02,   1.41168024e-01,   9.03107383e-01,\n",
       "         1.18779226e-01,  -1.82515801e-01,  -2.92799658e+00,\n",
       "        -9.62890556e-01,   1.06130813e+00,   1.43161456e+00,\n",
       "        -1.37003892e+00,   2.41229769e-01,  -3.34443947e-01,\n",
       "         2.64182292e-01,  -6.27342238e-01,  -3.51902885e-01,\n",
       "         4.41384693e-01,  -7.24018189e-02,   7.87406819e-01,\n",
       "        -2.37977150e-01,  -5.43751504e-01,   1.38726618e+00,\n",
       "         1.11663595e+00,  -3.06690207e-01,   3.21422826e+00,\n",
       "        -1.20150985e-02,  -4.73446765e-01,   2.96537907e-01,\n",
       "         2.64384307e-01,   2.21817857e-01,   5.09048008e-01,\n",
       "        -9.90113297e-01,  -2.19998961e-01,   6.45411032e-01,\n",
       "         5.02495236e-01,  -4.22689881e-01,  -7.45190267e-01,\n",
       "         1.39475178e+00,  -1.39364143e+00,  -8.66038004e-01,\n",
       "        -6.23654617e-01,   4.12298805e-02,   3.84008079e-01,\n",
       "         2.08522039e+00,  -2.05598254e+00,  -8.55945264e-01,\n",
       "        -2.58013667e-01,  -7.85115772e-01,   9.12979562e-01,\n",
       "         3.54192644e-01,  -1.46987982e+00,  -1.52086252e+00,\n",
       "         6.09878716e-01,   1.42591924e-01,   9.40903244e-01,\n",
       "         4.71589262e-03,   1.44550894e-01,   1.65106055e+00,\n",
       "        -7.57103724e-02,   7.21909150e-01,  -1.27035250e+00,\n",
       "        -1.78024696e-01,   9.15799609e-01,   1.60940854e+00,\n",
       "        -2.46073277e-01,   1.14679685e-01,   1.72773333e+00,\n",
       "         1.58469205e+00,   2.75385674e-02,   1.22397643e+00,\n",
       "         1.78363496e+00,   2.29000625e-01,   3.23646986e-01,\n",
       "         4.32319628e-01,  -2.78098532e+00,  -1.19023179e+00,\n",
       "        -1.60099724e+00,  -1.22948109e-01,  -3.01417838e-01,\n",
       "        -7.46433193e-01,   5.95719369e-01,  -1.41431300e+00,\n",
       "         5.22255505e-01,   1.14735986e+00,  -6.80780977e-01,\n",
       "        -8.59743065e-01,   1.38800958e+00,   6.29585146e-01,\n",
       "         9.28877505e-01,  -1.29950160e-01,   1.33428678e-01,\n",
       "        -1.66452557e-01,  -8.87080131e-01,   1.35167621e+00,\n",
       "         1.28520201e+00,   1.17233083e+00,   6.52549078e-02,\n",
       "         1.86895631e-01,  -7.71491428e-01,   2.51856332e+00,\n",
       "        -1.71993918e+00,   2.94073775e-01,   1.16360077e+00,\n",
       "        -1.00294293e+00,  -9.13413929e-01,   1.95638633e+00,\n",
       "         8.58296079e-01,  -1.17122469e+00,  -1.11954435e+00,\n",
       "        -5.20894054e-01,   8.87755444e-02,  -1.15224345e+00,\n",
       "         4.94682858e-02,  -5.70059961e-01,   6.43413206e-01,\n",
       "         1.77868445e+00,   2.61791626e-01,  -1.49365346e+00,\n",
       "         2.05133202e-01,   7.44861319e-01,   2.31139793e+00,\n",
       "         6.32663918e-01,  -6.89765337e-01,  -2.17656173e-01,\n",
       "         5.22339606e-01,   3.00185457e-01,   8.13475047e-01,\n",
       "        -1.10553732e+00,   9.14505130e-01,   2.94689540e-01,\n",
       "         1.05282113e+00,   1.03066866e+00,   7.06474009e-01,\n",
       "         6.43968875e-01,   2.76983529e-01,   1.61108015e-01,\n",
       "         5.61003301e-01,   1.17810039e-02,   3.46092387e-01,\n",
       "         7.94529369e-02,  -1.63431621e+00,  -1.26614277e-01,\n",
       "         2.65924515e-01,  -7.29399870e-01,   3.59579499e-01,\n",
       "        -5.17829246e-01,  -2.94879362e-01,   4.81672903e-01,\n",
       "        -9.69059128e-01,   4.19202479e-01,  -8.96481163e-01,\n",
       "         1.97154840e+00,  -7.33790465e-02,   5.20494765e-02,\n",
       "        -5.13388708e-01,   2.09642347e+00,  -7.35597805e-01,\n",
       "         1.57350373e+00,  -1.16547462e+00,   8.60401273e-01,\n",
       "        -2.81535723e-01,   1.67872154e-01,  -2.41340078e+00,\n",
       "        -5.54662360e-01,  -6.76227725e-01,  -7.74638028e-01,\n",
       "        -9.46704089e-01,  -9.80073872e-02,  -2.60530203e-01,\n",
       "        -6.72103388e-01,   8.78168221e-01,  -8.94299792e-01,\n",
       "        -6.79577844e-01,  -3.40885540e-01,  -1.39350472e+00,\n",
       "         1.90966560e-01,   1.61034187e+00,   1.29546427e-01,\n",
       "        -3.21666518e-01,   9.60966459e-01,  -5.30327021e-01,\n",
       "        -6.77373053e-01,   1.32703834e+00,   1.89204067e-01,\n",
       "        -1.02440560e+00,  -2.41400141e-01,  -4.03041040e-01,\n",
       "         1.05281792e-01,  -9.37912698e-01,  -4.93018704e-02,\n",
       "        -1.63697402e+00,  -1.27320388e+00,  -2.61515385e+00,\n",
       "         3.37675778e-01,  -1.37022340e+00,  -7.26157989e-01,\n",
       "        -4.83590705e-01,  -1.97120469e-01,   5.32302529e-01,\n",
       "        -3.16568137e-01,  -6.32968097e-02,  -1.72639029e-01,\n",
       "         6.84378451e-02,   6.71994850e-01,   6.70573372e-01,\n",
       "         4.98903122e-01,  -3.47087191e-01,  -2.03316145e-02,\n",
       "        -5.03451637e-01,  -4.53133243e-01,   1.61517589e+00,\n",
       "        -1.78432501e-01,   6.98037833e-01,   1.39589263e-01,\n",
       "        -1.39157392e-01,  -1.25530966e+00,  -8.66500513e-01,\n",
       "        -1.08114014e+00,  -4.26170784e-01,  -1.65117913e+00,\n",
       "         5.13741673e-01,  -2.74457659e-01,   7.17051980e-01,\n",
       "        -5.80451607e-01,  -3.53960268e+00,   5.96578681e-02,\n",
       "        -7.57373109e-02,  -1.75245295e+00,   1.73501893e-01,\n",
       "         3.33846391e-01,   1.14313235e+00,  -5.76467512e-01,\n",
       "        -8.84573323e-01,   7.80001453e-01,   1.11161835e+00,\n",
       "        -5.95352932e-01,   1.00885608e+00,   2.75016646e-01,\n",
       "        -6.71850557e-01,   6.84363247e-01,  -4.37973936e-01,\n",
       "        -1.50907051e-01,   2.91736009e-01,   3.23213602e-01,\n",
       "         1.59427038e+00,   1.48331695e-01,  -9.02787633e-01,\n",
       "        -7.64524959e-01,  -7.41106133e-02,   1.41634559e-01,\n",
       "         2.92571262e-04,   1.81699497e+00,   4.35001171e-01,\n",
       "         1.08395337e+00,   1.61922727e+00,  -1.22520781e+00,\n",
       "        -1.35100033e+00,  -1.35647931e+00,   7.78818993e-02,\n",
       "        -8.08416479e-01,   3.85435853e-01,  -3.68174948e-01,\n",
       "         1.36736296e+00,  -6.54231385e-01,   9.04249994e-01,\n",
       "        -5.90623691e-01,   5.49871343e-01,  -8.79928051e-01,\n",
       "        -2.80141261e-02,   2.62354774e-02,  -1.70822831e-01,\n",
       "        -9.07951527e-01,   2.15624356e+00,   1.70346011e-01,\n",
       "         1.99576795e-01,   1.74466021e+00,   1.41955435e-01,\n",
       "         5.16715234e-01,  -1.53927254e-01,   4.95400142e-01,\n",
       "        -6.40266707e-01,   1.98086663e-01,  -3.34509689e-01,\n",
       "        -1.33948497e-01,  -1.36519931e-01,   4.77310674e-01,\n",
       "        -2.54868268e-01,  -4.08883916e-01,   5.08876307e-01,\n",
       "        -3.61254980e-01,  -1.16412133e+00,   1.71574047e-01,\n",
       "         8.50332566e-01,   1.30183258e+00,  -2.90169892e+00,\n",
       "         8.47041039e-01,   5.83926444e-01,  -3.38046417e-01,\n",
       "        -7.32848607e-01,  -7.72109844e-01,  -6.20882463e-01,\n",
       "         2.27014112e-01,  -1.12054311e+00,  -5.92974176e-01,\n",
       "        -1.29974604e+00,   2.38940158e-03,  -5.70989013e-01,\n",
       "         1.30018992e+00,  -7.85593603e-01,  -5.90472954e-01,\n",
       "        -6.49480308e-01,   6.58329174e-01,   2.30956189e+00,\n",
       "         1.53033740e+00,   1.12027269e+00,   6.97389397e-01,\n",
       "        -2.04463546e+00,   1.11664757e+00,  -4.86776563e-01,\n",
       "        -7.57794718e-01,   7.76176935e-02,  -1.09046981e+00,\n",
       "         6.13856481e-01,   6.02395450e-01,   2.69329493e-01,\n",
       "        -1.40944493e+00,   2.99943392e-01,   2.60945212e-01,\n",
       "         1.27724527e-01,   2.07366147e+00,  -3.09469151e+00,\n",
       "         1.46876419e-01,  -5.12669273e-01,   6.36856272e-01,\n",
       "         6.56828084e-01,   9.30350894e-01,  -1.80089092e+00,\n",
       "         8.72972634e-01,   6.99670677e-01,  -6.27377518e-01,\n",
       "         1.12924073e-01,  -2.67766904e-01,   5.48301661e-02,\n",
       "        -1.44954288e+00,   1.21684270e-01,  -6.78215951e-02,\n",
       "        -4.04066235e-02,   2.65250997e-01,  -7.44547601e-01,\n",
       "        -1.03847849e+00,   7.95167083e-01,   3.34640756e-01,\n",
       "         1.59643434e+00,  -1.63084659e-01,  -1.21362749e-02,\n",
       "        -1.17750889e+00,   3.29724373e-01,  -2.62481586e-01,\n",
       "        -4.32896546e-01,  -9.65482407e-01,   7.59151374e-01,\n",
       "         1.17593787e-01,  -4.85059617e-01,  -2.18893453e-01,\n",
       "         1.01053672e+00])"
      ]
     },
     "execution_count": 77,
     "metadata": {},
     "output_type": "execute_result"
    }
   ],
   "source": [
    "np.log(data)"
   ]
  },
  {
   "cell_type": "code",
   "execution_count": 78,
   "metadata": {
    "ExecuteTime": {
     "end_time": "2018-03-15T14:06:30.180348Z",
     "start_time": "2018-03-15T14:06:30.069180Z"
    }
   },
   "outputs": [
    {
     "data": {
      "text/plain": [
       "(0.9978976845741272, 0.24239830672740936)"
      ]
     },
     "execution_count": 78,
     "metadata": {},
     "output_type": "execute_result"
    }
   ],
   "source": [
    "shapiro(np.log(data))"
   ]
  },
  {
   "cell_type": "markdown",
   "metadata": {},
   "source": [
    "The lognormal distribution is suitable for describing salaries, price of securities, urban population, number of comments on articles on the internet, etc. However, to apply this procedure, the underlying distribution does not necessarily have to be lognormal; you can try to apply this transformation to any distribution with a heavy right tail. Furthermore, one can try to use other similar transformations, formulating their own hypotheses on how to approximate the available distribution to a normal. Examples of such transformations are [Box-Cox transformation](https://docs.scipy.org/doc/scipy/reference/generated/scipy.stats.boxcox.html) (logarithm is a special case of the Box-Cox transformation) or [Yeo-Johnson transformation](https://gist.github.com/mesgarpour/f24769cd186e2db853957b10ff6b7a95) (extends the range of applicability to negative numbers). In addition, you can also try adding a constant to the feature — `np.log (x + const)`.\n",
    "\n",
    "In the examples above, we have worked with synthetic data and strictly tested normality using the Shapiro-Wilk test. Let’s try to look at some real data and test for normality using a less formal method — [Q-Q plot](https://en.wikipedia.org/wiki/Q%E2%80%93Q_plot). For a normal distribution, it will look like a smooth diagonal line, and visual anomalies should be intuitively understandable.\n",
    "\n",
    "![image](../../img/qq_lognorm.png)\n",
    "Q-Q plot for lognormal distribution\n",
    "\n",
    "![image](../../img/qq_log.png)\n",
    "Q-Q plot for the same distribution after taking the logarithm"
   ]
  },
  {
   "cell_type": "code",
   "execution_count": 82,
   "metadata": {
    "ExecuteTime": {
     "end_time": "2018-03-15T14:06:31.801140Z",
     "start_time": "2018-03-15T14:06:30.182573Z"
    }
   },
   "outputs": [],
   "source": [
    "# Let's draw plots!\n",
    "import statsmodels.api as sm\n",
    "\n",
    "# Let's take the price feature from Renthop dataset and filter by hands the most extreme values for clarity\n",
    "\n",
    "price = df.price[(df.price <= 20000) & (df.price > 500)]\n",
    "price_log = np.log(price)\n",
    "\n",
    "# A lot of gestures so that sklearn didn't shower us with warnings\n",
    "price_mm = MinMaxScaler().fit_transform(price.values.reshape(-1, 1).astype(np.float64)).flatten()\n",
    "price_z = StandardScaler().fit_transform(price.values.reshape(-1, 1).astype(np.float64)).flatten()"
   ]
  },
  {
   "cell_type": "markdown",
   "metadata": {},
   "source": [
    "Q-Q plot of the initial feature"
   ]
  },
  {
   "cell_type": "code",
   "execution_count": 84,
   "metadata": {
    "ExecuteTime": {
     "end_time": "2018-03-15T14:06:32.717805Z",
     "start_time": "2018-03-15T14:06:31.802677Z"
    }
   },
   "outputs": [
    {
     "data": {
      "image/png": "[encoded data removed]",
      "text/plain": [
       "<matplotlib.figure.Figure at 0x2304148a978>"
      ]
     },
     "execution_count": 84,
     "metadata": {},
     "output_type": "execute_result"
    },
    {
     "data": {
      "image/png": "[encoded data removed]",
      "text/plain": [
       "<matplotlib.figure.Figure at 0x2304148a978>"
      ]
     },
     "metadata": {},
     "output_type": "display_data"
    }
   ],
   "source": [
    "sm.qqplot(price, loc=price.mean(), scale=price.std())"
   ]
  },
  {
   "cell_type": "markdown",
   "metadata": {},
   "source": [
    "Q-Q plot after StandardScaler. Shape doesn’t change"
   ]
  },
  {
   "cell_type": "code",
   "execution_count": 85,
   "metadata": {
    "ExecuteTime": {
     "end_time": "2018-03-15T14:06:32.987753Z",
     "start_time": "2018-03-15T14:06:32.719093Z"
    }
   },
   "outputs": [
    {
     "data": {
      "image/png": "[encoded data removed]",
      "text/plain": [
       "<matplotlib.figure.Figure at 0x230411ee160>"
      ]
     },
     "execution_count": 85,
     "metadata": {},
     "output_type": "execute_result"
    },
    {
     "data": {
      "image/png": "[encoded data removed]",
      "text/plain": [
       "<matplotlib.figure.Figure at 0x230411ee160>"
      ]
     },
     "metadata": {},
     "output_type": "display_data"
    }
   ],
   "source": [
    "sm.qqplot(price_z, loc=price_z.mean(), scale=price_z.std())"
   ]
  },
  {
   "cell_type": "markdown",
   "metadata": {},
   "source": [
    "Q-Q plot after MinMaxScaler. Shape doesn’t change"
   ]
  },
  {
   "cell_type": "code",
   "execution_count": 86,
   "metadata": {
    "ExecuteTime": {
     "end_time": "2018-03-15T14:06:33.243510Z",
     "start_time": "2018-03-15T14:06:32.988869Z"
    }
   },
   "outputs": [
    {
     "data": {
      "image/png": "[encoded data removed]",
      "text/plain": [
       "<matplotlib.figure.Figure at 0x23034359cc0>"
      ]
     },
     "execution_count": 86,
     "metadata": {},
     "output_type": "execute_result"
    },
    {
     "data": {
      "image/png": "[encoded data removed]",
      "text/plain": [
       "<matplotlib.figure.Figure at 0x23034359cc0>"
      ]
     },
     "metadata": {},
     "output_type": "display_data"
    }
   ],
   "source": [
    "sm.qqplot(price_mm, loc=price_mm.mean(), scale=price_mm.std())"
   ]
  },
  {
   "cell_type": "markdown",
   "metadata": {},
   "source": [
    "Q-Q plot after taking the logarithm. Things are getting better!"
   ]
  },
  {
   "cell_type": "code",
   "execution_count": 90,
   "metadata": {},
   "outputs": [
    {
     "name": "stderr",
     "output_type": "stream",
     "text": [
      "D:\\ML\\tools\\Anaconda3\\lib\\site-packages\\scipy\\stats\\morestats.py:1326: UserWarning: p-value may not be accurate for N > 5000.\n",
      "  warnings.warn(\"p-value may not be accurate for N > 5000.\")\n"
     ]
    },
    {
     "data": {
      "text/plain": [
       "((0.7429875135421753, 0.0),\n",
       " (0.7429936528205872, 0.0),\n",
       " (0.7429871559143066, 0.0),\n",
       " (0.9705549478530884, 0.0))"
      ]
     },
     "execution_count": 90,
     "metadata": {},
     "output_type": "execute_result"
    }
   ],
   "source": [
    "shapiro(price), shapiro(price_mm), shapiro(price_z), shapiro(price_log)"
   ]
  },
  {
   "cell_type": "code",
   "execution_count": 87,
   "metadata": {
    "ExecuteTime": {
     "end_time": "2018-03-15T14:06:33.510998Z",
     "start_time": "2018-03-15T14:06:33.244652Z"
    }
   },
   "outputs": [
    {
     "data": {
      "image/png": "[encoded data removed]",
      "text/plain": [
       "<matplotlib.figure.Figure at 0x2304145fcf8>"
      ]
     },
     "execution_count": 87,
     "metadata": {},
     "output_type": "execute_result"
    },
    {
     "data": {
      "image/png": "[encoded data removed]",
      "text/plain": [
       "<matplotlib.figure.Figure at 0x2304145fcf8>"
      ]
     },
     "metadata": {},
     "output_type": "display_data"
    }
   ],
   "source": [
    "sm.qqplot(price_log, loc=price_log.mean(), scale=price_log.std())"
   ]
  },
  {
   "cell_type": "code",
   "execution_count": 92,
   "metadata": {},
   "outputs": [],
   "source": [
    "from scipy import stats\n",
    "x = stats.norm.rvs(loc=5, scale=3, size=100)"
   ]
  },
  {
   "cell_type": "code",
   "execution_count": 95,
   "metadata": {},
   "outputs": [],
   "source": [
    "y = stats.norm.rvs(size=1000)"
   ]
  },
  {
   "cell_type": "code",
   "execution_count": 96,
   "metadata": {},
   "outputs": [
    {
     "data": {
      "text/plain": [
       "((0.9856409430503845, 0.35287782549858093),\n",
       " (0.9971408247947693, 0.07213372737169266))"
      ]
     },
     "execution_count": 96,
     "metadata": {},
     "output_type": "execute_result"
    }
   ],
   "source": [
    "shapiro(x), shapiro(y)"
   ]
  },
  {
   "cell_type": "code",
   "execution_count": 94,
   "metadata": {},
   "outputs": [
    {
     "data": {
      "image/png": "[encoded data removed]",
      "text/plain": [
       "<matplotlib.figure.Figure at 0x2303c82e0f0>"
      ]
     },
     "execution_count": 94,
     "metadata": {},
     "output_type": "execute_result"
    },
    {
     "data": {
      "image/png": "[encoded data removed]",
      "text/plain": [
       "<matplotlib.figure.Figure at 0x2303c82e0f0>"
      ]
     },
     "metadata": {},
     "output_type": "display_data"
    }
   ],
   "source": [
    "sm.qqplot(x, loc=x.mean(), scale=x.std())"
   ]
  },
  {
   "cell_type": "code",
   "execution_count": 97,
   "metadata": {},
   "outputs": [
    {
     "data": {
      "image/png": "[encoded data removed]",
      "text/plain": [
       "<matplotlib.figure.Figure at 0x2304146d4e0>"
      ]
     },
     "execution_count": 97,
     "metadata": {},
     "output_type": "execute_result"
    },
    {
     "data": {
      "image/png": "[encoded data removed]",
      "text/plain": [
       "<matplotlib.figure.Figure at 0x2304146d4e0>"
      ]
     },
     "metadata": {},
     "output_type": "display_data"
    }
   ],
   "source": [
    "sm.qqplot(y, loc=y.mean(), scale=y.std())"
   ]
  },
  {
   "cell_type": "markdown",
   "metadata": {},
   "source": [
    "Let’s see whether transformations can somehow help the real model. There is no silver bullet here."
   ]
  },
  {
   "cell_type": "code",
   "execution_count": 106,
   "metadata": {},
   "outputs": [],
   "source": [
    "import demo\n",
    "from imp import reload\n",
    "reload(demo)\n",
    "x_data, y_data = demo.get_data()"
   ]
  },
  {
   "cell_type": "code",
   "execution_count": 107,
   "metadata": {},
   "outputs": [
    {
     "data": {
      "text/html": [
       "<div>\n",
       "<style>\n",
       "    .dataframe thead tr:only-child th {\n",
       "        text-align: right;\n",
       "    }\n",
       "\n",
       "    .dataframe thead th {\n",
       "        text-align: left;\n",
       "    }\n",
       "\n",
       "    .dataframe tbody tr th {\n",
       "        vertical-align: top;\n",
       "    }\n",
       "</style>\n",
       "<table border=\"1\" class=\"dataframe\">\n",
       "  <thead>\n",
       "    <tr style=\"text-align: right;\">\n",
       "      <th></th>\n",
       "      <th>bathrooms</th>\n",
       "      <th>bedrooms</th>\n",
       "      <th>price</th>\n",
       "      <th>dishwasher</th>\n",
       "      <th>doorman</th>\n",
       "      <th>pets</th>\n",
       "      <th>air_conditioning</th>\n",
       "      <th>parking</th>\n",
       "      <th>balcony</th>\n",
       "      <th>bike</th>\n",
       "      <th>...</th>\n",
       "      <th>stainless</th>\n",
       "      <th>simplex</th>\n",
       "      <th>public</th>\n",
       "      <th>num_photos</th>\n",
       "      <th>num_features</th>\n",
       "      <th>listing_age</th>\n",
       "      <th>room_dif</th>\n",
       "      <th>room_sum</th>\n",
       "      <th>price_per_room</th>\n",
       "      <th>bedrooms_share</th>\n",
       "    </tr>\n",
       "  </thead>\n",
       "  <tbody>\n",
       "    <tr>\n",
       "      <th>10</th>\n",
       "      <td>1.5</td>\n",
       "      <td>3</td>\n",
       "      <td>8.006368</td>\n",
       "      <td>0</td>\n",
       "      <td>0</td>\n",
       "      <td>0</td>\n",
       "      <td>0</td>\n",
       "      <td>0</td>\n",
       "      <td>0</td>\n",
       "      <td>0</td>\n",
       "      <td>...</td>\n",
       "      <td>0</td>\n",
       "      <td>0</td>\n",
       "      <td>0</td>\n",
       "      <td>5</td>\n",
       "      <td>0</td>\n",
       "      <td>638</td>\n",
       "      <td>1.5</td>\n",
       "      <td>4.5</td>\n",
       "      <td>666.666667</td>\n",
       "      <td>0.666667</td>\n",
       "    </tr>\n",
       "    <tr>\n",
       "      <th>10000</th>\n",
       "      <td>1.0</td>\n",
       "      <td>2</td>\n",
       "      <td>8.606119</td>\n",
       "      <td>0</td>\n",
       "      <td>1</td>\n",
       "      <td>1</td>\n",
       "      <td>0</td>\n",
       "      <td>0</td>\n",
       "      <td>0</td>\n",
       "      <td>0</td>\n",
       "      <td>...</td>\n",
       "      <td>0</td>\n",
       "      <td>0</td>\n",
       "      <td>0</td>\n",
       "      <td>11</td>\n",
       "      <td>57</td>\n",
       "      <td>650</td>\n",
       "      <td>1.0</td>\n",
       "      <td>3.0</td>\n",
       "      <td>1821.666667</td>\n",
       "      <td>0.666667</td>\n",
       "    </tr>\n",
       "    <tr>\n",
       "      <th>100004</th>\n",
       "      <td>1.0</td>\n",
       "      <td>1</td>\n",
       "      <td>7.955074</td>\n",
       "      <td>1</td>\n",
       "      <td>0</td>\n",
       "      <td>1</td>\n",
       "      <td>0</td>\n",
       "      <td>0</td>\n",
       "      <td>0</td>\n",
       "      <td>0</td>\n",
       "      <td>...</td>\n",
       "      <td>0</td>\n",
       "      <td>0</td>\n",
       "      <td>0</td>\n",
       "      <td>8</td>\n",
       "      <td>72</td>\n",
       "      <td>706</td>\n",
       "      <td>0.0</td>\n",
       "      <td>2.0</td>\n",
       "      <td>1425.000000</td>\n",
       "      <td>0.500000</td>\n",
       "    </tr>\n",
       "    <tr>\n",
       "      <th>100007</th>\n",
       "      <td>1.0</td>\n",
       "      <td>1</td>\n",
       "      <td>8.094073</td>\n",
       "      <td>0</td>\n",
       "      <td>0</td>\n",
       "      <td>0</td>\n",
       "      <td>0</td>\n",
       "      <td>0</td>\n",
       "      <td>0</td>\n",
       "      <td>0</td>\n",
       "      <td>...</td>\n",
       "      <td>0</td>\n",
       "      <td>0</td>\n",
       "      <td>0</td>\n",
       "      <td>3</td>\n",
       "      <td>22</td>\n",
       "      <td>705</td>\n",
       "      <td>0.0</td>\n",
       "      <td>2.0</td>\n",
       "      <td>1637.500000</td>\n",
       "      <td>0.500000</td>\n",
       "    </tr>\n",
       "    <tr>\n",
       "      <th>100013</th>\n",
       "      <td>1.0</td>\n",
       "      <td>4</td>\n",
       "      <td>8.116716</td>\n",
       "      <td>0</td>\n",
       "      <td>0</td>\n",
       "      <td>0</td>\n",
       "      <td>0</td>\n",
       "      <td>0</td>\n",
       "      <td>0</td>\n",
       "      <td>0</td>\n",
       "      <td>...</td>\n",
       "      <td>0</td>\n",
       "      <td>0</td>\n",
       "      <td>0</td>\n",
       "      <td>3</td>\n",
       "      <td>7</td>\n",
       "      <td>695</td>\n",
       "      <td>3.0</td>\n",
       "      <td>5.0</td>\n",
       "      <td>670.000000</td>\n",
       "      <td>0.800000</td>\n",
       "    </tr>\n",
       "  </tbody>\n",
       "</table>\n",
       "<p>5 rows × 46 columns</p>\n",
       "</div>"
      ],
      "text/plain": [
       "        bathrooms  bedrooms     price  dishwasher  doorman  pets  \\\n",
       "10            1.5         3  8.006368           0        0     0   \n",
       "10000         1.0         2  8.606119           0        1     1   \n",
       "100004        1.0         1  7.955074           1        0     1   \n",
       "100007        1.0         1  8.094073           0        0     0   \n",
       "100013        1.0         4  8.116716           0        0     0   \n",
       "\n",
       "        air_conditioning  parking  balcony  bike       ...        stainless  \\\n",
       "10                     0        0        0     0       ...                0   \n",
       "10000                  0        0        0     0       ...                0   \n",
       "100004                 0        0        0     0       ...                0   \n",
       "100007                 0        0        0     0       ...                0   \n",
       "100013                 0        0        0     0       ...                0   \n",
       "\n",
       "        simplex  public  num_photos  num_features  listing_age  room_dif  \\\n",
       "10            0       0           5             0          638       1.5   \n",
       "10000         0       0          11            57          650       1.0   \n",
       "100004        0       0           8            72          706       0.0   \n",
       "100007        0       0           3            22          705       0.0   \n",
       "100013        0       0           3             7          695       3.0   \n",
       "\n",
       "        room_sum  price_per_room  bedrooms_share  \n",
       "10           4.5      666.666667        0.666667  \n",
       "10000        3.0     1821.666667        0.666667  \n",
       "100004       2.0     1425.000000        0.500000  \n",
       "100007       2.0     1637.500000        0.500000  \n",
       "100013       5.0      670.000000        0.800000  \n",
       "\n",
       "[5 rows x 46 columns]"
      ]
     },
     "execution_count": 107,
     "metadata": {},
     "output_type": "execute_result"
    }
   ],
   "source": [
    "x_data.head(5)"
   ]
  },
  {
   "cell_type": "code",
   "execution_count": 108,
   "metadata": {},
   "outputs": [],
   "source": [
    "x_data = x_data.values"
   ]
  },
  {
   "cell_type": "code",
   "execution_count": 111,
   "metadata": {},
   "outputs": [],
   "source": [
    "from sklearn.linear_model import LogisticRegression\n",
    "from sklearn.ensemble import RandomForestClassifier\n",
    "from sklearn.model_selection import cross_val_score\n",
    "from sklearn.feature_selection import SelectFromModel"
   ]
  },
  {
   "cell_type": "code",
   "execution_count": 113,
   "metadata": {},
   "outputs": [],
   "source": [
    "from sklearn.preprocessing import StandardScaler"
   ]
  },
  {
   "cell_type": "code",
   "execution_count": 112,
   "metadata": {},
   "outputs": [
    {
     "data": {
      "text/plain": [
       "-0.6855956341675985"
      ]
     },
     "execution_count": 112,
     "metadata": {},
     "output_type": "execute_result"
    }
   ],
   "source": [
    "cross_val_score(LogisticRegression(), x_data, y_data, scoring='neg_log_loss').mean()"
   ]
  },
  {
   "cell_type": "code",
   "execution_count": 130,
   "metadata": {},
   "outputs": [
    {
     "data": {
      "text/plain": [
       "-0.66985175441424749"
      ]
     },
     "execution_count": 130,
     "metadata": {},
     "output_type": "execute_result"
    }
   ],
   "source": [
    "cross_val_score(LogisticRegression(), StandardScaler().fit_transform(x_data), y_data, scoring='neg_log_loss').mean()"
   ]
  },
  {
   "cell_type": "code",
   "execution_count": 131,
   "metadata": {},
   "outputs": [
    {
     "data": {
      "text/plain": [
       "-0.75343607703274085"
      ]
     },
     "execution_count": 131,
     "metadata": {},
     "output_type": "execute_result"
    }
   ],
   "source": [
    "cross_val_score(LogisticRegression(), (x_data - x_data.mean()) / x_data.std(), y_data, scoring='neg_log_loss').mean()"
   ]
  },
  {
   "cell_type": "code",
   "execution_count": 132,
   "metadata": {},
   "outputs": [
    {
     "data": {
      "text/plain": [
       "-0.6698516626692107"
      ]
     },
     "execution_count": 132,
     "metadata": {},
     "output_type": "execute_result"
    }
   ],
   "source": [
    "cross_val_score(LogisticRegression(), StandardScaler().fit_transform(MinMaxScaler().fit_transform(x_data)), y_data, scoring='neg_log_loss').mean()"
   ]
  },
  {
   "cell_type": "code",
   "execution_count": 133,
   "metadata": {},
   "outputs": [
    {
     "data": {
      "text/plain": [
       "-0.68522453126702765"
      ]
     },
     "execution_count": 133,
     "metadata": {},
     "output_type": "execute_result"
    }
   ],
   "source": [
    "cross_val_score(LogisticRegression(), MinMaxScaler().fit_transform(StandardScaler().fit_transform(x_data)), y_data, scoring='neg_log_loss').mean()"
   ]
  },
  {
   "cell_type": "code",
   "execution_count": 116,
   "metadata": {},
   "outputs": [
    {
     "data": {
      "text/plain": [
       "array([[-0.04179255, -0.0405331 , -0.03632959, ..., -0.03927365,\n",
       "         0.51670273, -0.04249224],\n",
       "       [-0.04221236, -0.04137273, -0.03582602, ..., -0.0405331 ,\n",
       "         1.48647779, -0.04249224],\n",
       "       [-0.04221236, -0.04221236, -0.03637266, ..., -0.04137273,\n",
       "         1.15342373, -0.04263218],\n",
       "       ..., \n",
       "       [-0.04221236, -0.04221236, -0.03645136, ..., -0.04137273,\n",
       "         1.04637064, -0.04263218],\n",
       "       [-0.04221236, -0.043052  , -0.03623694, ..., -0.04221236,\n",
       "         2.76971549, -0.043052  ],\n",
       "       [-0.04221236, -0.04137273, -0.03659001, ..., -0.0405331 ,\n",
       "         0.5726782 , -0.04249224]])"
      ]
     },
     "execution_count": 116,
     "metadata": {},
     "output_type": "execute_result"
    }
   ],
   "source": [
    "(x_data - x_data.mean()) / x_data.std()"
   ]
  },
  {
   "cell_type": "code",
   "execution_count": 120,
   "metadata": {
    "scrolled": true
   },
   "outputs": [
    {
     "data": {
      "text/plain": [
       "array([[ 0.57813095,  1.31388377, -0.2140884 , ...,  1.21385624,\n",
       "        -0.1169741 ,  0.78024599],\n",
       "       [-0.42513635,  0.41365203,  1.17155264, ...,  0.17199059,\n",
       "         0.02926955,  0.78024599],\n",
       "       [-0.42513635, -0.48657971, -0.33259424, ..., -0.52258651,\n",
       "        -0.02095554,  0.10679404],\n",
       "       ..., \n",
       "       [-0.42513635, -0.48657971, -0.54914975, ..., -0.52258651,\n",
       "        -0.03709932,  0.10679404],\n",
       "       [-0.42513635, -1.38681144,  0.04085504, ..., -1.21716362,\n",
       "         0.22278386, -1.91356181],\n",
       "       [-0.42513635,  0.41365203, -0.93065711, ...,  0.17199059,\n",
       "        -0.10853291,  0.78024599]])"
      ]
     },
     "execution_count": 120,
     "metadata": {},
     "output_type": "execute_result"
    }
   ],
   "source": [
    "StandardScaler().fit_transform(x_data)"
   ]
  },
  {
   "cell_type": "code",
   "execution_count": 121,
   "metadata": {},
   "outputs": [
    {
     "data": {
      "text/plain": [
       "array([[  1.50000000e+00,   3.00000000e+00,   8.00636757e+00, ...,\n",
       "          4.50000000e+00,   6.66666667e+02,   6.66666667e-01],\n",
       "       [  1.00000000e+00,   2.00000000e+00,   8.60611940e+00, ...,\n",
       "          3.00000000e+00,   1.82166667e+03,   6.66666667e-01],\n",
       "       [  1.00000000e+00,   1.00000000e+00,   7.95507428e+00, ...,\n",
       "          2.00000000e+00,   1.42500000e+03,   5.00000000e-01],\n",
       "       ..., \n",
       "       [  1.00000000e+00,   1.00000000e+00,   7.86134180e+00, ...,\n",
       "          2.00000000e+00,   1.29750000e+03,   5.00000000e-01],\n",
       "       [  1.00000000e+00,   0.00000000e+00,   8.11671563e+00, ...,\n",
       "          1.00000000e+00,   3.35000000e+03,   0.00000000e+00],\n",
       "       [  1.00000000e+00,   2.00000000e+00,   7.69621264e+00, ...,\n",
       "          3.00000000e+00,   7.33333333e+02,   6.66666667e-01]])"
      ]
     },
     "execution_count": 121,
     "metadata": {},
     "output_type": "execute_result"
    }
   ],
   "source": [
    "x_data"
   ]
  },
  {
   "cell_type": "code",
   "execution_count": 122,
   "metadata": {},
   "outputs": [],
   "source": [
    "from sklearn.preprocessing import MinMaxScaler"
   ]
  },
  {
   "cell_type": "markdown",
   "metadata": {},
   "source": [
    "### Interactions\n",
    "\n",
    "If previous transformations seemed rather math-driven, this part is more about the nature of the data; it can be attributed to both feature transformations and feature creation.\n",
    "\n",
    "Let’s come back again to the Two Sigma Connect: Rental Listing Inquiries problem. Among the features in this problem are the number of rooms and the price. Logic suggests that the cost per single room is more indicative than the total cost, so we can generate such a feature."
   ]
  },
  {
   "cell_type": "code",
   "execution_count": 128,
   "metadata": {
    "ExecuteTime": {
     "end_time": "2018-03-15T14:06:33.800002Z",
     "start_time": "2018-03-15T14:06:33.512381Z"
    }
   },
   "outputs": [],
   "source": [
    "rooms = df[\"bedrooms\"].apply(lambda x: max(x, .5))\n",
    "# Avoid division by zero; .5 is chosen more or less arbitrarily\n",
    "df[\"price_per_bedroom\"] = df[\"price\"] / rooms"
   ]
  },
  {
   "cell_type": "code",
   "execution_count": 129,
   "metadata": {},
   "outputs": [
    {
     "data": {
      "text/plain": [
       "pandas.core.series.Series"
      ]
     },
     "execution_count": 129,
     "metadata": {},
     "output_type": "execute_result"
    }
   ],
   "source": [
    "type(rooms)"
   ]
  },
  {
   "cell_type": "markdown",
   "metadata": {},
   "source": [
    "You should limit yourself in this process. If there are a limited number of features, it is possible to generate all the possible interactions and then weed out the unnecessary ones using the techniques described in the next section. In addition, not all interactions between features must have a physical meaning; for example, polynomial features (see [sklearn.preprocessing.PolynomialFeatures](http://scikit-learn.org/stable/modules/generated/sklearn.preprocessing.PolynomialFeatures.html)) are often used in linear models and are almost impossible to interpret."
   ]
  },
  {
   "cell_type": "markdown",
   "metadata": {},
   "source": [
    "### Filling in the missing values\n",
    "\n",
    "Not many algorithms can work with missing values, and the real world often provides data with gaps. Fortunately, this is one of the tasks for which one doesn’t need any creativity. Both key python libraries for data analysis provide easy-to-use solutions: [pandas.DataFrame.fillna](http://pandas.pydata.org/pandas-docs/stable/generated/pandas.DataFrame.fillna.html) and [sklearn.preprocessing.Imputer](http://scikit-learn.org/stable/modules/preprocessing.html#imputation).\n",
    "\n",
    "These solutions do not have any magic happening behind the scenes. Approaches to handling missing values are pretty straightforward:\n",
    "\n",
    "* encode missing values with a separate blank value like `\"n/a\"` (for categorical variables);\n",
    "* use the most probable value of the feature (mean or median for the numerical variables, the most common value for categorical variables);\n",
    "* or, conversely, encode with some extreme value (good for decision-tree models since it allows the model to make a partition between the missing and non-missing values);\n",
    "* for ordered data (e.g. time series), take the adjacent value — next or previous.\n",
    "\n",
    "![image](https://cdn-images-1.medium.com/max/800/0*Ps-v8F0fBgmnG36S.)\n",
    "\n",
    "Easy-to-use library solutions sometimes suggest sticking to something like `df = df.fillna(0)` and not sweat the gaps. But this is not the best solution: data preparation takes more time than building models, so thoughtless gap-filling may hide a bug in processing and damage the model."
   ]
  },
  {
   "cell_type": "markdown",
   "metadata": {},
   "source": [
    "## Feature selection\n",
    "\n",
    "Why would it even be necessary to select features? To some, this idea may seem counterintuitive, but there are at least two important reasons to get rid of unimportant features. The first is clear to every engineer: the more data, the higher the computational complexity. As long as we work with toy datasets, the size of the data is not a problem, but, for real loaded production systems, hundreds of extra features will be quite tangible. The second reason is that some algorithms take noise (non-informative features) as a signal and overfit.\n",
    "\n",
    "### Statistical approaches\n",
    "\n",
    "The most obvious candidate for removal is a feature whose value remains unchanged, i.e., it contains no information at all. If we build on this thought, it is reasonable to say that features with low variance are worse than those with high variance. So, one can consider cutting features with variance below a certain threshold."
   ]
  },
  {
   "cell_type": "code",
   "execution_count": 134,
   "metadata": {
    "ExecuteTime": {
     "end_time": "2018-03-15T14:06:34.669290Z",
     "start_time": "2018-03-15T14:06:33.801760Z"
    }
   },
   "outputs": [
    {
     "data": {
      "text/plain": [
       "(100, 20)"
      ]
     },
     "execution_count": 134,
     "metadata": {},
     "output_type": "execute_result"
    }
   ],
   "source": [
    "from sklearn.feature_selection import VarianceThreshold\n",
    "from sklearn.datasets import make_classification\n",
    "\n",
    "x_data_generated, y_data_generated = make_classification()\n",
    "x_data_generated.shape"
   ]
  },
  {
   "cell_type": "code",
   "execution_count": 147,
   "metadata": {},
   "outputs": [
    {
     "data": {
      "text/plain": [
       "array([[-0.47804795,  1.19812113,  1.16817847, ..., -0.29801499,\n",
       "        -0.69985115,  1.15559886],\n",
       "       [ 1.01571878, -0.91939737,  0.75592436, ...,  0.05786296,\n",
       "        -0.01647081,  1.20642254],\n",
       "       [ 1.19534222,  1.47015501, -0.13274288, ...,  0.8679765 ,\n",
       "         0.29618208,  0.06594986],\n",
       "       ..., \n",
       "       [-0.71605701, -0.56555825,  0.3799651 , ..., -0.19364361,\n",
       "         0.41447956,  1.27707817],\n",
       "       [ 0.31210606,  0.40309737,  1.00538205, ..., -1.2357883 ,\n",
       "        -1.10178671,  0.55372411],\n",
       "       [ 0.16968396, -0.54657821, -2.70231418, ..., -1.36728717,\n",
       "        -1.34193744,  0.86549327]])"
      ]
     },
     "execution_count": 147,
     "metadata": {},
     "output_type": "execute_result"
    }
   ],
   "source": [
    "x_data_generated"
   ]
  },
  {
   "cell_type": "code",
   "execution_count": 150,
   "metadata": {},
   "outputs": [
    {
     "name": "stdout",
     "output_type": "stream",
     "text": [
      "0.928456531952 (100,)\n",
      "1.10018674442 (100,)\n",
      "0.931502742845 (100,)\n",
      "0.748976672085 (100,)\n",
      "1.17351399608 (100,)\n",
      "0.962707454262 (100,)\n",
      "0.979879945915 (100,)\n",
      "0.199633634288 (100,)\n",
      "0.952160747887 (100,)\n",
      "1.13357013173 (100,)\n",
      "1.62117196865 (100,)\n",
      "0.941242891468 (100,)\n",
      "1.06644265407 (100,)\n",
      "0.908129990635 (100,)\n",
      "1.12563767282 (100,)\n",
      "0.822355018075 (100,)\n",
      "1.50650649094 (100,)\n",
      "1.26502786377 (100,)\n",
      "0.746834128425 (100,)\n",
      "1.03307764592 (100,)\n"
     ]
    }
   ],
   "source": [
    "for i in range(20):\n",
    "    print (np.var(x_data_generated[:,i]), x_data_generated[:,i].shape)"
   ]
  },
  {
   "cell_type": "code",
   "execution_count": 160,
   "metadata": {},
   "outputs": [
    {
     "data": {
      "text/plain": [
       "array([ True,  True,  True,  True,  True,  True,  True, False,  True,\n",
       "        True,  True,  True,  True,  True,  True,  True,  True,  True,\n",
       "        True,  True], dtype=bool)"
      ]
     },
     "execution_count": 160,
     "metadata": {},
     "output_type": "execute_result"
    }
   ],
   "source": [
    "VarianceThreshold(.7).fit(x_data_generated).get_support()"
   ]
  },
  {
   "cell_type": "code",
   "execution_count": 140,
   "metadata": {
    "ExecuteTime": {
     "end_time": "2018-03-15T14:06:34.674947Z",
     "start_time": "2018-03-15T14:06:34.670899Z"
    }
   },
   "outputs": [
    {
     "data": {
      "text/plain": [
       "(100, 19)"
      ]
     },
     "execution_count": 140,
     "metadata": {},
     "output_type": "execute_result"
    }
   ],
   "source": [
    "VarianceThreshold(.7).fit_transform(x_data_generated).shape"
   ]
  },
  {
   "cell_type": "code",
   "execution_count": 161,
   "metadata": {},
   "outputs": [
    {
     "data": {
      "text/plain": [
       "array([ True,  True,  True, False,  True,  True,  True, False,  True,\n",
       "        True,  True,  True,  True,  True,  True,  True,  True,  True,\n",
       "       False,  True], dtype=bool)"
      ]
     },
     "execution_count": 161,
     "metadata": {},
     "output_type": "execute_result"
    }
   ],
   "source": [
    "VarianceThreshold(.8).fit(x_data_generated).get_support()"
   ]
  },
  {
   "cell_type": "code",
   "execution_count": 137,
   "metadata": {
    "ExecuteTime": {
     "end_time": "2018-03-15T14:06:34.801683Z",
     "start_time": "2018-03-15T14:06:34.676130Z"
    }
   },
   "outputs": [
    {
     "data": {
      "text/plain": [
       "(100, 17)"
      ]
     },
     "execution_count": 137,
     "metadata": {},
     "output_type": "execute_result"
    }
   ],
   "source": [
    "VarianceThreshold(.8).fit_transform(x_data_generated).shape"
   ]
  },
  {
   "cell_type": "code",
   "execution_count": 162,
   "metadata": {},
   "outputs": [
    {
     "data": {
      "text/plain": [
       "array([ True,  True,  True, False,  True,  True,  True, False,  True,\n",
       "        True,  True,  True,  True,  True,  True, False,  True,  True,\n",
       "       False,  True], dtype=bool)"
      ]
     },
     "execution_count": 162,
     "metadata": {},
     "output_type": "execute_result"
    }
   ],
   "source": [
    "VarianceThreshold(.9).fit(x_data_generated).get_support()"
   ]
  },
  {
   "cell_type": "code",
   "execution_count": 138,
   "metadata": {
    "ExecuteTime": {
     "end_time": "2018-03-15T14:06:34.903665Z",
     "start_time": "2018-03-15T14:06:34.803278Z"
    }
   },
   "outputs": [
    {
     "data": {
      "text/plain": [
       "(100, 16)"
      ]
     },
     "execution_count": 138,
     "metadata": {},
     "output_type": "execute_result"
    }
   ],
   "source": [
    "VarianceThreshold(.9).fit_transform(x_data_generated).shape"
   ]
  },
  {
   "cell_type": "code",
   "execution_count": 170,
   "metadata": {},
   "outputs": [
    {
     "data": {
      "text/plain": [
       "(100, 9)"
      ]
     },
     "execution_count": 170,
     "metadata": {},
     "output_type": "execute_result"
    }
   ],
   "source": [
    "VarianceThreshold(1.0).fit_transform(x_data_generated).shape"
   ]
  },
  {
   "cell_type": "markdown",
   "metadata": {},
   "source": [
    "There are other ways that are also [based on classical statistics](http://scikit-learn.org/stable/modules/feature_selection.html#univariate-feature-selection)."
   ]
  },
  {
   "cell_type": "code",
   "execution_count": 174,
   "metadata": {
    "ExecuteTime": {
     "end_time": "2018-03-15T14:06:35.235212Z",
     "start_time": "2018-03-15T14:06:34.908459Z"
    }
   },
   "outputs": [],
   "source": [
    "from sklearn.feature_selection import SelectKBest, f_classif\n",
    "from sklearn.linear_model import LogisticRegression\n",
    "from sklearn.model_selection import cross_val_score\n",
    "\n",
    "x_data_kbest = SelectKBest(f_classif, k=5).fit_transform(x_data_generated, y_data_generated)\n",
    "x_data_varth = VarianceThreshold(.9).fit_transform(x_data_generated)\n",
    "x_data_varth8 = VarianceThreshold(.8).fit_transform(x_data_generated)\n",
    "x_data_varth1 = VarianceThreshold(1.0).fit_transform(x_data_generated)\n",
    "x_data_kbest1 = SelectKBest(f_classif, k=5).fit_transform(x_data_varth1, y_data_generated)"
   ]
  },
  {
   "cell_type": "code",
   "execution_count": 197,
   "metadata": {},
   "outputs": [],
   "source": [
    "x_data_kbest_top = SelectKBest(f_classif, k=1).fit_transform(x_data_generated, y_data_generated)"
   ]
  },
  {
   "cell_type": "code",
   "execution_count": 198,
   "metadata": {},
   "outputs": [
    {
     "data": {
      "text/plain": [
       "-0.26447053366296552"
      ]
     },
     "execution_count": 198,
     "metadata": {},
     "output_type": "execute_result"
    }
   ],
   "source": [
    "cross_val_score(LogisticRegression(), x_data_kbest_top, y_data_generated, scoring='neg_log_loss').mean()"
   ]
  },
  {
   "cell_type": "code",
   "execution_count": 165,
   "metadata": {
    "ExecuteTime": {
     "end_time": "2018-03-15T14:06:35.251270Z",
     "start_time": "2018-03-15T14:06:35.237608Z"
    }
   },
   "outputs": [
    {
     "data": {
      "text/plain": [
       "-0.41119505498117487"
      ]
     },
     "execution_count": 165,
     "metadata": {},
     "output_type": "execute_result"
    }
   ],
   "source": [
    "cross_val_score(LogisticRegression(), x_data_generated, y_data_generated, scoring='neg_log_loss').mean()"
   ]
  },
  {
   "cell_type": "code",
   "execution_count": 166,
   "metadata": {
    "ExecuteTime": {
     "end_time": "2018-03-15T14:06:35.355729Z",
     "start_time": "2018-03-15T14:06:35.252493Z"
    }
   },
   "outputs": [
    {
     "data": {
      "text/plain": [
       "-0.28363762642297868"
      ]
     },
     "execution_count": 166,
     "metadata": {},
     "output_type": "execute_result"
    }
   ],
   "source": [
    "cross_val_score(LogisticRegression(), x_data_kbest, y_data_generated, scoring='neg_log_loss').mean()"
   ]
  },
  {
   "cell_type": "code",
   "execution_count": 167,
   "metadata": {
    "ExecuteTime": {
     "end_time": "2018-03-15T14:06:35.500340Z",
     "start_time": "2018-03-15T14:06:35.356862Z"
    }
   },
   "outputs": [
    {
     "data": {
      "text/plain": [
       "-0.37056836836930068"
      ]
     },
     "execution_count": 167,
     "metadata": {},
     "output_type": "execute_result"
    }
   ],
   "source": [
    "cross_val_score(LogisticRegression(), x_data_varth, y_data_generated, scoring='neg_log_loss').mean()"
   ]
  },
  {
   "cell_type": "code",
   "execution_count": 169,
   "metadata": {},
   "outputs": [
    {
     "data": {
      "text/plain": [
       "-0.3914197941700111"
      ]
     },
     "execution_count": 169,
     "metadata": {},
     "output_type": "execute_result"
    }
   ],
   "source": [
    "cross_val_score(LogisticRegression(), x_data_varth8, y_data_generated, scoring='neg_log_loss').mean()"
   ]
  },
  {
   "cell_type": "code",
   "execution_count": 173,
   "metadata": {},
   "outputs": [
    {
     "data": {
      "text/plain": [
       "-0.30374077510470504"
      ]
     },
     "execution_count": 173,
     "metadata": {},
     "output_type": "execute_result"
    }
   ],
   "source": [
    "cross_val_score(LogisticRegression(), x_data_varth1, y_data_generated, scoring='neg_log_loss').mean()"
   ]
  },
  {
   "cell_type": "code",
   "execution_count": 178,
   "metadata": {},
   "outputs": [
    {
     "data": {
      "text/plain": [
       "-0.27394679517073128"
      ]
     },
     "execution_count": 178,
     "metadata": {},
     "output_type": "execute_result"
    }
   ],
   "source": [
    "cross_val_score(LogisticRegression(), x_data_kbest1, y_data_generated, scoring='neg_log_loss').mean()"
   ]
  },
  {
   "cell_type": "markdown",
   "metadata": {},
   "source": [
    "We can see that our selected features have improved the quality of the classifier. Of course, this example is purely artificial; however, it is worth using for real problems."
   ]
  },
  {
   "cell_type": "markdown",
   "metadata": {},
   "source": [
    "### Selection by modeling\n",
    "\n",
    "Another approach is to use some baseline model for feature evaluation because the model will clearly show the importance of the features. Two types of models are usually used: some “wooden” composition such as [Random Forest](https://medium.com/open-machine-learning-course/open-machine-learning-course-topic-5-ensembles-of-algorithms-and-random-forest-8e05246cbba7) or a linear model with Lasso regularization so that it is prone to nullify weights of weak features. The logic is intuitive: if features are clearly useless in a simple model, there is no need to drag them to a more complex one."
   ]
  },
  {
   "cell_type": "code",
   "execution_count": 203,
   "metadata": {
    "ExecuteTime": {
     "end_time": "2018-03-15T14:06:35.975262Z",
     "start_time": "2018-03-15T14:06:35.502079Z"
    }
   },
   "outputs": [
    {
     "name": "stdout",
     "output_type": "stream",
     "text": [
      "-0.247774732327\n",
      "-1.48179598504\n",
      "-0.19207651634\n"
     ]
    }
   ],
   "source": [
    "# Synthetic example\n",
    "\n",
    "from sklearn.datasets import make_classification\n",
    "from sklearn.linear_model import LogisticRegression\n",
    "from sklearn.ensemble import RandomForestClassifier\n",
    "from sklearn.feature_selection import SelectFromModel\n",
    "from sklearn.model_selection import cross_val_score\n",
    "from sklearn.pipeline import make_pipeline\n",
    "\n",
    "x_data_generated, y_data_generated = make_classification()\n",
    "\n",
    "pipe = make_pipeline(SelectFromModel(estimator=RandomForestClassifier()), LogisticRegression())\n",
    "\n",
    "lr = LogisticRegression()\n",
    "rf = RandomForestClassifier()\n",
    "\n",
    "print(cross_val_score(lr, x_data_generated, y_data_generated, scoring='neg_log_loss').mean())\n",
    "print(cross_val_score(rf, x_data_generated, y_data_generated, scoring='neg_log_loss').mean())\n",
    "print(cross_val_score(pipe, x_data_generated, y_data_generated, scoring='neg_log_loss').mean())"
   ]
  },
  {
   "cell_type": "code",
   "execution_count": 252,
   "metadata": {},
   "outputs": [
    {
     "name": "stdout",
     "output_type": "stream",
     "text": [
      "[False False False False False False  True False False False False False\n",
      " False False  True False False False False False]\n"
     ]
    },
    {
     "data": {
      "text/plain": [
       "-0.18199245353336679"
      ]
     },
     "execution_count": 252,
     "metadata": {},
     "output_type": "execute_result"
    }
   ],
   "source": [
    "print (SelectFromModel(estimator=RandomForestClassifier()).fit(x_data_generated, y_data_generated).get_support())\n",
    "xsfm = SelectFromModel(estimator=RandomForestClassifier()).fit_transform(x_data_generated, y_data_generated)\n",
    "cross_val_score(LogisticRegression(), xsfm, y_data_generated, scoring='neg_log_loss').mean()"
   ]
  },
  {
   "cell_type": "code",
   "execution_count": 247,
   "metadata": {},
   "outputs": [
    {
     "name": "stdout",
     "output_type": "stream",
     "text": [
      "[False False  True False False  True  True False False False False False\n",
      " False False  True False False False False False]\n"
     ]
    },
    {
     "data": {
      "text/plain": [
       "-0.20751380606329498"
      ]
     },
     "execution_count": 247,
     "metadata": {},
     "output_type": "execute_result"
    }
   ],
   "source": [
    "print (SelectKBest(f_classif, k=4).fit(x_data_generated, y_data_generated).get_support())\n",
    "xskb = SelectKBest(f_classif, k=4).fit_transform(x_data_generated, y_data_generated)\n",
    "cross_val_score(LogisticRegression(), xskb, y_data_generated, scoring='neg_log_loss').mean()"
   ]
  },
  {
   "cell_type": "code",
   "execution_count": 336,
   "metadata": {},
   "outputs": [
    {
     "name": "stdout",
     "output_type": "stream",
     "text": [
      "[False False False False False  True False False False False False False\n",
      " False False  True False False False False False]\n",
      "[-0.18458548 -0.27958422 -0.09527624]\n"
     ]
    }
   ],
   "source": [
    "np.random.RandomState(1)\n",
    "np.random.seed(1)\n",
    "print (SelectKBest(f_classif, k=2).fit(x_data_generated, y_data_generated).get_support())\n",
    "xskb = SelectKBest(f_classif, k=2).fit_transform(x_data_generated, y_data_generated)\n",
    "print (cross_val_score(LogisticRegression(random_state=1), xskb, y_data_generated, scoring='neg_log_loss'))"
   ]
  },
  {
   "cell_type": "code",
   "execution_count": 337,
   "metadata": {},
   "outputs": [
    {
     "name": "stdout",
     "output_type": "stream",
     "text": [
      "[False False False False False  True False False False False False False\n",
      " False False  True False False False False False]\n",
      "[-0.18716209 -0.27958422 -0.09527624]\n"
     ]
    }
   ],
   "source": [
    "np.random.RandomState(1)\n",
    "np.random.seed(1)\n",
    "pipek = make_pipeline(SelectKBest(f_classif, k=2), LogisticRegression(random_state=1))\n",
    "print (pipek.named_steps.selectkbest.fit(x_data_generated, y_data_generated).get_support())\n",
    "print(cross_val_score(pipek, x_data_generated, y_data_generated, scoring='neg_log_loss'))"
   ]
  },
  {
   "cell_type": "code",
   "execution_count": 301,
   "metadata": {},
   "outputs": [
    {
     "name": "stdout",
     "output_type": "stream",
     "text": [
      "[False False False False False  True False False False False False False\n",
      " False False  True False False False False False]\n"
     ]
    }
   ],
   "source": []
  },
  {
   "cell_type": "markdown",
   "metadata": {},
   "source": [
    "We must not forget that this is not a silver bullet again - it can make the performance worse."
   ]
  },
  {
   "cell_type": "code",
   "execution_count": 326,
   "metadata": {
    "ExecuteTime": {
     "end_time": "2018-03-15T14:06:36.095657Z",
     "start_time": "2018-03-15T14:06:35.976948Z"
    }
   },
   "outputs": [
    {
     "name": "stdout",
     "output_type": "stream",
     "text": [
      "LR + selection:  -0.180674195326\n",
      "LR:  -0.237971080805\n",
      "RF:  -0.552936480968\n"
     ]
    }
   ],
   "source": [
    "#x_data, y_data = get_data() \n",
    "x_data = x_data_generated\n",
    "y_data = y_data_generated\n",
    "\n",
    "pipe1 = make_pipeline(StandardScaler(), SelectFromModel(estimator=RandomForestClassifier()), LogisticRegression())\n",
    "\n",
    "pipe2 = make_pipeline(StandardScaler(), LogisticRegression())\n",
    "\n",
    "rf = RandomForestClassifier()\n",
    "\n",
    "print('LR + selection: ', cross_val_score(pipe1, x_data, y_data, scoring='neg_log_loss').mean())\n",
    "print('LR: ', cross_val_score(pipe2, x_data, y_data, scoring='neg_log_loss').mean())\n",
    "print('RF: ', cross_val_score(rf, x_data, y_data, scoring='neg_log_loss').mean())"
   ]
  },
  {
   "cell_type": "markdown",
   "metadata": {},
   "source": [
    "It got worse!"
   ]
  },
  {
   "cell_type": "markdown",
   "metadata": {},
   "source": [
    "### Grid search\n",
    "Finally, we get to the most reliable method, which is also the most computationally complex: trivial grid search. Train a model on a subset of features, store results, repeat for different subsets, and compare the quality of models to identify the best feature set. This approach is called [Exhaustive Feature Selection](http://rasbt.github.io/mlxtend/user_guide/feature_selection/ExhaustiveFeatureSelector/).\n",
    "\n",
    "Searching all combinations usually takes too long, so you can try to reduce the search space. Fix a small number N, iterate through all combinations of N features, choose the best combination, and then iterate through the combinations of (N + 1) features so that the previous best combination of features is fixed and only a single new feature is considered. It is possible to iterate until we hit a maximum number of characteristics or until the quality of the model ceases to increase significantly. This algorithm is called [Sequential Feature Selection](http://rasbt.github.io/mlxtend/user_guide/feature_selection/SequentialFeatureSelector/).\n",
    "\n",
    "This algorithm can be reversed: start with the complete feature space and remove features one by one until it does not impair the quality of the model or until the desired number of features is reached."
   ]
  },
  {
   "cell_type": "code",
   "execution_count": 344,
   "metadata": {},
   "outputs": [
    {
     "name": "stderr",
     "output_type": "stream",
     "text": [
      "[Parallel(n_jobs=-1)]: Done  16 out of  20 | elapsed:    2.1s remaining:    0.4s\n",
      "[Parallel(n_jobs=-1)]: Done  20 out of  20 | elapsed:    2.1s finished\n",
      "\n",
      "[2018-03-25 16:34:11] Features: 19/3 -- score: -0.270120481845[Parallel(n_jobs=-1)]: Done  14 out of  19 | elapsed:    1.6s remaining:    0.5s\n",
      "[Parallel(n_jobs=-1)]: Done  19 out of  19 | elapsed:    1.7s finished\n",
      "\n",
      "[2018-03-25 16:34:13] Features: 18/3 -- score: -0.240044979532[Parallel(n_jobs=-1)]: Done  13 out of  18 | elapsed:    1.6s remaining:    0.6s\n",
      "[Parallel(n_jobs=-1)]: Done  18 out of  18 | elapsed:    1.7s finished\n",
      "\n",
      "[2018-03-25 16:34:15] Features: 17/3 -- score: -0.378014988836[Parallel(n_jobs=-1)]: Done  11 out of  17 | elapsed:    1.6s remaining:    0.8s\n",
      "[Parallel(n_jobs=-1)]: Done  17 out of  17 | elapsed:    1.7s finished\n",
      "\n",
      "[2018-03-25 16:34:17] Features: 16/3 -- score: -0.311396631515[Parallel(n_jobs=-1)]: Done  10 out of  16 | elapsed:    1.6s remaining:    0.9s\n",
      "[Parallel(n_jobs=-1)]: Done  16 out of  16 | elapsed:    1.6s finished\n",
      "\n",
      "[2018-03-25 16:34:19] Features: 15/3 -- score: -0.327957345197[Parallel(n_jobs=-1)]: Done   8 out of  15 | elapsed:    1.6s remaining:    1.4s\n",
      "[Parallel(n_jobs=-1)]: Done  15 out of  15 | elapsed:    1.6s finished\n",
      "\n",
      "[2018-03-25 16:34:21] Features: 14/3 -- score: -0.292911453484[Parallel(n_jobs=-1)]: Done   7 out of  14 | elapsed:    1.4s remaining:    1.4s\n",
      "[Parallel(n_jobs=-1)]: Done  14 out of  14 | elapsed:    1.6s finished\n",
      "\n",
      "[2018-03-25 16:34:23] Features: 13/3 -- score: -0.266411699769[Parallel(n_jobs=-1)]: Done   5 out of  13 | elapsed:    1.0s remaining:    1.7s\n",
      "[Parallel(n_jobs=-1)]: Done  13 out of  13 | elapsed:    1.6s finished\n",
      "\n",
      "[2018-03-25 16:34:25] Features: 12/3 -- score: -0.288748028136[Parallel(n_jobs=-1)]: Done   4 out of  12 | elapsed:    1.0s remaining:    2.2s\n",
      "[Parallel(n_jobs=-1)]: Done  12 out of  12 | elapsed:    1.8s finished\n",
      "\n",
      "[2018-03-25 16:34:28] Features: 11/3 -- score: -0.265739578491[Parallel(n_jobs=-1)]: Done   2 out of  11 | elapsed:    0.5s remaining:    2.5s\n",
      "[Parallel(n_jobs=-1)]: Done   8 out of  11 | elapsed:    1.5s remaining:    0.5s\n",
      "[Parallel(n_jobs=-1)]: Done  11 out of  11 | elapsed:    1.5s finished\n",
      "\n",
      "[2018-03-25 16:34:30] Features: 10/3 -- score: -0.237769000515[Parallel(n_jobs=-1)]: Done   7 out of  10 | elapsed:    1.4s remaining:    0.5s\n",
      "[Parallel(n_jobs=-1)]: Done  10 out of  10 | elapsed:    1.6s finished\n",
      "\n",
      "[2018-03-25 16:34:32] Features: 9/3 -- score: -0.25224447712[Parallel(n_jobs=-1)]: Done   4 out of   9 | elapsed:    1.0s remaining:    1.3s\n",
      "[Parallel(n_jobs=-1)]: Done   9 out of   9 | elapsed:    1.7s remaining:    0.0s\n",
      "[Parallel(n_jobs=-1)]: Done   9 out of   9 | elapsed:    1.7s finished\n",
      "\n",
      "[2018-03-25 16:34:34] Features: 8/3 -- score: -0.29187329926[Parallel(n_jobs=-1)]: Done   3 out of   8 | elapsed:    0.8s remaining:    1.4s\n",
      "[Parallel(n_jobs=-1)]: Done   8 out of   8 | elapsed:    1.6s remaining:    0.0s\n",
      "[Parallel(n_jobs=-1)]: Done   8 out of   8 | elapsed:    1.6s finished\n",
      "\n",
      "[2018-03-25 16:34:36] Features: 7/3 -- score: -0.281647787627[Parallel(n_jobs=-1)]: Done   4 out of   7 | elapsed:    0.9s remaining:    0.7s\n",
      "[Parallel(n_jobs=-1)]: Done   7 out of   7 | elapsed:    1.4s finished\n",
      "\n",
      "[2018-03-25 16:34:38] Features: 6/3 -- score: -0.558152500372[Parallel(n_jobs=-1)]: Done   3 out of   6 | elapsed:    0.7s remaining:    0.7s\n",
      "[Parallel(n_jobs=-1)]: Done   6 out of   6 | elapsed:    1.3s finished\n",
      "\n",
      "[2018-03-25 16:34:40] Features: 5/3 -- score: -0.204734709805[Parallel(n_jobs=-1)]: Done   2 out of   5 | elapsed:    0.5s remaining:    0.9s\n",
      "[Parallel(n_jobs=-1)]: Done   5 out of   5 | elapsed:    1.0s remaining:    0.0s\n",
      "[Parallel(n_jobs=-1)]: Done   5 out of   5 | elapsed:    1.0s finished\n",
      "\n",
      "[2018-03-25 16:34:41] Features: 4/3 -- score: -0.551619437049[Parallel(n_jobs=-1)]: Done   4 out of   4 | elapsed:    0.9s remaining:    0.0s\n",
      "[Parallel(n_jobs=-1)]: Done   4 out of   4 | elapsed:    0.9s finished\n",
      "\n",
      "[2018-03-25 16:34:43] Features: 3/3 -- score: -0.546464757484"
     ]
    },
    {
     "data": {
      "text/plain": [
       "SequentialFeatureSelector(clone_estimator=True, cv=5,\n",
       "             estimator=RandomForestClassifier(bootstrap=True, class_weight=None, criterion='gini',\n",
       "            max_depth=None, max_features='auto', max_leaf_nodes=None,\n",
       "            min_impurity_decrease=0.0, min_impurity_split=None,\n",
       "            min_samples_leaf=1, min_samples_split=2,\n",
       "            min_weight_fraction_leaf=0.0, n_estimators=10, n_jobs=1,\n",
       "            oob_score=False, random_state=None, verbose=0,\n",
       "            warm_start=False),\n",
       "             floating=False, forward=False, k_features=3, n_jobs=-1,\n",
       "             pre_dispatch='2*n_jobs', scoring='neg_log_loss', verbose=2)"
      ]
     },
     "execution_count": 344,
     "metadata": {},
     "output_type": "execute_result"
    }
   ],
   "source": [
    "from mlxtend.feature_selection import SequentialFeatureSelector\n",
    "\n",
    "selector2 = SequentialFeatureSelector(RandomForestClassifier(), scoring='neg_log_loss', \n",
    "                                     verbose=2, k_features=3, forward=False, n_jobs=-1)\n",
    "\n",
    "selector2.fit(x_data, y_data)"
   ]
  },
  {
   "cell_type": "code",
   "execution_count": 339,
   "metadata": {},
   "outputs": [
    {
     "name": "stderr",
     "output_type": "stream",
     "text": [
      "[Parallel(n_jobs=-1)]: Done  16 out of  20 | elapsed:   16.4s remaining:    4.0s\n",
      "[Parallel(n_jobs=-1)]: Done  20 out of  20 | elapsed:   16.4s finished\n",
      "\n",
      "[2018-03-25 16:07:01] Features: 19/3 -- score: -0.216460226915[Parallel(n_jobs=-1)]: Done  14 out of  19 | elapsed:    1.4s remaining:    0.4s\n",
      "[Parallel(n_jobs=-1)]: Done  19 out of  19 | elapsed:    1.4s finished\n",
      "\n",
      "[2018-03-25 16:07:03] Features: 18/3 -- score: -0.203046305922[Parallel(n_jobs=-1)]: Done  13 out of  18 | elapsed:    1.6s remaining:    0.6s\n",
      "[Parallel(n_jobs=-1)]: Done  18 out of  18 | elapsed:    1.6s finished\n",
      "\n",
      "[2018-03-25 16:07:05] Features: 17/3 -- score: -0.190444264924[Parallel(n_jobs=-1)]: Done  11 out of  17 | elapsed:    1.6s remaining:    0.8s\n",
      "[Parallel(n_jobs=-1)]: Done  17 out of  17 | elapsed:    1.6s finished\n",
      "\n",
      "[2018-03-25 16:07:07] Features: 16/3 -- score: -0.183565863635[Parallel(n_jobs=-1)]: Done  10 out of  16 | elapsed:    1.6s remaining:    0.9s\n",
      "[Parallel(n_jobs=-1)]: Done  16 out of  16 | elapsed:    1.6s finished\n",
      "\n",
      "[2018-03-25 16:07:09] Features: 15/3 -- score: -0.176054919979[Parallel(n_jobs=-1)]: Done   8 out of  15 | elapsed:    1.6s remaining:    1.4s\n",
      "[Parallel(n_jobs=-1)]: Done  15 out of  15 | elapsed:    1.6s finished\n",
      "\n",
      "[2018-03-25 16:07:11] Features: 14/3 -- score: -0.169988688616[Parallel(n_jobs=-1)]: Done   7 out of  14 | elapsed:    1.4s remaining:    1.4s\n",
      "[Parallel(n_jobs=-1)]: Done  14 out of  14 | elapsed:    1.6s finished\n",
      "\n",
      "[2018-03-25 16:07:13] Features: 13/3 -- score: -0.164035846597[Parallel(n_jobs=-1)]: Done   5 out of  13 | elapsed:    1.1s remaining:    1.8s\n",
      "[Parallel(n_jobs=-1)]: Done  13 out of  13 | elapsed:    1.6s finished\n",
      "\n",
      "[2018-03-25 16:07:15] Features: 12/3 -- score: -0.161305757968[Parallel(n_jobs=-1)]: Done   4 out of  12 | elapsed:    0.9s remaining:    1.9s\n",
      "[Parallel(n_jobs=-1)]: Done  12 out of  12 | elapsed:    1.6s finished\n",
      "\n",
      "[2018-03-25 16:07:17] Features: 11/3 -- score: -0.158374968695[Parallel(n_jobs=-1)]: Done   2 out of  11 | elapsed:    0.5s remaining:    2.8s\n",
      "[Parallel(n_jobs=-1)]: Done   8 out of  11 | elapsed:    1.6s remaining:    0.5s\n",
      "[Parallel(n_jobs=-1)]: Done  11 out of  11 | elapsed:    1.6s finished\n",
      "\n",
      "[2018-03-25 16:07:19] Features: 10/3 -- score: -0.156565192342[Parallel(n_jobs=-1)]: Done   7 out of  10 | elapsed:    1.4s remaining:    0.5s\n",
      "[Parallel(n_jobs=-1)]: Done  10 out of  10 | elapsed:    1.6s finished\n",
      "\n",
      "[2018-03-25 16:07:21] Features: 9/3 -- score: -0.155097327307[Parallel(n_jobs=-1)]: Done   4 out of   9 | elapsed:    0.9s remaining:    1.1s\n",
      "[Parallel(n_jobs=-1)]: Done   9 out of   9 | elapsed:    1.5s remaining:    0.0s\n",
      "[Parallel(n_jobs=-1)]: Done   9 out of   9 | elapsed:    1.5s finished\n",
      "\n",
      "[2018-03-25 16:07:23] Features: 8/3 -- score: -0.153617801138[Parallel(n_jobs=-1)]: Done   3 out of   8 | elapsed:    0.7s remaining:    1.2s\n",
      "[Parallel(n_jobs=-1)]: Done   8 out of   8 | elapsed:    1.5s remaining:    0.0s\n",
      "[Parallel(n_jobs=-1)]: Done   8 out of   8 | elapsed:    1.5s finished\n",
      "\n",
      "[2018-03-25 16:07:25] Features: 7/3 -- score: -0.152774474786[Parallel(n_jobs=-1)]: Done   4 out of   7 | elapsed:    0.9s remaining:    0.6s\n",
      "[Parallel(n_jobs=-1)]: Done   7 out of   7 | elapsed:    1.4s finished\n",
      "\n",
      "[2018-03-25 16:07:27] Features: 6/3 -- score: -0.153958410173[Parallel(n_jobs=-1)]: Done   3 out of   6 | elapsed:    0.7s remaining:    0.7s\n",
      "[Parallel(n_jobs=-1)]: Done   6 out of   6 | elapsed:    1.2s finished\n",
      "\n",
      "[2018-03-25 16:07:29] Features: 5/3 -- score: -0.15519502447[Parallel(n_jobs=-1)]: Done   2 out of   5 | elapsed:    0.5s remaining:    0.8s\n",
      "[Parallel(n_jobs=-1)]: Done   5 out of   5 | elapsed:    1.0s remaining:    0.0s\n",
      "[Parallel(n_jobs=-1)]: Done   5 out of   5 | elapsed:    1.0s finished\n",
      "\n",
      "[2018-03-25 16:07:30] Features: 4/3 -- score: -0.157933257306[Parallel(n_jobs=-1)]: Done   4 out of   4 | elapsed:    0.9s remaining:    0.0s\n",
      "[Parallel(n_jobs=-1)]: Done   4 out of   4 | elapsed:    0.9s finished\n",
      "\n",
      "[2018-03-25 16:07:32] Features: 3/3 -- score: -0.162801688204"
     ]
    },
    {
     "data": {
      "text/plain": [
       "SequentialFeatureSelector(clone_estimator=True, cv=5,\n",
       "             estimator=LogisticRegression(C=1.0, class_weight=None, dual=False, fit_intercept=True,\n",
       "          intercept_scaling=1, max_iter=100, multi_class='ovr', n_jobs=1,\n",
       "          penalty='l2', random_state=None, solver='liblinear', tol=0.0001,\n",
       "          verbose=0, warm_start=False),\n",
       "             floating=False, forward=False, k_features=3, n_jobs=-1,\n",
       "             pre_dispatch='2*n_jobs', scoring='neg_log_loss', verbose=2)"
      ]
     },
     "execution_count": 339,
     "metadata": {},
     "output_type": "execute_result"
    }
   ],
   "source": [
    "# Install mlxtend\n",
    "from mlxtend.feature_selection import SequentialFeatureSelector\n",
    "\n",
    "selector = SequentialFeatureSelector(LogisticRegression(), scoring='neg_log_loss', \n",
    "                                     verbose=2, k_features=3, forward=False, n_jobs=-1)\n",
    "\n",
    "selector.fit(x_data, y_data)"
   ]
  },
  {
   "cell_type": "code",
   "execution_count": 345,
   "metadata": {},
   "outputs": [
    {
     "name": "stdout",
     "output_type": "stream",
     "text": [
      "best combination (ACC: -0.546): (4, 14, 18)\n",
      "\n",
      "all subsets:\n",
      " {20: {'feature_idx': (0, 1, 2, 3, 4, 5, 6, 7, 8, 9, 10, 11, 12, 13, 14, 15, 16, 17, 18, 19), 'cv_scores': array([-1.7993162 , -1.84490802, -3.64727343, -0.10845472, -0.1864871 ]), 'avg_score': -1.5172878945080925}, 19: {'feature_idx': (0, 1, 2, 3, 4, 6, 7, 8, 9, 10, 11, 12, 13, 14, 15, 16, 17, 18, 19), 'cv_scores': array([-0.27222702, -0.2969278 , -0.46192759, -0.20375615, -0.11576384]), 'avg_score': -0.27012048184493265}, 18: {'feature_idx': (0, 1, 2, 3, 4, 6, 7, 8, 9, 11, 12, 13, 14, 15, 16, 17, 18, 19), 'cv_scores': array([-0.17595105, -0.29491896, -0.37643122, -0.13988515, -0.21303852]), 'avg_score': -0.24004497953156151}, 17: {'feature_idx': (0, 1, 2, 3, 4, 7, 8, 9, 11, 12, 13, 14, 15, 16, 17, 18, 19), 'cv_scores': array([-0.37642182, -0.44777764, -0.46216174, -0.37278505, -0.23092869]), 'avg_score': -0.37801498883571838}, 16: {'feature_idx': (0, 1, 2, 3, 4, 7, 8, 9, 11, 12, 13, 14, 15, 16, 18, 19), 'cv_scores': array([-0.39505238, -0.29491896, -0.45265665, -0.23942364, -0.17493152]), 'avg_score': -0.31139663151471642}, 15: {'feature_idx': (0, 1, 2, 3, 4, 7, 8, 9, 11, 12, 14, 15, 16, 18, 19), 'cv_scores': array([-0.29131445, -0.42041797, -0.50436034, -0.18875092, -0.23494304]), 'avg_score': -0.32795734519710174}, 14: {'feature_idx': (0, 1, 2, 4, 7, 8, 9, 11, 12, 14, 15, 16, 18, 19), 'cv_scores': array([-0.3190517 , -0.3024602 , -0.43173001, -0.20150376, -0.20981159]), 'avg_score': -0.29291145348424985}, 13: {'feature_idx': (0, 1, 2, 4, 7, 8, 9, 11, 12, 14, 15, 16, 18), 'cv_scores': array([-0.2432717 , -0.29390882, -0.41069017, -0.16038112, -0.22380669]), 'avg_score': -0.26641169976851398}, 12: {'feature_idx': (0, 1, 2, 4, 7, 8, 9, 11, 12, 14, 16, 18), 'cv_scores': array([-0.27812761, -0.30121795, -0.39305831, -0.17658361, -0.29475267]), 'avg_score': -0.28874802813583272}, 11: {'feature_idx': (0, 1, 2, 4, 7, 8, 9, 11, 12, 14, 18), 'cv_scores': array([-0.21302709, -0.25643438, -0.40377005, -0.16399706, -0.29146932]), 'avg_score': -0.26573957849069024}, 10: {'feature_idx': (0, 1, 4, 7, 8, 9, 11, 12, 14, 18), 'cv_scores': array([-0.22719991, -0.32596038, -0.40071882, -0.12895069, -0.10601521]), 'avg_score': -0.23776900051492564}, 9: {'feature_idx': (1, 4, 7, 8, 9, 11, 12, 14, 18), 'cv_scores': array([-0.34480427, -0.23756967, -0.4025278 , -0.12612217, -0.15019848]), 'avg_score': -0.25224447712005221}, 8: {'feature_idx': (1, 4, 7, 8, 9, 11, 14, 18), 'cv_scores': array([-0.29741489, -0.34662265, -0.46782817, -0.22851001, -0.11899077]), 'avg_score': -0.29187329926032168}, 7: {'feature_idx': (1, 4, 7, 8, 9, 14, 18), 'cv_scores': array([-0.29939957, -0.20190217, -0.4942133 , -0.23513016, -0.17759374]), 'avg_score': -0.28164778762675391}, 6: {'feature_idx': (1, 4, 7, 8, 14, 18), 'cv_scores': array([-0.19804269, -0.17877957, -2.09668407, -0.18404759, -0.13320858]), 'avg_score': -0.55815250037202113}, 5: {'feature_idx': (4, 7, 8, 14, 18), 'cv_scores': array([-0.17510721, -0.25767663, -0.37399171, -0.09547916, -0.12141885]), 'avg_score': -0.20473470980499497}, 4: {'feature_idx': (4, 7, 14, 18), 'cv_scores': array([-0.10499364, -0.22744345, -2.05103379, -0.17131558, -0.20331072]), 'avg_score': -0.5516194370488805}, 3: {'feature_idx': (4, 14, 18), 'cv_scores': array([-0.14877851, -0.19215354, -2.12788035, -0.07560431, -0.18790708]), 'avg_score': -0.5464647574844248}}\n"
     ]
    },
    {
     "data": {
      "image/png": "[encoded data removed]",
      "text/plain": [
       "<matplotlib.figure.Figure at 0x23045d0ae80>"
      ]
     },
     "metadata": {},
     "output_type": "display_data"
    }
   ],
   "source": [
    "from mlxtend.plotting import plot_sequential_feature_selection as plot_sfs\n",
    "print('best combination (ACC: %.3f): %s\\n' % (selector2.k_score_, selector2.k_feature_idx_))\n",
    "print('all subsets:\\n', selector2.subsets_)\n",
    "plot_sfs(selector2.get_metric_dict(), kind='std_err');"
   ]
  },
  {
   "cell_type": "code",
   "execution_count": 343,
   "metadata": {},
   "outputs": [
    {
     "name": "stdout",
     "output_type": "stream",
     "text": [
      "best combination (ACC: -0.163): (9, 14, 19)\n",
      "\n",
      "all subsets:\n",
      " {20: {'feature_idx': (0, 1, 2, 3, 4, 5, 6, 7, 8, 9, 10, 11, 12, 13, 14, 15, 16, 17, 18, 19), 'cv_scores': array([-0.23428566, -0.22113873, -0.4567555 , -0.05919857, -0.21177748]), 'avg_score': -0.2366311864290101}, 19: {'feature_idx': (0, 1, 2, 3, 4, 5, 6, 7, 8, 9, 10, 11, 13, 14, 15, 16, 17, 18, 19), 'cv_scores': array([-0.21231644, -0.22930944, -0.46087816, -0.06238578, -0.11741131]), 'avg_score': -0.21646022691450142}, 18: {'feature_idx': (0, 1, 3, 4, 5, 6, 7, 8, 9, 10, 11, 13, 14, 15, 16, 17, 18, 19), 'cv_scores': array([-0.16154851, -0.21141464, -0.45855208, -0.06382335, -0.11989296]), 'avg_score': -0.20304630592163875}, 17: {'feature_idx': (0, 1, 3, 4, 5, 6, 7, 9, 10, 11, 13, 14, 15, 16, 17, 18, 19), 'cv_scores': array([-0.12536822, -0.21311101, -0.43324845, -0.05971753, -0.12077613]), 'avg_score': -0.19044426492441552}, 16: {'feature_idx': (1, 3, 4, 5, 6, 7, 9, 10, 11, 13, 14, 15, 16, 17, 18, 19), 'cv_scores': array([-0.12544173, -0.2105761 , -0.41191743, -0.0589792 , -0.11091486]), 'avg_score': -0.18356586363507521}, 15: {'feature_idx': (3, 4, 5, 6, 7, 9, 10, 11, 13, 14, 15, 16, 17, 18, 19), 'cv_scores': array([-0.12483702, -0.20457408, -0.38131905, -0.05908667, -0.11045779]), 'avg_score': -0.17605491997936698}, 14: {'feature_idx': (3, 4, 5, 6, 7, 9, 10, 11, 13, 14, 15, 17, 18, 19), 'cv_scores': array([-0.12642407, -0.19836174, -0.38272694, -0.06139666, -0.08103404]), 'avg_score': -0.16998868861620361}, 13: {'feature_idx': (3, 4, 5, 6, 7, 9, 10, 11, 14, 15, 17, 18, 19), 'cv_scores': array([-0.10558529, -0.1912014 , -0.38020344, -0.0617982 , -0.0813909 ]), 'avg_score': -0.16403584659749101}, 12: {'feature_idx': (4, 5, 6, 7, 9, 10, 11, 14, 15, 17, 18, 19), 'cv_scores': array([-0.09338302, -0.21021954, -0.36917944, -0.06309241, -0.07065438]), 'avg_score': -0.16130575796809302}, 11: {'feature_idx': (4, 5, 6, 7, 9, 10, 14, 15, 17, 18, 19), 'cv_scores': array([-0.10551241, -0.17668192, -0.37579777, -0.0525522 , -0.08133054]), 'avg_score': -0.15837496869475176}, 10: {'feature_idx': (5, 6, 7, 9, 10, 14, 15, 17, 18, 19), 'cv_scores': array([-0.09856273, -0.17728763, -0.37690378, -0.05253682, -0.077535  ]), 'avg_score': -0.15656519234219643}, 9: {'feature_idx': (5, 6, 7, 9, 10, 14, 17, 18, 19), 'cv_scores': array([-0.0990778 , -0.17534161, -0.37581746, -0.04720949, -0.07804028]), 'avg_score': -0.1550973273073418}, 8: {'feature_idx': (5, 6, 7, 9, 10, 14, 18, 19), 'cv_scores': array([-0.09978351, -0.17025313, -0.373201  , -0.04964933, -0.07520203]), 'avg_score': -0.153617801137855}, 7: {'feature_idx': (5, 6, 7, 9, 14, 18, 19), 'cv_scores': array([-0.09995093, -0.16691774, -0.3720047 , -0.049625  , -0.075374  ]), 'avg_score': -0.15277447478573242}, 6: {'feature_idx': (5, 6, 9, 14, 18, 19), 'cv_scores': array([-0.09441715, -0.17117202, -0.37598958, -0.04969558, -0.07851772]), 'avg_score': -0.15395841017323378}, 5: {'feature_idx': (5, 6, 9, 14, 19), 'cv_scores': array([-0.10637859, -0.19109882, -0.33914886, -0.06304501, -0.07630383]), 'avg_score': -0.15519502446975167}, 4: {'feature_idx': (6, 9, 14, 19), 'cv_scores': array([-0.12099312, -0.1840501 , -0.32778925, -0.0747413 , -0.08209251]), 'avg_score': -0.15793325730584934}, 3: {'feature_idx': (9, 14, 19), 'cv_scores': array([-0.11902273, -0.19305217, -0.33220858, -0.07948906, -0.09023589]), 'avg_score': -0.16280168820353566}}\n"
     ]
    },
    {
     "data": {
      "image/png": "[encoded data removed]",
      "text/plain": [
       "<matplotlib.figure.Figure at 0x2304f9f2fd0>"
      ]
     },
     "metadata": {},
     "output_type": "display_data"
    }
   ],
   "source": [
    "from mlxtend.plotting import plot_sequential_feature_selection as plot_sfs\n",
    "sfs1 = selector\n",
    "print('best combination (ACC: %.3f): %s\\n' % (sfs1.k_score_, sfs1.k_feature_idx_))\n",
    "print('all subsets:\\n', sfs1.subsets_)\n",
    "plot_sfs(sfs1.get_metric_dict(), kind='std_err');"
   ]
  },
  {
   "cell_type": "code",
   "execution_count": 340,
   "metadata": {},
   "outputs": [
    {
     "data": {
      "text/plain": [
       "{3: {'avg_score': -0.16280168820353566,\n",
       "  'cv_scores': array([-0.11902273, -0.19305217, -0.33220858, -0.07948906, -0.09023589]),\n",
       "  'feature_idx': (9, 14, 19)},\n",
       " 4: {'avg_score': -0.15793325730584934,\n",
       "  'cv_scores': array([-0.12099312, -0.1840501 , -0.32778925, -0.0747413 , -0.08209251]),\n",
       "  'feature_idx': (6, 9, 14, 19)},\n",
       " 5: {'avg_score': -0.15519502446975167,\n",
       "  'cv_scores': array([-0.10637859, -0.19109882, -0.33914886, -0.06304501, -0.07630383]),\n",
       "  'feature_idx': (5, 6, 9, 14, 19)},\n",
       " 6: {'avg_score': -0.15395841017323378,\n",
       "  'cv_scores': array([-0.09441715, -0.17117202, -0.37598958, -0.04969558, -0.07851772]),\n",
       "  'feature_idx': (5, 6, 9, 14, 18, 19)},\n",
       " 7: {'avg_score': -0.15277447478573242,\n",
       "  'cv_scores': array([-0.09995093, -0.16691774, -0.3720047 , -0.049625  , -0.075374  ]),\n",
       "  'feature_idx': (5, 6, 7, 9, 14, 18, 19)},\n",
       " 8: {'avg_score': -0.153617801137855,\n",
       "  'cv_scores': array([-0.09978351, -0.17025313, -0.373201  , -0.04964933, -0.07520203]),\n",
       "  'feature_idx': (5, 6, 7, 9, 10, 14, 18, 19)},\n",
       " 9: {'avg_score': -0.1550973273073418,\n",
       "  'cv_scores': array([-0.0990778 , -0.17534161, -0.37581746, -0.04720949, -0.07804028]),\n",
       "  'feature_idx': (5, 6, 7, 9, 10, 14, 17, 18, 19)},\n",
       " 10: {'avg_score': -0.15656519234219643,\n",
       "  'cv_scores': array([-0.09856273, -0.17728763, -0.37690378, -0.05253682, -0.077535  ]),\n",
       "  'feature_idx': (5, 6, 7, 9, 10, 14, 15, 17, 18, 19)},\n",
       " 11: {'avg_score': -0.15837496869475176,\n",
       "  'cv_scores': array([-0.10551241, -0.17668192, -0.37579777, -0.0525522 , -0.08133054]),\n",
       "  'feature_idx': (4, 5, 6, 7, 9, 10, 14, 15, 17, 18, 19)},\n",
       " 12: {'avg_score': -0.16130575796809302,\n",
       "  'cv_scores': array([-0.09338302, -0.21021954, -0.36917944, -0.06309241, -0.07065438]),\n",
       "  'feature_idx': (4, 5, 6, 7, 9, 10, 11, 14, 15, 17, 18, 19)},\n",
       " 13: {'avg_score': -0.16403584659749101,\n",
       "  'cv_scores': array([-0.10558529, -0.1912014 , -0.38020344, -0.0617982 , -0.0813909 ]),\n",
       "  'feature_idx': (3, 4, 5, 6, 7, 9, 10, 11, 14, 15, 17, 18, 19)},\n",
       " 14: {'avg_score': -0.16998868861620361,\n",
       "  'cv_scores': array([-0.12642407, -0.19836174, -0.38272694, -0.06139666, -0.08103404]),\n",
       "  'feature_idx': (3, 4, 5, 6, 7, 9, 10, 11, 13, 14, 15, 17, 18, 19)},\n",
       " 15: {'avg_score': -0.17605491997936698,\n",
       "  'cv_scores': array([-0.12483702, -0.20457408, -0.38131905, -0.05908667, -0.11045779]),\n",
       "  'feature_idx': (3, 4, 5, 6, 7, 9, 10, 11, 13, 14, 15, 16, 17, 18, 19)},\n",
       " 16: {'avg_score': -0.18356586363507521,\n",
       "  'cv_scores': array([-0.12544173, -0.2105761 , -0.41191743, -0.0589792 , -0.11091486]),\n",
       "  'feature_idx': (1, 3, 4, 5, 6, 7, 9, 10, 11, 13, 14, 15, 16, 17, 18, 19)},\n",
       " 17: {'avg_score': -0.19044426492441552,\n",
       "  'cv_scores': array([-0.12536822, -0.21311101, -0.43324845, -0.05971753, -0.12077613]),\n",
       "  'feature_idx': (0, 1, 3, 4, 5, 6, 7, 9, 10, 11, 13, 14, 15, 16, 17, 18, 19)},\n",
       " 18: {'avg_score': -0.20304630592163875,\n",
       "  'cv_scores': array([-0.16154851, -0.21141464, -0.45855208, -0.06382335, -0.11989296]),\n",
       "  'feature_idx': (0,\n",
       "   1,\n",
       "   3,\n",
       "   4,\n",
       "   5,\n",
       "   6,\n",
       "   7,\n",
       "   8,\n",
       "   9,\n",
       "   10,\n",
       "   11,\n",
       "   13,\n",
       "   14,\n",
       "   15,\n",
       "   16,\n",
       "   17,\n",
       "   18,\n",
       "   19)},\n",
       " 19: {'avg_score': -0.21646022691450142,\n",
       "  'cv_scores': array([-0.21231644, -0.22930944, -0.46087816, -0.06238578, -0.11741131]),\n",
       "  'feature_idx': (0,\n",
       "   1,\n",
       "   2,\n",
       "   3,\n",
       "   4,\n",
       "   5,\n",
       "   6,\n",
       "   7,\n",
       "   8,\n",
       "   9,\n",
       "   10,\n",
       "   11,\n",
       "   13,\n",
       "   14,\n",
       "   15,\n",
       "   16,\n",
       "   17,\n",
       "   18,\n",
       "   19)},\n",
       " 20: {'avg_score': -0.2366311864290101,\n",
       "  'cv_scores': array([-0.23428566, -0.22113873, -0.4567555 , -0.05919857, -0.21177748]),\n",
       "  'feature_idx': (0,\n",
       "   1,\n",
       "   2,\n",
       "   3,\n",
       "   4,\n",
       "   5,\n",
       "   6,\n",
       "   7,\n",
       "   8,\n",
       "   9,\n",
       "   10,\n",
       "   11,\n",
       "   12,\n",
       "   13,\n",
       "   14,\n",
       "   15,\n",
       "   16,\n",
       "   17,\n",
       "   18,\n",
       "   19)}}"
      ]
     },
     "execution_count": 340,
     "metadata": {},
     "output_type": "execute_result"
    }
   ],
   "source": [
    "selector.subsets_"
   ]
  },
  {
   "cell_type": "markdown",
   "metadata": {},
   "source": [
    "По графику и просто глазами видим лучший кейс:\n",
    "`7: {'avg_score': -0.15277447478573242,\n",
    "  'cv_scores': array([-0.09995093, -0.16691774, -0.3720047 , -0.049625  , -0.075374  ]),\n",
    "  'feature_idx': (5, 6, 7, 9, 14, 18, 19)},`"
   ]
  },
  {
   "cell_type": "code",
   "execution_count": 341,
   "metadata": {},
   "outputs": [
    {
     "data": {
      "text/plain": [
       "(9, 14, 19)"
      ]
     },
     "execution_count": 341,
     "metadata": {},
     "output_type": "execute_result"
    }
   ],
   "source": [
    "selector.k_feature_idx_"
   ]
  },
  {
   "cell_type": "code",
   "execution_count": 346,
   "metadata": {},
   "outputs": [
    {
     "data": {
      "text/plain": [
       "SequentialFeatureSelector(clone_estimator=True, cv=5,\n",
       "             estimator=LogisticRegression(C=1.0, class_weight=None, dual=False, fit_intercept=True,\n",
       "          intercept_scaling=1, max_iter=100, multi_class='ovr', n_jobs=1,\n",
       "          penalty='l2', random_state=None, solver='liblinear', tol=0.0001,\n",
       "          verbose=0, warm_start=False),\n",
       "             floating=False, forward=False, k_features=7, n_jobs=-1,\n",
       "             pre_dispatch='2*n_jobs', scoring='neg_log_loss', verbose=0)"
      ]
     },
     "execution_count": 346,
     "metadata": {},
     "output_type": "execute_result"
    }
   ],
   "source": [
    "# Install mlxtend\n",
    "from mlxtend.feature_selection import SequentialFeatureSelector\n",
    "\n",
    "selector = SequentialFeatureSelector(LogisticRegression(), scoring='neg_log_loss', \n",
    "                                     k_features=7, forward=False, n_jobs=-1)\n",
    "\n",
    "selector.fit(x_data, y_data)"
   ]
  },
  {
   "cell_type": "code",
   "execution_count": 347,
   "metadata": {},
   "outputs": [
    {
     "name": "stdout",
     "output_type": "stream",
     "text": [
      "best combination (ACC: -0.153): (5, 6, 7, 9, 14, 18, 19)\n",
      "\n"
     ]
    },
    {
     "data": {
      "image/png": "[encoded data removed]",
      "text/plain": [
       "<matplotlib.figure.Figure at 0x2304fca27f0>"
      ]
     },
     "metadata": {},
     "output_type": "display_data"
    }
   ],
   "source": [
    "print('best combination (ACC: %.3f): %s\\n' % (selector.k_score_, selector.k_feature_idx_))\n",
    "plot_sfs(selector.get_metric_dict(), kind='std_err');"
   ]
  },
  {
   "cell_type": "code",
   "execution_count": 39,
   "metadata": {
    "ExecuteTime": {
     "end_time": "2018-03-15T14:06:44.047841Z",
     "start_time": "2018-03-15T14:06:36.096849Z"
    }
   },
   "outputs": [
    {
     "name": "stderr",
     "output_type": "stream",
     "text": [
      "[Parallel(n_jobs=-1)]: Done   5 out of  20 | elapsed:    0.0s remaining:    0.1s\n",
      "[Parallel(n_jobs=-1)]: Done  16 out of  20 | elapsed:    0.1s remaining:    0.0s\n",
      "[Parallel(n_jobs=-1)]: Done  20 out of  20 | elapsed:    0.1s finished\n",
      "\n",
      "[2018-03-15 14:06:36] Features: 19/3 -- score: -0.291776207828[Parallel(n_jobs=-1)]: Done   4 out of  19 | elapsed:    0.0s remaining:    0.1s\n",
      "[Parallel(n_jobs=-1)]: Done  14 out of  19 | elapsed:    0.0s remaining:    0.0s\n",
      "[Parallel(n_jobs=-1)]: Done  19 out of  19 | elapsed:    0.1s finished\n",
      "\n",
      "[2018-03-15 14:06:37] Features: 18/3 -- score: -0.271655018865[Parallel(n_jobs=-1)]: Done   3 out of  18 | elapsed:    0.0s remaining:    0.2s\n",
      "[Parallel(n_jobs=-1)]: Done  13 out of  18 | elapsed:    0.1s remaining:    0.0s\n",
      "[Parallel(n_jobs=-1)]: Done  18 out of  18 | elapsed:    0.1s finished\n",
      "\n",
      "[2018-03-15 14:06:37] Features: 17/3 -- score: -0.256889533289[Parallel(n_jobs=-1)]: Done  11 out of  17 | elapsed:    0.0s remaining:    0.0s\n",
      "[Parallel(n_jobs=-1)]: Done  17 out of  17 | elapsed:    0.1s finished\n",
      "\n",
      "[2018-03-15 14:06:38] Features: 16/3 -- score: -0.248098125416[Parallel(n_jobs=-1)]: Done  10 out of  16 | elapsed:    0.0s remaining:    0.0s\n",
      "[Parallel(n_jobs=-1)]: Done  16 out of  16 | elapsed:    0.0s finished\n",
      "\n",
      "[2018-03-15 14:06:38] Features: 15/3 -- score: -0.243299937614[Parallel(n_jobs=-1)]: Done   8 out of  15 | elapsed:    0.0s remaining:    0.0s\n",
      "[Parallel(n_jobs=-1)]: Done  15 out of  15 | elapsed:    0.0s finished\n",
      "\n",
      "[2018-03-15 14:06:39] Features: 14/3 -- score: -0.241939851507[Parallel(n_jobs=-1)]: Done   7 out of  14 | elapsed:    0.0s remaining:    0.0s\n",
      "[Parallel(n_jobs=-1)]: Done  14 out of  14 | elapsed:    0.0s finished\n",
      "\n",
      "[2018-03-15 14:06:39] Features: 13/3 -- score: -0.241132677358[Parallel(n_jobs=-1)]: Done   5 out of  13 | elapsed:    0.0s remaining:    0.0s\n",
      "[Parallel(n_jobs=-1)]: Done  13 out of  13 | elapsed:    0.0s finished\n",
      "\n",
      "[2018-03-15 14:06:40] Features: 12/3 -- score: -0.240765607901[Parallel(n_jobs=-1)]: Done   4 out of  12 | elapsed:    0.0s remaining:    0.0s\n",
      "[Parallel(n_jobs=-1)]: Done  12 out of  12 | elapsed:    0.0s finished\n",
      "\n",
      "[2018-03-15 14:06:40] Features: 11/3 -- score: -0.24128493009[Parallel(n_jobs=-1)]: Done   2 out of  11 | elapsed:    0.0s remaining:    0.1s\n",
      "[Parallel(n_jobs=-1)]: Done   8 out of  11 | elapsed:    0.0s remaining:    0.0s\n",
      "[Parallel(n_jobs=-1)]: Done  11 out of  11 | elapsed:    0.1s finished\n",
      "\n",
      "[2018-03-15 14:06:41] Features: 10/3 -- score: -0.24153866336[Parallel(n_jobs=-1)]: Done   7 out of  10 | elapsed:    0.0s remaining:    0.0s\n",
      "[Parallel(n_jobs=-1)]: Done  10 out of  10 | elapsed:    0.0s finished\n",
      "\n",
      "[2018-03-15 14:06:41] Features: 9/3 -- score: -0.242853953338[Parallel(n_jobs=-1)]: Done   4 out of   9 | elapsed:    0.0s remaining:    0.0s\n",
      "[Parallel(n_jobs=-1)]: Done   9 out of   9 | elapsed:    0.0s remaining:    0.0s\n",
      "[Parallel(n_jobs=-1)]: Done   9 out of   9 | elapsed:    0.0s finished\n",
      "\n",
      "[2018-03-15 14:06:41] Features: 8/3 -- score: -0.243230001494[Parallel(n_jobs=-1)]: Done   3 out of   8 | elapsed:    0.0s remaining:    0.0s\n",
      "[Parallel(n_jobs=-1)]: Done   8 out of   8 | elapsed:    0.0s remaining:    0.0s\n",
      "[Parallel(n_jobs=-1)]: Done   8 out of   8 | elapsed:    0.0s finished\n",
      "\n",
      "[2018-03-15 14:06:42] Features: 7/3 -- score: -0.244929499096[Parallel(n_jobs=-1)]: Done   4 out of   7 | elapsed:    0.0s remaining:    0.0s\n",
      "[Parallel(n_jobs=-1)]: Done   7 out of   7 | elapsed:    0.0s finished\n",
      "\n",
      "[2018-03-15 14:06:42] Features: 6/3 -- score: -0.251114932854[Parallel(n_jobs=-1)]: Done   3 out of   6 | elapsed:    0.0s remaining:    0.0s\n",
      "[Parallel(n_jobs=-1)]: Done   6 out of   6 | elapsed:    0.0s finished\n",
      "\n",
      "[2018-03-15 14:06:43] Features: 5/3 -- score: -0.248498480652[Parallel(n_jobs=-1)]: Done   2 out of   5 | elapsed:    0.0s remaining:    0.0s\n",
      "[Parallel(n_jobs=-1)]: Done   5 out of   5 | elapsed:    0.0s remaining:    0.0s\n",
      "[Parallel(n_jobs=-1)]: Done   5 out of   5 | elapsed:    0.0s finished\n",
      "\n",
      "[2018-03-15 14:06:43] Features: 4/3 -- score: -0.258172137833[Parallel(n_jobs=-1)]: Done   4 out of   4 | elapsed:    0.0s remaining:    0.0s\n",
      "[Parallel(n_jobs=-1)]: Done   4 out of   4 | elapsed:    0.0s finished\n",
      "\n",
      "[2018-03-15 14:06:44] Features: 3/3 -- score: -0.266457845055"
     ]
    },
    {
     "data": {
      "text/plain": [
       "SequentialFeatureSelector(clone_estimator=True, cv=5,\n",
       "             estimator=LogisticRegression(C=1.0, class_weight=None, dual=False, fit_intercept=True,\n",
       "          intercept_scaling=1, max_iter=100, multi_class='ovr', n_jobs=1,\n",
       "          penalty='l2', random_state=None, solver='liblinear', tol=0.0001,\n",
       "          verbose=0, warm_start=False),\n",
       "             floating=False, forward=False, k_features=3, n_jobs=-1,\n",
       "             pre_dispatch='2*n_jobs', scoring='neg_log_loss', verbose=2)"
      ]
     },
     "execution_count": 39,
     "metadata": {},
     "output_type": "execute_result"
    }
   ],
   "source": [
    "# Install mlxtend\n",
    "from mlxtend.feature_selection import SequentialFeatureSelector\n",
    "\n",
    "selector = SequentialFeatureSelector(LogisticRegression(), scoring='neg_log_loss', \n",
    "                                     verbose=2, k_features=3, forward=False, n_jobs=-1)\n",
    "\n",
    "selector.fit(x_data, y_data)"
   ]
  },
  {
   "cell_type": "markdown",
   "metadata": {},
   "source": [
    "Take a look how this approach was done in one [simple yet elegant Kaggle kernel](https://www.kaggle.com/arsenyinfo/easy-feature-selection-pipeline-0-55-at-lb)."
   ]
  }
 ],
 "metadata": {
  "kernelspec": {
   "display_name": "Python 3",
   "language": "python",
   "name": "python3"
  },
  "language_info": {
   "codemirror_mode": {
    "name": "ipython",
    "version": 3
   },
   "file_extension": ".py",
   "mimetype": "text/x-python",
   "name": "python",
   "nbconvert_exporter": "python",
   "pygments_lexer": "ipython3",
   "version": "3.6.3"
  },
  "toc": {
   "nav_menu": {},
   "number_sections": true,
   "sideBar": true,
   "skip_h1_title": false,
   "title_cell": "Table of Contents",
   "title_sidebar": "Contents",
   "toc_cell": false,
   "toc_position": {},
   "toc_section_display": true,
   "toc_window_display": false
  }
 },
 "nbformat": 4,
 "nbformat_minor": 2
}
